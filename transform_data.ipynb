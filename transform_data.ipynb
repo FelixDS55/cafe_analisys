{
 "cells": [
  {
   "cell_type": "code",
   "execution_count": 1,
   "metadata": {
    "executionInfo": {
     "elapsed": 1724,
     "status": "ok",
     "timestamp": 1732687427669,
     "user": {
      "displayName": "Михаил",
      "userId": "04785763129782449462"
     },
     "user_tz": -180
    },
    "id": "vpYFjHn4LrXv"
   },
   "outputs": [],
   "source": [
    "import pandas as pd\n",
    "import sqlite3\n",
    "import numpy as np\n",
    "import matplotlib.pyplot as plt\n",
    "import sqlite3"
   ]
  },
  {
   "cell_type": "code",
   "execution_count": 2,
   "metadata": {},
   "outputs": [],
   "source": [
    "con = sqlite3.connect(r'C:\\projects\\Cafe\\cafe.db')"
   ]
  },
  {
   "cell_type": "code",
   "execution_count": 3,
   "metadata": {
    "colab": {
     "base_uri": "https://localhost:8080/",
     "height": 0
    },
    "executionInfo": {
     "elapsed": 847,
     "status": "error",
     "timestamp": 1732703144879,
     "user": {
      "displayName": "Михаил",
      "userId": "04785763129782449462"
     },
     "user_tz": -180
    },
    "id": "8iTypirWDjiD",
    "outputId": "fb4fae9b-c2be-4952-9e64-ab1e55d9c8f2"
   },
   "outputs": [],
   "source": [
    "pd.set_option('display.float_format', '{:.2f}'.format)\n",
    "pd.set_option('display.float_format', '{:,.2f}'.format)\n",
    "pd.set_option('display.max_columns', None)"
   ]
  },
  {
   "cell_type": "code",
   "execution_count": 4,
   "metadata": {
    "executionInfo": {
     "elapsed": 2,
     "status": "ok",
     "timestamp": 1732687427670,
     "user": {
      "displayName": "Михаил",
      "userId": "04785763129782449462"
     },
     "user_tz": -180
    },
    "id": "Q-gseFWXg0V0"
   },
   "outputs": [],
   "source": [
    "df = pd.read_sql(\"select * from cafe_all_time\", con)"
   ]
  },
  {
   "cell_type": "code",
   "execution_count": 5,
   "metadata": {},
   "outputs": [],
   "source": [
    "df = df.rename(columns={'Group': 'group', 'On-Group': 'on-group'})"
   ]
  },
  {
   "cell_type": "code",
   "execution_count": 6,
   "metadata": {
    "executionInfo": {
     "elapsed": 206,
     "status": "ok",
     "timestamp": 1732689153372,
     "user": {
      "displayName": "Михаил",
      "userId": "04785763129782449462"
     },
     "user_tz": -180
    },
    "id": "jKn1vylHT5bk"
   },
   "outputs": [],
   "source": [
    "conditions = [\n",
    "    df['Mnth'].isin(['Март', 'Апрель', 'Май']),\n",
    "    df['Mnth'].isin(['Июнь', 'Июль', 'Август']),\n",
    "    df['Mnth'].isin(['Сентябрь', 'Октябрь', 'Ноябрь']),\n",
    "    df['Mnth'].isin(['Декабрь', 'Январь', 'Февраль']),\n",
    "]\n",
    "choices = ['Весна', 'Лето', 'Осень', 'Зима']"
   ]
  },
  {
   "cell_type": "code",
   "execution_count": 7,
   "metadata": {
    "executionInfo": {
     "elapsed": 235,
     "status": "ok",
     "timestamp": 1732689318765,
     "user": {
      "displayName": "Михаил",
      "userId": "04785763129782449462"
     },
     "user_tz": -180
    },
    "id": "b18zLp5KMlZo"
   },
   "outputs": [],
   "source": [
    "df['seasons'] = np.select(conditions, choices)"
   ]
  },
  {
   "cell_type": "code",
   "execution_count": 8,
   "metadata": {
    "executionInfo": {
     "elapsed": 206,
     "status": "ok",
     "timestamp": 1732689355693,
     "user": {
      "displayName": "Михаил",
      "userId": "04785763129782449462"
     },
     "user_tz": -180
    },
    "id": "rI6sRxfAVQRk"
   },
   "outputs": [],
   "source": [
    "df['seasons'] = df['seasons'].astype('category')"
   ]
  },
  {
   "cell_type": "code",
   "execution_count": 9,
   "metadata": {},
   "outputs": [],
   "source": [
    "df['datetime'] = pd.to_datetime(df['datetime'])"
   ]
  },
  {
   "cell_type": "code",
   "execution_count": 10,
   "metadata": {},
   "outputs": [],
   "source": [
    "day_order = ['Понедельник', 'Вторник', 'Среда', 'Четверг', 'Пятница', 'Суббота', 'Воскресенье']"
   ]
  },
  {
   "cell_type": "code",
   "execution_count": 11,
   "metadata": {},
   "outputs": [],
   "source": [
    "df['day'] = df['datetime'].dt.day_name(locale='ru_Ru')"
   ]
  },
  {
   "cell_type": "code",
   "execution_count": 12,
   "metadata": {},
   "outputs": [],
   "source": [
    "df['day'] = pd.Categorical(df['day'], categories=day_order, ordered=True)"
   ]
  },
  {
   "cell_type": "code",
   "execution_count": 13,
   "metadata": {},
   "outputs": [],
   "source": [
    "df['hour'] = df['datetime'].dt.hour"
   ]
  },
  {
   "cell_type": "code",
   "execution_count": 14,
   "metadata": {},
   "outputs": [],
   "source": [
    "df['date'] = df['datetime'].dt.date\n",
    "df['date'] = pd.to_datetime(df['date'])"
   ]
  },
  {
   "cell_type": "code",
   "execution_count": 15,
   "metadata": {},
   "outputs": [],
   "source": [
    "df['revenue'] = df['pr_bez_nds'] * df['amount']"
   ]
  },
  {
   "cell_type": "code",
   "execution_count": 16,
   "metadata": {},
   "outputs": [],
   "source": [
    "df['mnth'] = df['datetime'].dt.month_name(locale='ru_Ru')"
   ]
  },
  {
   "cell_type": "code",
   "execution_count": 17,
   "metadata": {},
   "outputs": [],
   "source": [
    "df = df.drop('Mnth', axis=1)"
   ]
  },
  {
   "cell_type": "code",
   "execution_count": 18,
   "metadata": {},
   "outputs": [],
   "source": [
    "month_order = ['Январь', 'Февраль', 'Март', 'Апрель', 'Май', 'Июнь', \n",
    "               'Июль', 'Август', 'Сентябрь', 'Октябрь', 'Ноябрь', 'Декабрь']"
   ]
  },
  {
   "cell_type": "code",
   "execution_count": 19,
   "metadata": {},
   "outputs": [],
   "source": [
    "df['mnth'] = pd.Categorical(df['mnth'], categories=month_order, ordered=True)"
   ]
  },
  {
   "cell_type": "code",
   "execution_count": 20,
   "metadata": {},
   "outputs": [
    {
     "data": {
      "text/html": [
       "<div>\n",
       "<style scoped>\n",
       "    .dataframe tbody tr th:only-of-type {\n",
       "        vertical-align: middle;\n",
       "    }\n",
       "\n",
       "    .dataframe tbody tr th {\n",
       "        vertical-align: top;\n",
       "    }\n",
       "\n",
       "    .dataframe thead th {\n",
       "        text-align: right;\n",
       "    }\n",
       "</style>\n",
       "<table border=\"1\" class=\"dataframe\">\n",
       "  <thead>\n",
       "    <tr style=\"text-align: right;\">\n",
       "      <th></th>\n",
       "      <th>rnm</th>\n",
       "      <th>num_check</th>\n",
       "      <th>datetime</th>\n",
       "      <th>time_eat</th>\n",
       "      <th>smena</th>\n",
       "      <th>good</th>\n",
       "      <th>total_chek</th>\n",
       "      <th>price</th>\n",
       "      <th>pr_bez_nds</th>\n",
       "      <th>avg_price</th>\n",
       "      <th>profit</th>\n",
       "      <th>amount</th>\n",
       "      <th>position_good</th>\n",
       "      <th>summa</th>\n",
       "      <th>payment</th>\n",
       "      <th>check_unique</th>\n",
       "      <th>group</th>\n",
       "      <th>on-group</th>\n",
       "      <th>seasons</th>\n",
       "      <th>day</th>\n",
       "      <th>hour</th>\n",
       "      <th>date</th>\n",
       "      <th>revenue</th>\n",
       "      <th>mnth</th>\n",
       "    </tr>\n",
       "  </thead>\n",
       "  <tbody>\n",
       "    <tr>\n",
       "      <th>0</th>\n",
       "      <td>6916860058096</td>\n",
       "      <td>92970</td>\n",
       "      <td>2024-01-09 08:06:00</td>\n",
       "      <td>Ранний завтрак</td>\n",
       "      <td>240</td>\n",
       "      <td>Яичница с беконом</td>\n",
       "      <td>181.00</td>\n",
       "      <td>45.00</td>\n",
       "      <td>37.50</td>\n",
       "      <td>22.95</td>\n",
       "      <td>14.55</td>\n",
       "      <td>1.00</td>\n",
       "      <td>1</td>\n",
       "      <td>181.00</td>\n",
       "      <td>card</td>\n",
       "      <td>92970 - 6916860058096</td>\n",
       "      <td>Завтрак</td>\n",
       "      <td>Яичница</td>\n",
       "      <td>Зима</td>\n",
       "      <td>Вторник</td>\n",
       "      <td>8</td>\n",
       "      <td>2024-01-09</td>\n",
       "      <td>37.50</td>\n",
       "      <td>Январь</td>\n",
       "    </tr>\n",
       "    <tr>\n",
       "      <th>1</th>\n",
       "      <td>6916860058096</td>\n",
       "      <td>92970</td>\n",
       "      <td>2024-01-09 08:06:00</td>\n",
       "      <td>Ранний завтрак</td>\n",
       "      <td>240</td>\n",
       "      <td>Сосиски отварные</td>\n",
       "      <td>181.00</td>\n",
       "      <td>65.00</td>\n",
       "      <td>54.17</td>\n",
       "      <td>23.78</td>\n",
       "      <td>30.39</td>\n",
       "      <td>1.00</td>\n",
       "      <td>2</td>\n",
       "      <td>181.00</td>\n",
       "      <td>card</td>\n",
       "      <td>92970 - 6916860058096</td>\n",
       "      <td>Основное блюдо</td>\n",
       "      <td>Колбаски разные</td>\n",
       "      <td>Зима</td>\n",
       "      <td>Вторник</td>\n",
       "      <td>8</td>\n",
       "      <td>2024-01-09</td>\n",
       "      <td>54.17</td>\n",
       "      <td>Январь</td>\n",
       "    </tr>\n",
       "    <tr>\n",
       "      <th>2</th>\n",
       "      <td>6916860058096</td>\n",
       "      <td>92970</td>\n",
       "      <td>2024-01-09 08:06:00</td>\n",
       "      <td>Ранний завтрак</td>\n",
       "      <td>240</td>\n",
       "      <td>Каша овсяная на молоке</td>\n",
       "      <td>181.00</td>\n",
       "      <td>65.00</td>\n",
       "      <td>54.17</td>\n",
       "      <td>13.75</td>\n",
       "      <td>40.42</td>\n",
       "      <td>1.00</td>\n",
       "      <td>3</td>\n",
       "      <td>181.00</td>\n",
       "      <td>card</td>\n",
       "      <td>92970 - 6916860058096</td>\n",
       "      <td>Завтрак</td>\n",
       "      <td>Каши</td>\n",
       "      <td>Зима</td>\n",
       "      <td>Вторник</td>\n",
       "      <td>8</td>\n",
       "      <td>2024-01-09</td>\n",
       "      <td>54.17</td>\n",
       "      <td>Январь</td>\n",
       "    </tr>\n",
       "    <tr>\n",
       "      <th>3</th>\n",
       "      <td>6916860058096</td>\n",
       "      <td>92970</td>\n",
       "      <td>2024-01-09 08:06:00</td>\n",
       "      <td>Ранний завтрак</td>\n",
       "      <td>240</td>\n",
       "      <td>Хлеб ржано-пшеничный</td>\n",
       "      <td>181.00</td>\n",
       "      <td>6.00</td>\n",
       "      <td>5.00</td>\n",
       "      <td>1.84</td>\n",
       "      <td>3.16</td>\n",
       "      <td>1.00</td>\n",
       "      <td>4</td>\n",
       "      <td>181.00</td>\n",
       "      <td>card</td>\n",
       "      <td>92970 - 6916860058096</td>\n",
       "      <td>Хлеб</td>\n",
       "      <td>Хлеб</td>\n",
       "      <td>Зима</td>\n",
       "      <td>Вторник</td>\n",
       "      <td>8</td>\n",
       "      <td>2024-01-09</td>\n",
       "      <td>5.00</td>\n",
       "      <td>Январь</td>\n",
       "    </tr>\n",
       "    <tr>\n",
       "      <th>4</th>\n",
       "      <td>6916860058096</td>\n",
       "      <td>92971</td>\n",
       "      <td>2024-01-09 08:07:00</td>\n",
       "      <td>Ранний завтрак</td>\n",
       "      <td>240</td>\n",
       "      <td>Каша рисовая на молоке</td>\n",
       "      <td>145.00</td>\n",
       "      <td>65.00</td>\n",
       "      <td>54.17</td>\n",
       "      <td>17.42</td>\n",
       "      <td>36.75</td>\n",
       "      <td>1.00</td>\n",
       "      <td>1</td>\n",
       "      <td>145.00</td>\n",
       "      <td>card</td>\n",
       "      <td>92971 - 6916860058096</td>\n",
       "      <td>Завтрак</td>\n",
       "      <td>Каши</td>\n",
       "      <td>Зима</td>\n",
       "      <td>Вторник</td>\n",
       "      <td>8</td>\n",
       "      <td>2024-01-09</td>\n",
       "      <td>54.17</td>\n",
       "      <td>Январь</td>\n",
       "    </tr>\n",
       "  </tbody>\n",
       "</table>\n",
       "</div>"
      ],
      "text/plain": [
       "             rnm  num_check            datetime        time_eat  smena  \\\n",
       "0  6916860058096      92970 2024-01-09 08:06:00  Ранний завтрак    240   \n",
       "1  6916860058096      92970 2024-01-09 08:06:00  Ранний завтрак    240   \n",
       "2  6916860058096      92970 2024-01-09 08:06:00  Ранний завтрак    240   \n",
       "3  6916860058096      92970 2024-01-09 08:06:00  Ранний завтрак    240   \n",
       "4  6916860058096      92971 2024-01-09 08:07:00  Ранний завтрак    240   \n",
       "\n",
       "                     good  total_chek  price  pr_bez_nds  avg_price  profit  \\\n",
       "0       Яичница с беконом      181.00  45.00       37.50      22.95   14.55   \n",
       "1        Сосиски отварные      181.00  65.00       54.17      23.78   30.39   \n",
       "2  Каша овсяная на молоке      181.00  65.00       54.17      13.75   40.42   \n",
       "3    Хлеб ржано-пшеничный      181.00   6.00        5.00       1.84    3.16   \n",
       "4  Каша рисовая на молоке      145.00  65.00       54.17      17.42   36.75   \n",
       "\n",
       "   amount  position_good  summa payment           check_unique  \\\n",
       "0    1.00              1 181.00    card  92970 - 6916860058096   \n",
       "1    1.00              2 181.00    card  92970 - 6916860058096   \n",
       "2    1.00              3 181.00    card  92970 - 6916860058096   \n",
       "3    1.00              4 181.00    card  92970 - 6916860058096   \n",
       "4    1.00              1 145.00    card  92971 - 6916860058096   \n",
       "\n",
       "            group         on-group seasons      day  hour       date  revenue  \\\n",
       "0         Завтрак          Яичница    Зима  Вторник     8 2024-01-09    37.50   \n",
       "1  Основное блюдо  Колбаски разные    Зима  Вторник     8 2024-01-09    54.17   \n",
       "2         Завтрак             Каши    Зима  Вторник     8 2024-01-09    54.17   \n",
       "3            Хлеб             Хлеб    Зима  Вторник     8 2024-01-09     5.00   \n",
       "4         Завтрак             Каши    Зима  Вторник     8 2024-01-09    54.17   \n",
       "\n",
       "     mnth  \n",
       "0  Январь  \n",
       "1  Январь  \n",
       "2  Январь  \n",
       "3  Январь  \n",
       "4  Январь  "
      ]
     },
     "execution_count": 20,
     "metadata": {},
     "output_type": "execute_result"
    }
   ],
   "source": [
    "df.head()"
   ]
  },
  {
   "cell_type": "code",
   "execution_count": 21,
   "metadata": {},
   "outputs": [
    {
     "name": "stdout",
     "output_type": "stream",
     "text": [
      "<class 'pandas.core.frame.DataFrame'>\n",
      "RangeIndex: 483044 entries, 0 to 483043\n",
      "Data columns (total 24 columns):\n",
      " #   Column         Non-Null Count   Dtype         \n",
      "---  ------         --------------   -----         \n",
      " 0   rnm            483044 non-null  int64         \n",
      " 1   num_check      483044 non-null  int64         \n",
      " 2   datetime       483044 non-null  datetime64[ns]\n",
      " 3   time_eat       483044 non-null  object        \n",
      " 4   smena          483044 non-null  int64         \n",
      " 5   good           483044 non-null  object        \n",
      " 6   total_chek     483044 non-null  float64       \n",
      " 7   price          483044 non-null  float64       \n",
      " 8   pr_bez_nds     483044 non-null  float64       \n",
      " 9   avg_price      483044 non-null  float64       \n",
      " 10  profit         483044 non-null  float64       \n",
      " 11  amount         483044 non-null  float64       \n",
      " 12  position_good  483044 non-null  int64         \n",
      " 13  summa          483044 non-null  float64       \n",
      " 14  payment        483044 non-null  object        \n",
      " 15  check_unique   483044 non-null  object        \n",
      " 16  group          483044 non-null  object        \n",
      " 17  on-group       483044 non-null  object        \n",
      " 18  seasons        483044 non-null  category      \n",
      " 19  day            483044 non-null  category      \n",
      " 20  hour           483044 non-null  int32         \n",
      " 21  date           483044 non-null  datetime64[ns]\n",
      " 22  revenue        483044 non-null  float64       \n",
      " 23  mnth           483044 non-null  category      \n",
      "dtypes: category(3), datetime64[ns](2), float64(8), int32(1), int64(4), object(6)\n",
      "memory usage: 76.9+ MB\n"
     ]
    }
   ],
   "source": [
    "df.info()"
   ]
  },
  {
   "cell_type": "code",
   "execution_count": 22,
   "metadata": {},
   "outputs": [],
   "source": [
    "df_data = df"
   ]
  },
  {
   "cell_type": "code",
   "execution_count": 23,
   "metadata": {},
   "outputs": [
    {
     "data": {
      "text/html": [
       "<div>\n",
       "<style scoped>\n",
       "    .dataframe tbody tr th:only-of-type {\n",
       "        vertical-align: middle;\n",
       "    }\n",
       "\n",
       "    .dataframe tbody tr th {\n",
       "        vertical-align: top;\n",
       "    }\n",
       "\n",
       "    .dataframe thead th {\n",
       "        text-align: right;\n",
       "    }\n",
       "</style>\n",
       "<table border=\"1\" class=\"dataframe\">\n",
       "  <thead>\n",
       "    <tr style=\"text-align: right;\">\n",
       "      <th></th>\n",
       "      <th>rnm</th>\n",
       "      <th>num_check</th>\n",
       "      <th>datetime</th>\n",
       "      <th>time_eat</th>\n",
       "      <th>smena</th>\n",
       "      <th>good</th>\n",
       "      <th>total_chek</th>\n",
       "      <th>price</th>\n",
       "      <th>pr_bez_nds</th>\n",
       "      <th>avg_price</th>\n",
       "      <th>profit</th>\n",
       "      <th>amount</th>\n",
       "      <th>position_good</th>\n",
       "      <th>summa</th>\n",
       "      <th>payment</th>\n",
       "      <th>check_unique</th>\n",
       "      <th>group</th>\n",
       "      <th>on-group</th>\n",
       "      <th>seasons</th>\n",
       "      <th>day</th>\n",
       "      <th>hour</th>\n",
       "      <th>date</th>\n",
       "      <th>revenue</th>\n",
       "      <th>mnth</th>\n",
       "    </tr>\n",
       "  </thead>\n",
       "  <tbody>\n",
       "    <tr>\n",
       "      <th>0</th>\n",
       "      <td>6916860058096</td>\n",
       "      <td>92970</td>\n",
       "      <td>2024-01-09 08:06:00</td>\n",
       "      <td>Ранний завтрак</td>\n",
       "      <td>240</td>\n",
       "      <td>Яичница с беконом</td>\n",
       "      <td>181.00</td>\n",
       "      <td>45.00</td>\n",
       "      <td>37.50</td>\n",
       "      <td>22.95</td>\n",
       "      <td>14.55</td>\n",
       "      <td>1.00</td>\n",
       "      <td>1</td>\n",
       "      <td>181.00</td>\n",
       "      <td>card</td>\n",
       "      <td>92970 - 6916860058096</td>\n",
       "      <td>Завтрак</td>\n",
       "      <td>Яичница</td>\n",
       "      <td>Зима</td>\n",
       "      <td>Вторник</td>\n",
       "      <td>8</td>\n",
       "      <td>2024-01-09</td>\n",
       "      <td>37.50</td>\n",
       "      <td>Январь</td>\n",
       "    </tr>\n",
       "    <tr>\n",
       "      <th>1</th>\n",
       "      <td>6916860058096</td>\n",
       "      <td>92970</td>\n",
       "      <td>2024-01-09 08:06:00</td>\n",
       "      <td>Ранний завтрак</td>\n",
       "      <td>240</td>\n",
       "      <td>Сосиски отварные</td>\n",
       "      <td>181.00</td>\n",
       "      <td>65.00</td>\n",
       "      <td>54.17</td>\n",
       "      <td>23.78</td>\n",
       "      <td>30.39</td>\n",
       "      <td>1.00</td>\n",
       "      <td>2</td>\n",
       "      <td>181.00</td>\n",
       "      <td>card</td>\n",
       "      <td>92970 - 6916860058096</td>\n",
       "      <td>Основное блюдо</td>\n",
       "      <td>Колбаски разные</td>\n",
       "      <td>Зима</td>\n",
       "      <td>Вторник</td>\n",
       "      <td>8</td>\n",
       "      <td>2024-01-09</td>\n",
       "      <td>54.17</td>\n",
       "      <td>Январь</td>\n",
       "    </tr>\n",
       "    <tr>\n",
       "      <th>2</th>\n",
       "      <td>6916860058096</td>\n",
       "      <td>92970</td>\n",
       "      <td>2024-01-09 08:06:00</td>\n",
       "      <td>Ранний завтрак</td>\n",
       "      <td>240</td>\n",
       "      <td>Каша овсяная на молоке</td>\n",
       "      <td>181.00</td>\n",
       "      <td>65.00</td>\n",
       "      <td>54.17</td>\n",
       "      <td>13.75</td>\n",
       "      <td>40.42</td>\n",
       "      <td>1.00</td>\n",
       "      <td>3</td>\n",
       "      <td>181.00</td>\n",
       "      <td>card</td>\n",
       "      <td>92970 - 6916860058096</td>\n",
       "      <td>Завтрак</td>\n",
       "      <td>Каши</td>\n",
       "      <td>Зима</td>\n",
       "      <td>Вторник</td>\n",
       "      <td>8</td>\n",
       "      <td>2024-01-09</td>\n",
       "      <td>54.17</td>\n",
       "      <td>Январь</td>\n",
       "    </tr>\n",
       "    <tr>\n",
       "      <th>3</th>\n",
       "      <td>6916860058096</td>\n",
       "      <td>92970</td>\n",
       "      <td>2024-01-09 08:06:00</td>\n",
       "      <td>Ранний завтрак</td>\n",
       "      <td>240</td>\n",
       "      <td>Хлеб ржано-пшеничный</td>\n",
       "      <td>181.00</td>\n",
       "      <td>6.00</td>\n",
       "      <td>5.00</td>\n",
       "      <td>1.84</td>\n",
       "      <td>3.16</td>\n",
       "      <td>1.00</td>\n",
       "      <td>4</td>\n",
       "      <td>181.00</td>\n",
       "      <td>card</td>\n",
       "      <td>92970 - 6916860058096</td>\n",
       "      <td>Хлеб</td>\n",
       "      <td>Хлеб</td>\n",
       "      <td>Зима</td>\n",
       "      <td>Вторник</td>\n",
       "      <td>8</td>\n",
       "      <td>2024-01-09</td>\n",
       "      <td>5.00</td>\n",
       "      <td>Январь</td>\n",
       "    </tr>\n",
       "    <tr>\n",
       "      <th>4</th>\n",
       "      <td>6916860058096</td>\n",
       "      <td>92971</td>\n",
       "      <td>2024-01-09 08:07:00</td>\n",
       "      <td>Ранний завтрак</td>\n",
       "      <td>240</td>\n",
       "      <td>Каша рисовая на молоке</td>\n",
       "      <td>145.00</td>\n",
       "      <td>65.00</td>\n",
       "      <td>54.17</td>\n",
       "      <td>17.42</td>\n",
       "      <td>36.75</td>\n",
       "      <td>1.00</td>\n",
       "      <td>1</td>\n",
       "      <td>145.00</td>\n",
       "      <td>card</td>\n",
       "      <td>92971 - 6916860058096</td>\n",
       "      <td>Завтрак</td>\n",
       "      <td>Каши</td>\n",
       "      <td>Зима</td>\n",
       "      <td>Вторник</td>\n",
       "      <td>8</td>\n",
       "      <td>2024-01-09</td>\n",
       "      <td>54.17</td>\n",
       "      <td>Январь</td>\n",
       "    </tr>\n",
       "  </tbody>\n",
       "</table>\n",
       "</div>"
      ],
      "text/plain": [
       "             rnm  num_check            datetime        time_eat  smena  \\\n",
       "0  6916860058096      92970 2024-01-09 08:06:00  Ранний завтрак    240   \n",
       "1  6916860058096      92970 2024-01-09 08:06:00  Ранний завтрак    240   \n",
       "2  6916860058096      92970 2024-01-09 08:06:00  Ранний завтрак    240   \n",
       "3  6916860058096      92970 2024-01-09 08:06:00  Ранний завтрак    240   \n",
       "4  6916860058096      92971 2024-01-09 08:07:00  Ранний завтрак    240   \n",
       "\n",
       "                     good  total_chek  price  pr_bez_nds  avg_price  profit  \\\n",
       "0       Яичница с беконом      181.00  45.00       37.50      22.95   14.55   \n",
       "1        Сосиски отварные      181.00  65.00       54.17      23.78   30.39   \n",
       "2  Каша овсяная на молоке      181.00  65.00       54.17      13.75   40.42   \n",
       "3    Хлеб ржано-пшеничный      181.00   6.00        5.00       1.84    3.16   \n",
       "4  Каша рисовая на молоке      145.00  65.00       54.17      17.42   36.75   \n",
       "\n",
       "   amount  position_good  summa payment           check_unique  \\\n",
       "0    1.00              1 181.00    card  92970 - 6916860058096   \n",
       "1    1.00              2 181.00    card  92970 - 6916860058096   \n",
       "2    1.00              3 181.00    card  92970 - 6916860058096   \n",
       "3    1.00              4 181.00    card  92970 - 6916860058096   \n",
       "4    1.00              1 145.00    card  92971 - 6916860058096   \n",
       "\n",
       "            group         on-group seasons      day  hour       date  revenue  \\\n",
       "0         Завтрак          Яичница    Зима  Вторник     8 2024-01-09    37.50   \n",
       "1  Основное блюдо  Колбаски разные    Зима  Вторник     8 2024-01-09    54.17   \n",
       "2         Завтрак             Каши    Зима  Вторник     8 2024-01-09    54.17   \n",
       "3            Хлеб             Хлеб    Зима  Вторник     8 2024-01-09     5.00   \n",
       "4         Завтрак             Каши    Зима  Вторник     8 2024-01-09    54.17   \n",
       "\n",
       "     mnth  \n",
       "0  Январь  \n",
       "1  Январь  \n",
       "2  Январь  \n",
       "3  Январь  \n",
       "4  Январь  "
      ]
     },
     "execution_count": 23,
     "metadata": {},
     "output_type": "execute_result"
    }
   ],
   "source": [
    "df_data.head()"
   ]
  },
  {
   "cell_type": "code",
   "execution_count": 24,
   "metadata": {},
   "outputs": [],
   "source": [
    "def quart(value):\n",
    "    if value in ['Январь', 'Февраль', 'Март']:\n",
    "        return '1 Квартал'\n",
    "    elif value in ['Апрель', 'Май', 'Июнь']:\n",
    "        return '2 Квартал'\n",
    "    elif value in ['Июль', 'Август', 'Сентябрь']:\n",
    "        return '3 Квартал'\n",
    "    else:\n",
    "        return '4 Квартал'"
   ]
  },
  {
   "cell_type": "code",
   "execution_count": 25,
   "metadata": {},
   "outputs": [],
   "source": [
    "df_data['quart'] = df_data['mnth'].apply(quart)"
   ]
  },
  {
   "cell_type": "code",
   "execution_count": 26,
   "metadata": {},
   "outputs": [
    {
     "data": {
      "text/html": [
       "<div>\n",
       "<style scoped>\n",
       "    .dataframe tbody tr th:only-of-type {\n",
       "        vertical-align: middle;\n",
       "    }\n",
       "\n",
       "    .dataframe tbody tr th {\n",
       "        vertical-align: top;\n",
       "    }\n",
       "\n",
       "    .dataframe thead th {\n",
       "        text-align: right;\n",
       "    }\n",
       "</style>\n",
       "<table border=\"1\" class=\"dataframe\">\n",
       "  <thead>\n",
       "    <tr style=\"text-align: right;\">\n",
       "      <th></th>\n",
       "      <th>rnm</th>\n",
       "      <th>num_check</th>\n",
       "      <th>datetime</th>\n",
       "      <th>time_eat</th>\n",
       "      <th>smena</th>\n",
       "      <th>good</th>\n",
       "      <th>total_chek</th>\n",
       "      <th>price</th>\n",
       "      <th>pr_bez_nds</th>\n",
       "      <th>avg_price</th>\n",
       "      <th>profit</th>\n",
       "      <th>amount</th>\n",
       "      <th>position_good</th>\n",
       "      <th>summa</th>\n",
       "      <th>payment</th>\n",
       "      <th>check_unique</th>\n",
       "      <th>group</th>\n",
       "      <th>on-group</th>\n",
       "      <th>seasons</th>\n",
       "      <th>day</th>\n",
       "      <th>hour</th>\n",
       "      <th>date</th>\n",
       "      <th>revenue</th>\n",
       "      <th>mnth</th>\n",
       "      <th>quart</th>\n",
       "    </tr>\n",
       "  </thead>\n",
       "  <tbody>\n",
       "    <tr>\n",
       "      <th>483039</th>\n",
       "      <td>6916962051742</td>\n",
       "      <td>19202</td>\n",
       "      <td>2024-10-31 18:00:00</td>\n",
       "      <td>Скидки</td>\n",
       "      <td>194</td>\n",
       "      <td>Греча с грибами и луком</td>\n",
       "      <td>294.00</td>\n",
       "      <td>48.00</td>\n",
       "      <td>40.00</td>\n",
       "      <td>16.75</td>\n",
       "      <td>23.25</td>\n",
       "      <td>1.00</td>\n",
       "      <td>4</td>\n",
       "      <td>294.00</td>\n",
       "      <td>card</td>\n",
       "      <td>19202 - 6916962051742</td>\n",
       "      <td>Гарнир</td>\n",
       "      <td>Греча</td>\n",
       "      <td>Осень</td>\n",
       "      <td>Четверг</td>\n",
       "      <td>18</td>\n",
       "      <td>2024-10-31</td>\n",
       "      <td>40.00</td>\n",
       "      <td>Октябрь</td>\n",
       "      <td>4 Квартал</td>\n",
       "    </tr>\n",
       "    <tr>\n",
       "      <th>483040</th>\n",
       "      <td>6916962051742</td>\n",
       "      <td>19203</td>\n",
       "      <td>2024-10-31 18:04:00</td>\n",
       "      <td>Скидки</td>\n",
       "      <td>194</td>\n",
       "      <td>Стейк из свиной шеи</td>\n",
       "      <td>338.00</td>\n",
       "      <td>122.70</td>\n",
       "      <td>102.25</td>\n",
       "      <td>91.09</td>\n",
       "      <td>11.16</td>\n",
       "      <td>1.00</td>\n",
       "      <td>1</td>\n",
       "      <td>338.00</td>\n",
       "      <td>card</td>\n",
       "      <td>19203 - 6916962051742</td>\n",
       "      <td>Основное блюдо</td>\n",
       "      <td>Блюда из свинины</td>\n",
       "      <td>Осень</td>\n",
       "      <td>Четверг</td>\n",
       "      <td>18</td>\n",
       "      <td>2024-10-31</td>\n",
       "      <td>102.25</td>\n",
       "      <td>Октябрь</td>\n",
       "      <td>4 Квартал</td>\n",
       "    </tr>\n",
       "    <tr>\n",
       "      <th>483041</th>\n",
       "      <td>6916962051742</td>\n",
       "      <td>19203</td>\n",
       "      <td>2024-10-31 18:04:00</td>\n",
       "      <td>Скидки</td>\n",
       "      <td>194</td>\n",
       "      <td>Филе куриное запеченное с грибами</td>\n",
       "      <td>338.00</td>\n",
       "      <td>92.65</td>\n",
       "      <td>77.21</td>\n",
       "      <td>42.93</td>\n",
       "      <td>34.28</td>\n",
       "      <td>2.00</td>\n",
       "      <td>2</td>\n",
       "      <td>338.00</td>\n",
       "      <td>card</td>\n",
       "      <td>19203 - 6916962051742</td>\n",
       "      <td>Основное блюдо</td>\n",
       "      <td>Блюда из курицы</td>\n",
       "      <td>Осень</td>\n",
       "      <td>Четверг</td>\n",
       "      <td>18</td>\n",
       "      <td>2024-10-31</td>\n",
       "      <td>154.42</td>\n",
       "      <td>Октябрь</td>\n",
       "      <td>4 Квартал</td>\n",
       "    </tr>\n",
       "    <tr>\n",
       "      <th>483042</th>\n",
       "      <td>6916962051742</td>\n",
       "      <td>19203</td>\n",
       "      <td>2024-10-31 18:04:00</td>\n",
       "      <td>Скидки</td>\n",
       "      <td>194</td>\n",
       "      <td>Крафт для горячего 500 мл</td>\n",
       "      <td>338.00</td>\n",
       "      <td>15.00</td>\n",
       "      <td>12.50</td>\n",
       "      <td>7.92</td>\n",
       "      <td>4.58</td>\n",
       "      <td>2.00</td>\n",
       "      <td>3</td>\n",
       "      <td>338.00</td>\n",
       "      <td>card</td>\n",
       "      <td>19203 - 6916962051742</td>\n",
       "      <td>Контейнер</td>\n",
       "      <td>Контейнер</td>\n",
       "      <td>Осень</td>\n",
       "      <td>Четверг</td>\n",
       "      <td>18</td>\n",
       "      <td>2024-10-31</td>\n",
       "      <td>25.00</td>\n",
       "      <td>Октябрь</td>\n",
       "      <td>4 Квартал</td>\n",
       "    </tr>\n",
       "    <tr>\n",
       "      <th>483043</th>\n",
       "      <td>6916962051742</td>\n",
       "      <td>19204</td>\n",
       "      <td>2024-10-31 18:08:00</td>\n",
       "      <td>Скидки</td>\n",
       "      <td>194</td>\n",
       "      <td>Кекс яблочный</td>\n",
       "      <td>48.00</td>\n",
       "      <td>48.00</td>\n",
       "      <td>40.00</td>\n",
       "      <td>23.67</td>\n",
       "      <td>16.33</td>\n",
       "      <td>1.00</td>\n",
       "      <td>1</td>\n",
       "      <td>48.00</td>\n",
       "      <td>card</td>\n",
       "      <td>19204 - 6916962051742</td>\n",
       "      <td>Десерты</td>\n",
       "      <td>Кекс</td>\n",
       "      <td>Осень</td>\n",
       "      <td>Четверг</td>\n",
       "      <td>18</td>\n",
       "      <td>2024-10-31</td>\n",
       "      <td>40.00</td>\n",
       "      <td>Октябрь</td>\n",
       "      <td>4 Квартал</td>\n",
       "    </tr>\n",
       "  </tbody>\n",
       "</table>\n",
       "</div>"
      ],
      "text/plain": [
       "                  rnm  num_check            datetime time_eat  smena  \\\n",
       "483039  6916962051742      19202 2024-10-31 18:00:00   Скидки    194   \n",
       "483040  6916962051742      19203 2024-10-31 18:04:00   Скидки    194   \n",
       "483041  6916962051742      19203 2024-10-31 18:04:00   Скидки    194   \n",
       "483042  6916962051742      19203 2024-10-31 18:04:00   Скидки    194   \n",
       "483043  6916962051742      19204 2024-10-31 18:08:00   Скидки    194   \n",
       "\n",
       "                                     good  total_chek  price  pr_bez_nds  \\\n",
       "483039            Греча с грибами и луком      294.00  48.00       40.00   \n",
       "483040                Стейк из свиной шеи      338.00 122.70      102.25   \n",
       "483041  Филе куриное запеченное с грибами      338.00  92.65       77.21   \n",
       "483042          Крафт для горячего 500 мл      338.00  15.00       12.50   \n",
       "483043                      Кекс яблочный       48.00  48.00       40.00   \n",
       "\n",
       "        avg_price  profit  amount  position_good  summa payment  \\\n",
       "483039      16.75   23.25    1.00              4 294.00    card   \n",
       "483040      91.09   11.16    1.00              1 338.00    card   \n",
       "483041      42.93   34.28    2.00              2 338.00    card   \n",
       "483042       7.92    4.58    2.00              3 338.00    card   \n",
       "483043      23.67   16.33    1.00              1  48.00    card   \n",
       "\n",
       "                 check_unique           group          on-group seasons  \\\n",
       "483039  19202 - 6916962051742          Гарнир             Греча   Осень   \n",
       "483040  19203 - 6916962051742  Основное блюдо  Блюда из свинины   Осень   \n",
       "483041  19203 - 6916962051742  Основное блюдо   Блюда из курицы   Осень   \n",
       "483042  19203 - 6916962051742       Контейнер         Контейнер   Осень   \n",
       "483043  19204 - 6916962051742         Десерты              Кекс   Осень   \n",
       "\n",
       "            day  hour       date  revenue     mnth      quart  \n",
       "483039  Четверг    18 2024-10-31    40.00  Октябрь  4 Квартал  \n",
       "483040  Четверг    18 2024-10-31   102.25  Октябрь  4 Квартал  \n",
       "483041  Четверг    18 2024-10-31   154.42  Октябрь  4 Квартал  \n",
       "483042  Четверг    18 2024-10-31    25.00  Октябрь  4 Квартал  \n",
       "483043  Четверг    18 2024-10-31    40.00  Октябрь  4 Квартал  "
      ]
     },
     "execution_count": 26,
     "metadata": {},
     "output_type": "execute_result"
    }
   ],
   "source": [
    "df_data.tail()"
   ]
  },
  {
   "cell_type": "code",
   "execution_count": 27,
   "metadata": {},
   "outputs": [],
   "source": [
    "df_data.to_pickle('C:\\projects\\Cafe\\Analysis\\data')"
   ]
  },
  {
   "cell_type": "markdown",
   "metadata": {
    "id": "Ba3i2u0mkkbu"
   },
   "source": [
    "**Выручка за период**"
   ]
  },
  {
   "cell_type": "code",
   "execution_count": 28,
   "metadata": {
    "colab": {
     "base_uri": "https://localhost:8080/"
    },
    "executionInfo": {
     "elapsed": 10,
     "status": "ok",
     "timestamp": 1732687432872,
     "user": {
      "displayName": "Михаил",
      "userId": "04785763129782449462"
     },
     "user_tz": -180
    },
    "id": "OYDmf5T0jnH3",
    "outputId": "a854ec13-a82c-4dd3-d069-0587a7eb1c4a"
   },
   "outputs": [
    {
     "name": "stderr",
     "output_type": "stream",
     "text": [
      "C:\\Users\\Михаил\\AppData\\Local\\Temp\\ipykernel_2716\\4007214576.py:1: FutureWarning: The default of observed=False is deprecated and will be changed to True in a future version of pandas. Pass observed=False to retain current behavior or observed=True to adopt the future default and silence this warning.\n",
      "  df_revenue = df.groupby(['day'])['revenue'].sum()\n"
     ]
    }
   ],
   "source": [
    "df_revenue = df.groupby(['day'])['revenue'].sum()"
   ]
  },
  {
   "cell_type": "code",
   "execution_count": 29,
   "metadata": {
    "executionInfo": {
     "elapsed": 8,
     "status": "ok",
     "timestamp": 1732687432872,
     "user": {
      "displayName": "Михаил",
      "userId": "04785763129782449462"
     },
     "user_tz": -180
    },
    "id": "AS9839cEmWaF"
   },
   "outputs": [],
   "source": [
    "df_revenue = df_revenue[df_revenue > 0]"
   ]
  },
  {
   "cell_type": "code",
   "execution_count": 30,
   "metadata": {
    "colab": {
     "base_uri": "https://localhost:8080/",
     "height": 429
    },
    "executionInfo": {
     "elapsed": 8,
     "status": "ok",
     "timestamp": 1732687432872,
     "user": {
      "displayName": "Михаил",
      "userId": "04785763129782449462"
     },
     "user_tz": -180
    },
    "id": "BNz7nwvkooxn",
    "outputId": "5ede6995-8da4-4607-a7ca-3650ef49789e"
   },
   "outputs": [
    {
     "data": {
      "text/plain": [
       "day\n",
       "Понедельник   7,221,250.03\n",
       "Вторник       7,369,189.83\n",
       "Среда         6,944,639.13\n",
       "Четверг       7,232,305.03\n",
       "Пятница       6,106,042.23\n",
       "Суббота         138,359.48\n",
       "Name: revenue, dtype: float64"
      ]
     },
     "execution_count": 30,
     "metadata": {},
     "output_type": "execute_result"
    }
   ],
   "source": [
    "df_revenue"
   ]
  },
  {
   "cell_type": "code",
   "execution_count": 31,
   "metadata": {
    "colab": {
     "base_uri": "https://localhost:8080/",
     "height": 544
    },
    "collapsed": true,
    "executionInfo": {
     "elapsed": 456,
     "status": "ok",
     "timestamp": 1732687433321,
     "user": {
      "displayName": "Михаил",
      "userId": "04785763129782449462"
     },
     "user_tz": -180
    },
    "id": "y0hC2JtkoF1q",
    "outputId": "85304d9d-890a-4bf9-ee2d-34d26c28d6a1"
   },
   "outputs": [
    {
     "data": {
      "text/plain": [
       "<Axes: title={'center': 'Распределение выручки по месяцам'}, xlabel='day'>"
      ]
     },
     "execution_count": 31,
     "metadata": {},
     "output_type": "execute_result"
    },
    {
     "data": {
      "image/png": "[encoded data removed]",
      "text/plain": [
       "<Figure size 640x480 with 1 Axes>"
      ]
     },
     "metadata": {},
     "output_type": "display_data"
    }
   ],
   "source": [
    "df_revenue.plot.bar(color='green', title='Распределение выручки по месяцам')"
   ]
  },
  {
   "cell_type": "code",
   "execution_count": 32,
   "metadata": {
    "colab": {
     "base_uri": "https://localhost:8080/",
     "height": 429
    },
    "executionInfo": {
     "elapsed": 5,
     "status": "ok",
     "timestamp": 1732687433321,
     "user": {
      "displayName": "Михаил",
      "userId": "04785763129782449462"
     },
     "user_tz": -180
    },
    "id": "u3qGs6AJCT5w",
    "outputId": "c6a88be4-5f76-407a-d9ac-29cb33cb8e4f"
   },
   "outputs": [
    {
     "data": {
      "text/plain": [
       "day\n",
       "Понедельник    7,221,250.03\n",
       "Вторник       14,590,439.86\n",
       "Среда         21,535,078.99\n",
       "Четверг       28,767,384.02\n",
       "Пятница       34,873,426.25\n",
       "Суббота       35,011,785.73\n",
       "Name: revenue, dtype: float64"
      ]
     },
     "execution_count": 32,
     "metadata": {},
     "output_type": "execute_result"
    }
   ],
   "source": [
    "df_revenue.cumsum()"
   ]
  }
 ],
 "metadata": {
  "colab": {
   "authorship_tag": "ABX9TyMoRZqHa5O7qwDeSvK1PljA",
   "mount_file_id": "1BLOGnchE_3TF1EmCzHwXfUq6h5kA0ojV",
   "provenance": []
  },
  "kernelspec": {
   "display_name": "Python 3",
   "name": "python3"
  },
  "language_info": {
   "codemirror_mode": {
    "name": "ipython",
    "version": 3
   },
   "file_extension": ".py",
   "mimetype": "text/x-python",
   "name": "python",
   "nbconvert_exporter": "python",
   "pygments_lexer": "ipython3",
   "version": "3.11.4"
  }
 },
 "nbformat": 4,
 "nbformat_minor": 0
}
