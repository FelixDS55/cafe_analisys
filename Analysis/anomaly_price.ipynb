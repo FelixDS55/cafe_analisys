{
 "cells": [
  {
   "cell_type": "code",
   "execution_count": 1,
   "metadata": {},
   "outputs": [],
   "source": [
    "import pandas as pd\n",
    "import sqlite3\n",
    "import numpy as np\n",
    "import matplotlib.pyplot as plt\n",
    "import sqlite3"
   ]
  },
  {
   "cell_type": "code",
   "execution_count": 2,
   "metadata": {},
   "outputs": [],
   "source": [
    "pd.set_option('display.float_format', '{:.2f}'.format)\n",
    "pd.set_option('display.float_format', '{:,.2f}'.format)\n",
    "pd.set_option('display.max_columns', None)"
   ]
  },
  {
   "cell_type": "code",
   "execution_count": 3,
   "metadata": {},
   "outputs": [],
   "source": [
    "df = pd.read_pickle('C:\\projects\\Cafe\\Analysis\\data')"
   ]
  },
  {
   "cell_type": "code",
   "execution_count": 4,
   "metadata": {},
   "outputs": [
    {
     "data": {
      "text/html": [
       "<div>\n",
       "<style scoped>\n",
       "    .dataframe tbody tr th:only-of-type {\n",
       "        vertical-align: middle;\n",
       "    }\n",
       "\n",
       "    .dataframe tbody tr th {\n",
       "        vertical-align: top;\n",
       "    }\n",
       "\n",
       "    .dataframe thead th {\n",
       "        text-align: right;\n",
       "    }\n",
       "</style>\n",
       "<table border=\"1\" class=\"dataframe\">\n",
       "  <thead>\n",
       "    <tr style=\"text-align: right;\">\n",
       "      <th></th>\n",
       "      <th>rnm</th>\n",
       "      <th>num_check</th>\n",
       "      <th>datetime</th>\n",
       "      <th>time_eat</th>\n",
       "      <th>smena</th>\n",
       "      <th>good</th>\n",
       "      <th>total_chek</th>\n",
       "      <th>price</th>\n",
       "      <th>pr_bez_nds</th>\n",
       "      <th>avg_price</th>\n",
       "      <th>profit</th>\n",
       "      <th>amount</th>\n",
       "      <th>position_good</th>\n",
       "      <th>summa</th>\n",
       "      <th>payment</th>\n",
       "      <th>check_unique</th>\n",
       "      <th>group</th>\n",
       "      <th>on-group</th>\n",
       "      <th>seasons</th>\n",
       "      <th>day</th>\n",
       "      <th>hour</th>\n",
       "      <th>date</th>\n",
       "      <th>revenue</th>\n",
       "      <th>mnth</th>\n",
       "      <th>quart</th>\n",
       "    </tr>\n",
       "  </thead>\n",
       "  <tbody>\n",
       "    <tr>\n",
       "      <th>0</th>\n",
       "      <td>6916860058096</td>\n",
       "      <td>92970</td>\n",
       "      <td>2024-01-09 08:06:00</td>\n",
       "      <td>Ранний завтрак</td>\n",
       "      <td>240</td>\n",
       "      <td>Яичница с беконом</td>\n",
       "      <td>181.00</td>\n",
       "      <td>45.00</td>\n",
       "      <td>37.50</td>\n",
       "      <td>22.95</td>\n",
       "      <td>14.55</td>\n",
       "      <td>1.00</td>\n",
       "      <td>1</td>\n",
       "      <td>181.00</td>\n",
       "      <td>card</td>\n",
       "      <td>92970 - 6916860058096</td>\n",
       "      <td>Завтрак</td>\n",
       "      <td>Яичница</td>\n",
       "      <td>Зима</td>\n",
       "      <td>Вторник</td>\n",
       "      <td>8</td>\n",
       "      <td>2024-01-09</td>\n",
       "      <td>37.50</td>\n",
       "      <td>Январь</td>\n",
       "      <td>1 Квартал</td>\n",
       "    </tr>\n",
       "    <tr>\n",
       "      <th>1</th>\n",
       "      <td>6916860058096</td>\n",
       "      <td>92970</td>\n",
       "      <td>2024-01-09 08:06:00</td>\n",
       "      <td>Ранний завтрак</td>\n",
       "      <td>240</td>\n",
       "      <td>Сосиски отварные</td>\n",
       "      <td>181.00</td>\n",
       "      <td>65.00</td>\n",
       "      <td>54.17</td>\n",
       "      <td>23.78</td>\n",
       "      <td>30.39</td>\n",
       "      <td>1.00</td>\n",
       "      <td>2</td>\n",
       "      <td>181.00</td>\n",
       "      <td>card</td>\n",
       "      <td>92970 - 6916860058096</td>\n",
       "      <td>Основное блюдо</td>\n",
       "      <td>Колбаски разные</td>\n",
       "      <td>Зима</td>\n",
       "      <td>Вторник</td>\n",
       "      <td>8</td>\n",
       "      <td>2024-01-09</td>\n",
       "      <td>54.17</td>\n",
       "      <td>Январь</td>\n",
       "      <td>1 Квартал</td>\n",
       "    </tr>\n",
       "    <tr>\n",
       "      <th>2</th>\n",
       "      <td>6916860058096</td>\n",
       "      <td>92970</td>\n",
       "      <td>2024-01-09 08:06:00</td>\n",
       "      <td>Ранний завтрак</td>\n",
       "      <td>240</td>\n",
       "      <td>Каша овсяная на молоке</td>\n",
       "      <td>181.00</td>\n",
       "      <td>65.00</td>\n",
       "      <td>54.17</td>\n",
       "      <td>13.75</td>\n",
       "      <td>40.42</td>\n",
       "      <td>1.00</td>\n",
       "      <td>3</td>\n",
       "      <td>181.00</td>\n",
       "      <td>card</td>\n",
       "      <td>92970 - 6916860058096</td>\n",
       "      <td>Завтрак</td>\n",
       "      <td>Каши</td>\n",
       "      <td>Зима</td>\n",
       "      <td>Вторник</td>\n",
       "      <td>8</td>\n",
       "      <td>2024-01-09</td>\n",
       "      <td>54.17</td>\n",
       "      <td>Январь</td>\n",
       "      <td>1 Квартал</td>\n",
       "    </tr>\n",
       "    <tr>\n",
       "      <th>3</th>\n",
       "      <td>6916860058096</td>\n",
       "      <td>92970</td>\n",
       "      <td>2024-01-09 08:06:00</td>\n",
       "      <td>Ранний завтрак</td>\n",
       "      <td>240</td>\n",
       "      <td>Хлеб ржано-пшеничный</td>\n",
       "      <td>181.00</td>\n",
       "      <td>6.00</td>\n",
       "      <td>5.00</td>\n",
       "      <td>1.84</td>\n",
       "      <td>3.16</td>\n",
       "      <td>1.00</td>\n",
       "      <td>4</td>\n",
       "      <td>181.00</td>\n",
       "      <td>card</td>\n",
       "      <td>92970 - 6916860058096</td>\n",
       "      <td>Хлеб</td>\n",
       "      <td>Хлеб</td>\n",
       "      <td>Зима</td>\n",
       "      <td>Вторник</td>\n",
       "      <td>8</td>\n",
       "      <td>2024-01-09</td>\n",
       "      <td>5.00</td>\n",
       "      <td>Январь</td>\n",
       "      <td>1 Квартал</td>\n",
       "    </tr>\n",
       "    <tr>\n",
       "      <th>4</th>\n",
       "      <td>6916860058096</td>\n",
       "      <td>92971</td>\n",
       "      <td>2024-01-09 08:07:00</td>\n",
       "      <td>Ранний завтрак</td>\n",
       "      <td>240</td>\n",
       "      <td>Каша рисовая на молоке</td>\n",
       "      <td>145.00</td>\n",
       "      <td>65.00</td>\n",
       "      <td>54.17</td>\n",
       "      <td>17.42</td>\n",
       "      <td>36.75</td>\n",
       "      <td>1.00</td>\n",
       "      <td>1</td>\n",
       "      <td>145.00</td>\n",
       "      <td>card</td>\n",
       "      <td>92971 - 6916860058096</td>\n",
       "      <td>Завтрак</td>\n",
       "      <td>Каши</td>\n",
       "      <td>Зима</td>\n",
       "      <td>Вторник</td>\n",
       "      <td>8</td>\n",
       "      <td>2024-01-09</td>\n",
       "      <td>54.17</td>\n",
       "      <td>Январь</td>\n",
       "      <td>1 Квартал</td>\n",
       "    </tr>\n",
       "  </tbody>\n",
       "</table>\n",
       "</div>"
      ],
      "text/plain": [
       "             rnm  num_check            datetime        time_eat  smena  \\\n",
       "0  6916860058096      92970 2024-01-09 08:06:00  Ранний завтрак    240   \n",
       "1  6916860058096      92970 2024-01-09 08:06:00  Ранний завтрак    240   \n",
       "2  6916860058096      92970 2024-01-09 08:06:00  Ранний завтрак    240   \n",
       "3  6916860058096      92970 2024-01-09 08:06:00  Ранний завтрак    240   \n",
       "4  6916860058096      92971 2024-01-09 08:07:00  Ранний завтрак    240   \n",
       "\n",
       "                     good  total_chek  price  pr_bez_nds  avg_price  profit  \\\n",
       "0       Яичница с беконом      181.00  45.00       37.50      22.95   14.55   \n",
       "1        Сосиски отварные      181.00  65.00       54.17      23.78   30.39   \n",
       "2  Каша овсяная на молоке      181.00  65.00       54.17      13.75   40.42   \n",
       "3    Хлеб ржано-пшеничный      181.00   6.00        5.00       1.84    3.16   \n",
       "4  Каша рисовая на молоке      145.00  65.00       54.17      17.42   36.75   \n",
       "\n",
       "   amount  position_good  summa payment           check_unique  \\\n",
       "0    1.00              1 181.00    card  92970 - 6916860058096   \n",
       "1    1.00              2 181.00    card  92970 - 6916860058096   \n",
       "2    1.00              3 181.00    card  92970 - 6916860058096   \n",
       "3    1.00              4 181.00    card  92970 - 6916860058096   \n",
       "4    1.00              1 145.00    card  92971 - 6916860058096   \n",
       "\n",
       "            group         on-group seasons      day  hour       date  revenue  \\\n",
       "0         Завтрак          Яичница    Зима  Вторник     8 2024-01-09    37.50   \n",
       "1  Основное блюдо  Колбаски разные    Зима  Вторник     8 2024-01-09    54.17   \n",
       "2         Завтрак             Каши    Зима  Вторник     8 2024-01-09    54.17   \n",
       "3            Хлеб             Хлеб    Зима  Вторник     8 2024-01-09     5.00   \n",
       "4         Завтрак             Каши    Зима  Вторник     8 2024-01-09    54.17   \n",
       "\n",
       "     mnth      quart  \n",
       "0  Январь  1 Квартал  \n",
       "1  Январь  1 Квартал  \n",
       "2  Январь  1 Квартал  \n",
       "3  Январь  1 Квартал  \n",
       "4  Январь  1 Квартал  "
      ]
     },
     "execution_count": 4,
     "metadata": {},
     "output_type": "execute_result"
    }
   ],
   "source": [
    "df.head()"
   ]
  },
  {
   "cell_type": "code",
   "execution_count": 5,
   "metadata": {},
   "outputs": [
    {
     "name": "stdout",
     "output_type": "stream",
     "text": [
      "<class 'pandas.core.frame.DataFrame'>\n",
      "RangeIndex: 483044 entries, 0 to 483043\n",
      "Data columns (total 25 columns):\n",
      " #   Column         Non-Null Count   Dtype         \n",
      "---  ------         --------------   -----         \n",
      " 0   rnm            483044 non-null  int64         \n",
      " 1   num_check      483044 non-null  int64         \n",
      " 2   datetime       483044 non-null  datetime64[ns]\n",
      " 3   time_eat       483044 non-null  object        \n",
      " 4   smena          483044 non-null  int64         \n",
      " 5   good           483044 non-null  object        \n",
      " 6   total_chek     483044 non-null  float64       \n",
      " 7   price          483044 non-null  float64       \n",
      " 8   pr_bez_nds     483044 non-null  float64       \n",
      " 9   avg_price      483044 non-null  float64       \n",
      " 10  profit         483044 non-null  float64       \n",
      " 11  amount         483044 non-null  float64       \n",
      " 12  position_good  483044 non-null  int64         \n",
      " 13  summa          483044 non-null  float64       \n",
      " 14  payment        483044 non-null  object        \n",
      " 15  check_unique   483044 non-null  object        \n",
      " 16  group          483044 non-null  object        \n",
      " 17  on-group       483044 non-null  object        \n",
      " 18  seasons        483044 non-null  category      \n",
      " 19  day            483044 non-null  category      \n",
      " 20  hour           483044 non-null  int32         \n",
      " 21  date           483044 non-null  datetime64[ns]\n",
      " 22  revenue        483044 non-null  float64       \n",
      " 23  mnth           483044 non-null  category      \n",
      " 24  quart          483044 non-null  object        \n",
      "dtypes: category(3), datetime64[ns](2), float64(8), int32(1), int64(4), object(7)\n",
      "memory usage: 80.6+ MB\n"
     ]
    }
   ],
   "source": [
    "df.info()"
   ]
  },
  {
   "cell_type": "markdown",
   "metadata": {},
   "source": [
    "**Анализ цен и поиск выбросов**"
   ]
  },
  {
   "cell_type": "code",
   "execution_count": 6,
   "metadata": {},
   "outputs": [
    {
     "data": {
      "text/plain": [
       "65.0"
      ]
     },
     "execution_count": 6,
     "metadata": {},
     "output_type": "execute_result"
    }
   ],
   "source": [
    "df['price'].median()"
   ]
  },
  {
   "cell_type": "code",
   "execution_count": 7,
   "metadata": {},
   "outputs": [
    {
     "data": {
      "text/plain": [
       "82.3224479136476"
      ]
     },
     "execution_count": 7,
     "metadata": {},
     "output_type": "execute_result"
    }
   ],
   "source": [
    "df['price'].mean()"
   ]
  },
  {
   "cell_type": "code",
   "execution_count": 8,
   "metadata": {},
   "outputs": [],
   "source": [
    "data = np.array(df['price'])"
   ]
  },
  {
   "cell_type": "code",
   "execution_count": 9,
   "metadata": {},
   "outputs": [
    {
     "data": {
      "text/plain": [
       "{'whiskers': [<matplotlib.lines.Line2D at 0x1edd989fe50>,\n",
       "  <matplotlib.lines.Line2D at 0x1edd98ae4d0>],\n",
       " 'caps': [<matplotlib.lines.Line2D at 0x1edd98af090>,\n",
       "  <matplotlib.lines.Line2D at 0x1edd98afc10>],\n",
       " 'boxes': [<matplotlib.lines.Line2D at 0x1eddff13f90>],\n",
       " 'medians': [<matplotlib.lines.Line2D at 0x1edd98c4850>],\n",
       " 'fliers': [<matplotlib.lines.Line2D at 0x1edd98c5310>],\n",
       " 'means': []}"
      ]
     },
     "execution_count": 9,
     "metadata": {},
     "output_type": "execute_result"
    },
    {
     "data": {
      "image/png": "[encoded data removed]",
      "text/plain": [
       "<Figure size 640x480 with 1 Axes>"
      ]
     },
     "metadata": {},
     "output_type": "display_data"
    }
   ],
   "source": [
    "plt.boxplot(data)"
   ]
  },
  {
   "cell_type": "code",
   "execution_count": 10,
   "metadata": {},
   "outputs": [
    {
     "data": {
      "text/plain": [
       "count   483,044.00\n",
       "mean         82.32\n",
       "std         812.09\n",
       "min           2.00\n",
       "25%          40.00\n",
       "50%          65.00\n",
       "75%         100.00\n",
       "max     400,000.00\n",
       "Name: price, dtype: float64"
      ]
     },
     "execution_count": 10,
     "metadata": {},
     "output_type": "execute_result"
    }
   ],
   "source": [
    "df['price'].describe()"
   ]
  },
  {
   "cell_type": "code",
   "execution_count": 11,
   "metadata": {},
   "outputs": [],
   "source": [
    "prc_75 = np.percentile(df['price'], 75)"
   ]
  },
  {
   "cell_type": "code",
   "execution_count": 12,
   "metadata": {},
   "outputs": [
    {
     "data": {
      "text/plain": [
       "100.0"
      ]
     },
     "execution_count": 12,
     "metadata": {},
     "output_type": "execute_result"
    }
   ],
   "source": [
    "prc_75"
   ]
  },
  {
   "cell_type": "code",
   "execution_count": 13,
   "metadata": {},
   "outputs": [],
   "source": [
    "prc_25 = np.percentile(df['price'], 25)"
   ]
  },
  {
   "cell_type": "code",
   "execution_count": 14,
   "metadata": {},
   "outputs": [
    {
     "data": {
      "text/plain": [
       "40.0"
      ]
     },
     "execution_count": 14,
     "metadata": {},
     "output_type": "execute_result"
    }
   ],
   "source": [
    "prc_25"
   ]
  },
  {
   "cell_type": "code",
   "execution_count": 15,
   "metadata": {},
   "outputs": [
    {
     "data": {
      "text/plain": [
       "60.0"
      ]
     },
     "execution_count": 15,
     "metadata": {},
     "output_type": "execute_result"
    }
   ],
   "source": [
    "iqr = prc_75 - prc_25\n",
    "iqr"
   ]
  },
  {
   "cell_type": "code",
   "execution_count": 16,
   "metadata": {},
   "outputs": [],
   "source": [
    "lower_bound = prc_25 - 2.5 * iqr\n",
    "upper_bound = prc_75 + 2.5 * iqr"
   ]
  },
  {
   "cell_type": "code",
   "execution_count": 17,
   "metadata": {},
   "outputs": [
    {
     "name": "stdout",
     "output_type": "stream",
     "text": [
      "Нижняя граница: -110.0, Верхняя граница: 250.0\n"
     ]
    }
   ],
   "source": [
    "print(f\"Нижняя граница: {lower_bound}, Верхняя граница: {upper_bound}\")"
   ]
  },
  {
   "cell_type": "code",
   "execution_count": 18,
   "metadata": {},
   "outputs": [],
   "source": [
    "price_counts = df.groupby('price').size()"
   ]
  },
  {
   "cell_type": "code",
   "execution_count": 19,
   "metadata": {},
   "outputs": [
    {
     "data": {
      "text/plain": [
       "price\n",
       "2.00             1\n",
       "2.01             1\n",
       "3.00          2752\n",
       "3.01            41\n",
       "3.02             6\n",
       "              ... \n",
       "58,000.00        1\n",
       "108,820.80       1\n",
       "114,840.00       1\n",
       "351,000.00       1\n",
       "400,000.00       1\n",
       "Length: 1171, dtype: int64"
      ]
     },
     "execution_count": 19,
     "metadata": {},
     "output_type": "execute_result"
    }
   ],
   "source": [
    "price_counts"
   ]
  },
  {
   "cell_type": "code",
   "execution_count": 20,
   "metadata": {},
   "outputs": [],
   "source": [
    "unique_prices = price_counts[price_counts == 1].index"
   ]
  },
  {
   "cell_type": "code",
   "execution_count": 21,
   "metadata": {},
   "outputs": [],
   "source": [
    "df_unique = df[df['price'].isin(unique_prices)]"
   ]
  },
  {
   "cell_type": "code",
   "execution_count": 22,
   "metadata": {},
   "outputs": [],
   "source": [
    "outliers = df_unique[(df_unique['price'] < lower_bound) | (df_unique['price'] > upper_bound)]"
   ]
  },
  {
   "cell_type": "code",
   "execution_count": 23,
   "metadata": {},
   "outputs": [
    {
     "data": {
      "text/html": [
       "<div>\n",
       "<style scoped>\n",
       "    .dataframe tbody tr th:only-of-type {\n",
       "        vertical-align: middle;\n",
       "    }\n",
       "\n",
       "    .dataframe tbody tr th {\n",
       "        vertical-align: top;\n",
       "    }\n",
       "\n",
       "    .dataframe thead th {\n",
       "        text-align: right;\n",
       "    }\n",
       "</style>\n",
       "<table border=\"1\" class=\"dataframe\">\n",
       "  <thead>\n",
       "    <tr style=\"text-align: right;\">\n",
       "      <th></th>\n",
       "      <th>rnm</th>\n",
       "      <th>num_check</th>\n",
       "      <th>datetime</th>\n",
       "      <th>time_eat</th>\n",
       "      <th>smena</th>\n",
       "      <th>good</th>\n",
       "      <th>total_chek</th>\n",
       "      <th>price</th>\n",
       "      <th>pr_bez_nds</th>\n",
       "      <th>avg_price</th>\n",
       "      <th>profit</th>\n",
       "      <th>amount</th>\n",
       "      <th>position_good</th>\n",
       "      <th>summa</th>\n",
       "      <th>payment</th>\n",
       "      <th>check_unique</th>\n",
       "      <th>group</th>\n",
       "      <th>on-group</th>\n",
       "      <th>seasons</th>\n",
       "      <th>day</th>\n",
       "      <th>hour</th>\n",
       "      <th>date</th>\n",
       "      <th>revenue</th>\n",
       "      <th>mnth</th>\n",
       "      <th>quart</th>\n",
       "    </tr>\n",
       "  </thead>\n",
       "  <tbody>\n",
       "  </tbody>\n",
       "</table>\n",
       "</div>"
      ],
      "text/plain": [
       "Empty DataFrame\n",
       "Columns: [rnm, num_check, datetime, time_eat, smena, good, total_chek, price, pr_bez_nds, avg_price, profit, amount, position_good, summa, payment, check_unique, group, on-group, seasons, day, hour, date, revenue, mnth, quart]\n",
       "Index: []"
      ]
     },
     "execution_count": 23,
     "metadata": {},
     "output_type": "execute_result"
    }
   ],
   "source": [
    "outliers[outliers['price'] == 3000]"
   ]
  },
  {
   "cell_type": "code",
   "execution_count": 24,
   "metadata": {},
   "outputs": [
    {
     "data": {
      "text/plain": [
       "good                                                                                                  price     \n",
       "01.10.2024 Ипатов Н.А.                                                                                35,900.00     1\n",
       "13.08.2024                                                                                            14,935.00     1\n",
       "Фуршет Классен 12.02                                                                                  17,940.00     1\n",
       "Фуршет Барсукова                                                                                      9,240.00      1\n",
       "Фуршет 15.01                                                                                          13,935.00     1\n",
       "Фуршет 02.04.24                                                                                       23,720.00     1\n",
       "УРАЛ-325512-0010-41 Средство транспортное специальное пассажирское № X1P325512B1369640                400,000.00    1\n",
       "УАЗ-390995 Автомобиль грузовой фургон (XTT390995B0417964)                                             108,820.80    1\n",
       "Салат Цезарь с лососем 165 гр                                                                         280.23        1\n",
       "Салат Столичный с курицей 1,0 кг                                                                      700.00        1\n",
       "Прицеп-вагон дом  передвижной типа  Сибирь  А8х2,8 на базе тракт.прицепа VIN:1385 (QCS-1-1.2010.054)  114,840.00    1\n",
       "Пицца Римская острая  целая                                                                           385.00        1\n",
       "Пирожки 12.01.24                                                                                      6,000.00      1\n",
       "Мероприятие Виноградова А.В.                                                                          10,300.00     1\n",
       "Мероприятие 16.09.2024                                                                                7,910.00      1\n",
       "Мероприятие 09.09.2024                                                                                2,000.00      1\n",
       "Мероприятие 01.08.2024                                                                                7,175.00      1\n",
       "Круассан с лососем                                                                                    260.21        1\n",
       "Кр.-манипул.устан. Bonfiglioli P10200L/2                                                              351,000.00    1\n",
       "Вагончик складской на полозьях                                                                        32,440.00     1\n",
       "Вагон-дом без шасси бытовка                                                                           22,440.00     1\n",
       "Буженина из свиной шеи 1,0 кг                                                                         1,000.00      1\n",
       "Боул с лососем                                                                                        280.59        1\n",
       "                                                                                                      280.32        1\n",
       "                                                                                                      280.20        1\n",
       "30.10.2024                                                                                            24,040.00     1\n",
       "29.03.24 Павел Титоренко                                                                              2,350.00      1\n",
       "21.10.2024                                                                                            1,600.00      1\n",
       "14.10.2024                                                                                            16,245.00     1\n",
       "Электростанция дизельная с электростартером и коннектором автоматики DS 7000 DA ES                    58,000.00     1\n",
       "Name: price, dtype: int64"
      ]
     },
     "execution_count": 24,
     "metadata": {},
     "output_type": "execute_result"
    }
   ],
   "source": [
    "outliers.groupby(['good', 'price'])['price'].count().sort_values(ascending=False)"
   ]
  },
  {
   "cell_type": "code",
   "execution_count": 25,
   "metadata": {},
   "outputs": [
    {
     "data": {
      "text/plain": [
       "count        30.00\n",
       "mean     42,809.91\n",
       "std      95,042.35\n",
       "min         260.21\n",
       "25%       1,150.00\n",
       "50%       9,770.00\n",
       "75%      23,960.00\n",
       "max     400,000.00\n",
       "Name: price, dtype: float64"
      ]
     },
     "execution_count": 25,
     "metadata": {},
     "output_type": "execute_result"
    }
   ],
   "source": [
    "outliers['price'].describe()"
   ]
  },
  {
   "cell_type": "code",
   "execution_count": 26,
   "metadata": {},
   "outputs": [],
   "source": [
    "get_out = outliers['good'].to_list()"
   ]
  },
  {
   "cell_type": "code",
   "execution_count": 27,
   "metadata": {},
   "outputs": [
    {
     "data": {
      "text/plain": [
       "['Буженина из свиной шеи 1,0 кг',\n",
       " 'Пирожки 12.01.24',\n",
       " 'Пицца Римская острая  целая',\n",
       " 'Фуршет 15.01',\n",
       " 'Боул с лососем',\n",
       " 'Фуршет Классен 12.02',\n",
       " 'Мероприятие Виноградова А.В.',\n",
       " 'Кр.-манипул.устан. Bonfiglioli P10200L/2',\n",
       " '29.03.24 Павел Титоренко',\n",
       " 'Фуршет 02.04.24',\n",
       " 'Салат Цезарь с лососем 165 гр',\n",
       " 'Круассан с лососем',\n",
       " 'Салат Столичный с курицей 1,0 кг',\n",
       " 'Фуршет Барсукова',\n",
       " 'УРАЛ-325512-0010-41 Средство транспортное специальное пассажирское № X1P325512B1369640',\n",
       " 'Мероприятие 01.08.2024',\n",
       " 'Боул с лососем',\n",
       " '13.08.2024',\n",
       " 'Боул с лососем',\n",
       " 'Электростанция дизельная с электростартером и коннектором автоматики DS 7000 DA ES',\n",
       " 'УАЗ-390995 Автомобиль грузовой фургон (XTT390995B0417964)',\n",
       " 'Мероприятие 09.09.2024',\n",
       " 'Мероприятие 16.09.2024',\n",
       " '01.10.2024 Ипатов Н.А.',\n",
       " 'Прицеп-вагон дом  передвижной типа  Сибирь  А8х2,8 на базе тракт.прицепа VIN:1385 (QCS-1-1.2010.054)',\n",
       " 'Вагончик складской на полозьях',\n",
       " 'Вагон-дом без шасси бытовка',\n",
       " '14.10.2024',\n",
       " '21.10.2024',\n",
       " '30.10.2024']"
      ]
     },
     "execution_count": 27,
     "metadata": {},
     "output_type": "execute_result"
    }
   ],
   "source": [
    "get_out"
   ]
  },
  {
   "cell_type": "code",
   "execution_count": 28,
   "metadata": {},
   "outputs": [
    {
     "data": {
      "text/plain": [
       "30"
      ]
     },
     "execution_count": 28,
     "metadata": {},
     "output_type": "execute_result"
    }
   ],
   "source": [
    "len(get_out)"
   ]
  },
  {
   "cell_type": "code",
   "execution_count": 29,
   "metadata": {},
   "outputs": [],
   "source": [
    "get_out.remove('Пицца Римская острая  целая')\n",
    "get_out.remove('Боул с лососем')\n",
    "get_out.remove('Салат Цезарь с лососем 165 гр')\n",
    "get_out.remove('Круассан с лососем')\n",
    "get_out.remove('Салат Столичный с курицей 1,0 кг')\n",
    "get_out.remove('Боул с лососем')\n",
    "get_out.remove('Боул с лососем')\n",
    "get_out.remove('Буженина из свиной шеи 1,0 кг')"
   ]
  },
  {
   "cell_type": "code",
   "execution_count": 30,
   "metadata": {},
   "outputs": [
    {
     "data": {
      "text/plain": [
       "['Пирожки 12.01.24',\n",
       " 'Фуршет 15.01',\n",
       " 'Фуршет Классен 12.02',\n",
       " 'Мероприятие Виноградова А.В.',\n",
       " 'Кр.-манипул.устан. Bonfiglioli P10200L/2',\n",
       " '29.03.24 Павел Титоренко',\n",
       " 'Фуршет 02.04.24',\n",
       " 'Фуршет Барсукова',\n",
       " 'УРАЛ-325512-0010-41 Средство транспортное специальное пассажирское № X1P325512B1369640',\n",
       " 'Мероприятие 01.08.2024',\n",
       " '13.08.2024',\n",
       " 'Электростанция дизельная с электростартером и коннектором автоматики DS 7000 DA ES',\n",
       " 'УАЗ-390995 Автомобиль грузовой фургон (XTT390995B0417964)',\n",
       " 'Мероприятие 09.09.2024',\n",
       " 'Мероприятие 16.09.2024',\n",
       " '01.10.2024 Ипатов Н.А.',\n",
       " 'Прицеп-вагон дом  передвижной типа  Сибирь  А8х2,8 на базе тракт.прицепа VIN:1385 (QCS-1-1.2010.054)',\n",
       " 'Вагончик складской на полозьях',\n",
       " 'Вагон-дом без шасси бытовка',\n",
       " '14.10.2024',\n",
       " '21.10.2024',\n",
       " '30.10.2024']"
      ]
     },
     "execution_count": 30,
     "metadata": {},
     "output_type": "execute_result"
    }
   ],
   "source": [
    "get_out"
   ]
  },
  {
   "cell_type": "code",
   "execution_count": 31,
   "metadata": {},
   "outputs": [],
   "source": [
    "df_filtered = outliers[~outliers['good'].isin(get_out)]"
   ]
  },
  {
   "cell_type": "code",
   "execution_count": 32,
   "metadata": {},
   "outputs": [
    {
     "data": {
      "text/html": [
       "<div>\n",
       "<style scoped>\n",
       "    .dataframe tbody tr th:only-of-type {\n",
       "        vertical-align: middle;\n",
       "    }\n",
       "\n",
       "    .dataframe tbody tr th {\n",
       "        vertical-align: top;\n",
       "    }\n",
       "\n",
       "    .dataframe thead th {\n",
       "        text-align: right;\n",
       "    }\n",
       "</style>\n",
       "<table border=\"1\" class=\"dataframe\">\n",
       "  <thead>\n",
       "    <tr style=\"text-align: right;\">\n",
       "      <th></th>\n",
       "      <th>rnm</th>\n",
       "      <th>num_check</th>\n",
       "      <th>datetime</th>\n",
       "      <th>time_eat</th>\n",
       "      <th>smena</th>\n",
       "      <th>good</th>\n",
       "      <th>total_chek</th>\n",
       "      <th>price</th>\n",
       "      <th>pr_bez_nds</th>\n",
       "      <th>avg_price</th>\n",
       "      <th>profit</th>\n",
       "      <th>amount</th>\n",
       "      <th>position_good</th>\n",
       "      <th>summa</th>\n",
       "      <th>payment</th>\n",
       "      <th>check_unique</th>\n",
       "      <th>group</th>\n",
       "      <th>on-group</th>\n",
       "      <th>seasons</th>\n",
       "      <th>day</th>\n",
       "      <th>hour</th>\n",
       "      <th>date</th>\n",
       "      <th>revenue</th>\n",
       "      <th>mnth</th>\n",
       "      <th>quart</th>\n",
       "    </tr>\n",
       "  </thead>\n",
       "  <tbody>\n",
       "    <tr>\n",
       "      <th>4796</th>\n",
       "      <td>6916901047427</td>\n",
       "      <td>8831</td>\n",
       "      <td>2024-01-11 10:57:00</td>\n",
       "      <td>Завтрак</td>\n",
       "      <td>238</td>\n",
       "      <td>Буженина из свиной шеи 1,0 кг</td>\n",
       "      <td>4,000.00</td>\n",
       "      <td>1,000.00</td>\n",
       "      <td>833.33</td>\n",
       "      <td>853.64</td>\n",
       "      <td>-20.31</td>\n",
       "      <td>0.60</td>\n",
       "      <td>4</td>\n",
       "      <td>4,000.00</td>\n",
       "      <td>cash</td>\n",
       "      <td>8831 - 6916901047427</td>\n",
       "      <td>Основное блюдо</td>\n",
       "      <td>Блюда из свинины</td>\n",
       "      <td>Зима</td>\n",
       "      <td>Четверг</td>\n",
       "      <td>10</td>\n",
       "      <td>2024-01-11</td>\n",
       "      <td>500.00</td>\n",
       "      <td>Январь</td>\n",
       "      <td>1 Квартал</td>\n",
       "    </tr>\n",
       "    <tr>\n",
       "      <th>8125</th>\n",
       "      <td>6916901047427</td>\n",
       "      <td>8931</td>\n",
       "      <td>2024-01-12 13:44:00</td>\n",
       "      <td>Обед</td>\n",
       "      <td>239</td>\n",
       "      <td>Пицца Римская острая  целая</td>\n",
       "      <td>990.00</td>\n",
       "      <td>385.00</td>\n",
       "      <td>320.83</td>\n",
       "      <td>206.00</td>\n",
       "      <td>114.83</td>\n",
       "      <td>1.00</td>\n",
       "      <td>3</td>\n",
       "      <td>990.00</td>\n",
       "      <td>card</td>\n",
       "      <td>8931 - 6916901047427</td>\n",
       "      <td>Основное блюдо</td>\n",
       "      <td>Пицца</td>\n",
       "      <td>Зима</td>\n",
       "      <td>Пятница</td>\n",
       "      <td>13</td>\n",
       "      <td>2024-01-12</td>\n",
       "      <td>320.83</td>\n",
       "      <td>Январь</td>\n",
       "      <td>1 Квартал</td>\n",
       "    </tr>\n",
       "    <tr>\n",
       "      <th>50875</th>\n",
       "      <td>6916901047427</td>\n",
       "      <td>509</td>\n",
       "      <td>2024-02-06 16:08:00</td>\n",
       "      <td>Скидки</td>\n",
       "      <td>7</td>\n",
       "      <td>Боул с лососем</td>\n",
       "      <td>519.00</td>\n",
       "      <td>280.32</td>\n",
       "      <td>233.60</td>\n",
       "      <td>172.47</td>\n",
       "      <td>61.13</td>\n",
       "      <td>1.00</td>\n",
       "      <td>3</td>\n",
       "      <td>519.00</td>\n",
       "      <td>card</td>\n",
       "      <td>509 - 6916901047427</td>\n",
       "      <td>Основное блюдо</td>\n",
       "      <td>Боул</td>\n",
       "      <td>Зима</td>\n",
       "      <td>Вторник</td>\n",
       "      <td>16</td>\n",
       "      <td>2024-02-06</td>\n",
       "      <td>233.60</td>\n",
       "      <td>Февраль</td>\n",
       "      <td>1 Квартал</td>\n",
       "    </tr>\n",
       "    <tr>\n",
       "      <th>156003</th>\n",
       "      <td>6916901047427</td>\n",
       "      <td>3584</td>\n",
       "      <td>2024-04-09 17:45:00</td>\n",
       "      <td>Скидки</td>\n",
       "      <td>50</td>\n",
       "      <td>Салат Цезарь с лососем 165 гр</td>\n",
       "      <td>994.00</td>\n",
       "      <td>280.23</td>\n",
       "      <td>233.53</td>\n",
       "      <td>127.14</td>\n",
       "      <td>106.39</td>\n",
       "      <td>1.00</td>\n",
       "      <td>4</td>\n",
       "      <td>994.00</td>\n",
       "      <td>card</td>\n",
       "      <td>3584 - 6916901047427</td>\n",
       "      <td>Салат</td>\n",
       "      <td>Цезарь</td>\n",
       "      <td>Весна</td>\n",
       "      <td>Вторник</td>\n",
       "      <td>17</td>\n",
       "      <td>2024-04-09</td>\n",
       "      <td>233.53</td>\n",
       "      <td>Апрель</td>\n",
       "      <td>2 Квартал</td>\n",
       "    </tr>\n",
       "    <tr>\n",
       "      <th>156004</th>\n",
       "      <td>6916901047427</td>\n",
       "      <td>3584</td>\n",
       "      <td>2024-04-09 17:45:00</td>\n",
       "      <td>Скидки</td>\n",
       "      <td>50</td>\n",
       "      <td>Круассан с лососем</td>\n",
       "      <td>994.00</td>\n",
       "      <td>260.21</td>\n",
       "      <td>216.84</td>\n",
       "      <td>123.95</td>\n",
       "      <td>92.89</td>\n",
       "      <td>1.00</td>\n",
       "      <td>5</td>\n",
       "      <td>994.00</td>\n",
       "      <td>card</td>\n",
       "      <td>3584 - 6916901047427</td>\n",
       "      <td>Бутерброд</td>\n",
       "      <td>Круассан</td>\n",
       "      <td>Весна</td>\n",
       "      <td>Вторник</td>\n",
       "      <td>17</td>\n",
       "      <td>2024-04-09</td>\n",
       "      <td>216.84</td>\n",
       "      <td>Апрель</td>\n",
       "      <td>2 Квартал</td>\n",
       "    </tr>\n",
       "    <tr>\n",
       "      <th>252378</th>\n",
       "      <td>6916860058096</td>\n",
       "      <td>50621</td>\n",
       "      <td>2024-06-13 09:58:00</td>\n",
       "      <td>Завтрак</td>\n",
       "      <td>92</td>\n",
       "      <td>Салат Столичный с курицей 1,0 кг</td>\n",
       "      <td>1,340.00</td>\n",
       "      <td>700.00</td>\n",
       "      <td>583.33</td>\n",
       "      <td>153.49</td>\n",
       "      <td>429.84</td>\n",
       "      <td>1.00</td>\n",
       "      <td>2</td>\n",
       "      <td>1,340.00</td>\n",
       "      <td>card</td>\n",
       "      <td>50621 - 6916860058096</td>\n",
       "      <td>Салат</td>\n",
       "      <td>Прочие</td>\n",
       "      <td>Лето</td>\n",
       "      <td>Четверг</td>\n",
       "      <td>9</td>\n",
       "      <td>2024-06-13</td>\n",
       "      <td>583.33</td>\n",
       "      <td>Июнь</td>\n",
       "      <td>2 Квартал</td>\n",
       "    </tr>\n",
       "    <tr>\n",
       "      <th>334271</th>\n",
       "      <td>6916860058096</td>\n",
       "      <td>70576</td>\n",
       "      <td>2024-08-06 16:51:00</td>\n",
       "      <td>Скидки</td>\n",
       "      <td>131</td>\n",
       "      <td>Боул с лососем</td>\n",
       "      <td>287.00</td>\n",
       "      <td>280.59</td>\n",
       "      <td>233.83</td>\n",
       "      <td>176.35</td>\n",
       "      <td>57.48</td>\n",
       "      <td>1.00</td>\n",
       "      <td>1</td>\n",
       "      <td>287.00</td>\n",
       "      <td>card</td>\n",
       "      <td>70576 - 6916860058096</td>\n",
       "      <td>Основное блюдо</td>\n",
       "      <td>Боул</td>\n",
       "      <td>Лето</td>\n",
       "      <td>Вторник</td>\n",
       "      <td>16</td>\n",
       "      <td>2024-08-06</td>\n",
       "      <td>233.83</td>\n",
       "      <td>Август</td>\n",
       "      <td>3 Квартал</td>\n",
       "    </tr>\n",
       "    <tr>\n",
       "      <th>353233</th>\n",
       "      <td>6916860058096</td>\n",
       "      <td>75417</td>\n",
       "      <td>2024-08-19 17:14:00</td>\n",
       "      <td>Скидки</td>\n",
       "      <td>140</td>\n",
       "      <td>Боул с лососем</td>\n",
       "      <td>853.00</td>\n",
       "      <td>280.20</td>\n",
       "      <td>233.50</td>\n",
       "      <td>176.35</td>\n",
       "      <td>57.15</td>\n",
       "      <td>1.00</td>\n",
       "      <td>3</td>\n",
       "      <td>853.00</td>\n",
       "      <td>card</td>\n",
       "      <td>75417 - 6916860058096</td>\n",
       "      <td>Основное блюдо</td>\n",
       "      <td>Боул</td>\n",
       "      <td>Лето</td>\n",
       "      <td>Понедельник</td>\n",
       "      <td>17</td>\n",
       "      <td>2024-08-19</td>\n",
       "      <td>233.50</td>\n",
       "      <td>Август</td>\n",
       "      <td>3 Квартал</td>\n",
       "    </tr>\n",
       "  </tbody>\n",
       "</table>\n",
       "</div>"
      ],
      "text/plain": [
       "                  rnm  num_check            datetime time_eat  smena  \\\n",
       "4796    6916901047427       8831 2024-01-11 10:57:00  Завтрак    238   \n",
       "8125    6916901047427       8931 2024-01-12 13:44:00     Обед    239   \n",
       "50875   6916901047427        509 2024-02-06 16:08:00   Скидки      7   \n",
       "156003  6916901047427       3584 2024-04-09 17:45:00   Скидки     50   \n",
       "156004  6916901047427       3584 2024-04-09 17:45:00   Скидки     50   \n",
       "252378  6916860058096      50621 2024-06-13 09:58:00  Завтрак     92   \n",
       "334271  6916860058096      70576 2024-08-06 16:51:00   Скидки    131   \n",
       "353233  6916860058096      75417 2024-08-19 17:14:00   Скидки    140   \n",
       "\n",
       "                                    good  total_chek    price  pr_bez_nds  \\\n",
       "4796       Буженина из свиной шеи 1,0 кг    4,000.00 1,000.00      833.33   \n",
       "8125         Пицца Римская острая  целая      990.00   385.00      320.83   \n",
       "50875                     Боул с лососем      519.00   280.32      233.60   \n",
       "156003     Салат Цезарь с лососем 165 гр      994.00   280.23      233.53   \n",
       "156004                Круассан с лососем      994.00   260.21      216.84   \n",
       "252378  Салат Столичный с курицей 1,0 кг    1,340.00   700.00      583.33   \n",
       "334271                    Боул с лососем      287.00   280.59      233.83   \n",
       "353233                    Боул с лососем      853.00   280.20      233.50   \n",
       "\n",
       "        avg_price  profit  amount  position_good    summa payment  \\\n",
       "4796       853.64  -20.31    0.60              4 4,000.00    cash   \n",
       "8125       206.00  114.83    1.00              3   990.00    card   \n",
       "50875      172.47   61.13    1.00              3   519.00    card   \n",
       "156003     127.14  106.39    1.00              4   994.00    card   \n",
       "156004     123.95   92.89    1.00              5   994.00    card   \n",
       "252378     153.49  429.84    1.00              2 1,340.00    card   \n",
       "334271     176.35   57.48    1.00              1   287.00    card   \n",
       "353233     176.35   57.15    1.00              3   853.00    card   \n",
       "\n",
       "                 check_unique           group          on-group seasons  \\\n",
       "4796     8831 - 6916901047427  Основное блюдо  Блюда из свинины    Зима   \n",
       "8125     8931 - 6916901047427  Основное блюдо             Пицца    Зима   \n",
       "50875     509 - 6916901047427  Основное блюдо              Боул    Зима   \n",
       "156003   3584 - 6916901047427           Салат            Цезарь   Весна   \n",
       "156004   3584 - 6916901047427       Бутерброд          Круассан   Весна   \n",
       "252378  50621 - 6916860058096           Салат            Прочие    Лето   \n",
       "334271  70576 - 6916860058096  Основное блюдо              Боул    Лето   \n",
       "353233  75417 - 6916860058096  Основное блюдо              Боул    Лето   \n",
       "\n",
       "                day  hour       date  revenue     mnth      quart  \n",
       "4796        Четверг    10 2024-01-11   500.00   Январь  1 Квартал  \n",
       "8125        Пятница    13 2024-01-12   320.83   Январь  1 Квартал  \n",
       "50875       Вторник    16 2024-02-06   233.60  Февраль  1 Квартал  \n",
       "156003      Вторник    17 2024-04-09   233.53   Апрель  2 Квартал  \n",
       "156004      Вторник    17 2024-04-09   216.84   Апрель  2 Квартал  \n",
       "252378      Четверг     9 2024-06-13   583.33     Июнь  2 Квартал  \n",
       "334271      Вторник    16 2024-08-06   233.83   Август  3 Квартал  \n",
       "353233  Понедельник    17 2024-08-19   233.50   Август  3 Квартал  "
      ]
     },
     "execution_count": 32,
     "metadata": {},
     "output_type": "execute_result"
    }
   ],
   "source": [
    "df_filtered"
   ]
  }
 ],
 "metadata": {
  "kernelspec": {
   "display_name": "Python 3",
   "language": "python",
   "name": "python3"
  },
  "language_info": {
   "codemirror_mode": {
    "name": "ipython",
    "version": 3
   },
   "file_extension": ".py",
   "mimetype": "text/x-python",
   "name": "python",
   "nbconvert_exporter": "python",
   "pygments_lexer": "ipython3",
   "version": "3.11.4"
  }
 },
 "nbformat": 4,
 "nbformat_minor": 2
}
