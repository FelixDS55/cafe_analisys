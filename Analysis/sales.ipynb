{
 "cells": [
  {
   "cell_type": "code",
   "execution_count": 1,
   "metadata": {},
   "outputs": [],
   "source": [
    "import pandas as pd\n",
    "import sqlite3\n",
    "import numpy as np\n",
    "import matplotlib.pyplot as plt"
   ]
  },
  {
   "cell_type": "code",
   "execution_count": 2,
   "metadata": {},
   "outputs": [],
   "source": [
    "pd.set_option('display.float_format', '{:.2f}'.format)\n",
    "pd.set_option('display.float_format', '{:,.2f}'.format)\n",
    "pd.set_option('display.max_columns', None)"
   ]
  },
  {
   "cell_type": "code",
   "execution_count": 3,
   "metadata": {},
   "outputs": [
    {
     "name": "stderr",
     "output_type": "stream",
     "text": [
      "<>:1: SyntaxWarning: invalid escape sequence '\\P'\n",
      "<>:1: SyntaxWarning: invalid escape sequence '\\P'\n",
      "C:\\Users\\Lenovo\\AppData\\Local\\Temp\\ipykernel_11144\\2140274798.py:1: SyntaxWarning: invalid escape sequence '\\P'\n",
      "  df = pd.read_pickle('D:\\Projects\\Cafe db\\data')\n"
     ]
    }
   ],
   "source": [
    "df = pd.read_pickle('D:\\Projects\\Cafe db\\data')"
   ]
  },
  {
   "cell_type": "code",
   "execution_count": 4,
   "metadata": {},
   "outputs": [
    {
     "data": {
      "text/html": [
       "<div>\n",
       "<style scoped>\n",
       "    .dataframe tbody tr th:only-of-type {\n",
       "        vertical-align: middle;\n",
       "    }\n",
       "\n",
       "    .dataframe tbody tr th {\n",
       "        vertical-align: top;\n",
       "    }\n",
       "\n",
       "    .dataframe thead th {\n",
       "        text-align: right;\n",
       "    }\n",
       "</style>\n",
       "<table border=\"1\" class=\"dataframe\">\n",
       "  <thead>\n",
       "    <tr style=\"text-align: right;\">\n",
       "      <th></th>\n",
       "      <th>rnm</th>\n",
       "      <th>num_check</th>\n",
       "      <th>datetime</th>\n",
       "      <th>time_eat</th>\n",
       "      <th>smena</th>\n",
       "      <th>good</th>\n",
       "      <th>total_chek</th>\n",
       "      <th>price</th>\n",
       "      <th>pr_bez_nds</th>\n",
       "      <th>avg_price</th>\n",
       "      <th>profit</th>\n",
       "      <th>amount</th>\n",
       "      <th>position_good</th>\n",
       "      <th>summa</th>\n",
       "      <th>payment</th>\n",
       "      <th>check_unique</th>\n",
       "      <th>group</th>\n",
       "      <th>on-group</th>\n",
       "      <th>seasons</th>\n",
       "      <th>day</th>\n",
       "      <th>hour</th>\n",
       "      <th>date</th>\n",
       "      <th>revenue</th>\n",
       "      <th>mnth</th>\n",
       "      <th>quart</th>\n",
       "    </tr>\n",
       "  </thead>\n",
       "  <tbody>\n",
       "    <tr>\n",
       "      <th>0</th>\n",
       "      <td>6916860058096</td>\n",
       "      <td>92970</td>\n",
       "      <td>2024-01-09 08:06:00</td>\n",
       "      <td>Ранний завтрак</td>\n",
       "      <td>240</td>\n",
       "      <td>Яичница с беконом</td>\n",
       "      <td>181.00</td>\n",
       "      <td>45.00</td>\n",
       "      <td>37.50</td>\n",
       "      <td>22.95</td>\n",
       "      <td>14.55</td>\n",
       "      <td>1.00</td>\n",
       "      <td>1</td>\n",
       "      <td>181.00</td>\n",
       "      <td>card</td>\n",
       "      <td>92970 - 6916860058096</td>\n",
       "      <td>Завтрак</td>\n",
       "      <td>Яичница</td>\n",
       "      <td>Зима</td>\n",
       "      <td>Вторник</td>\n",
       "      <td>8</td>\n",
       "      <td>2024-01-09</td>\n",
       "      <td>37.50</td>\n",
       "      <td>Январь</td>\n",
       "      <td>1 Квартал</td>\n",
       "    </tr>\n",
       "    <tr>\n",
       "      <th>1</th>\n",
       "      <td>6916860058096</td>\n",
       "      <td>92970</td>\n",
       "      <td>2024-01-09 08:06:00</td>\n",
       "      <td>Ранний завтрак</td>\n",
       "      <td>240</td>\n",
       "      <td>Сосиски отварные</td>\n",
       "      <td>181.00</td>\n",
       "      <td>65.00</td>\n",
       "      <td>54.17</td>\n",
       "      <td>23.78</td>\n",
       "      <td>30.39</td>\n",
       "      <td>1.00</td>\n",
       "      <td>2</td>\n",
       "      <td>181.00</td>\n",
       "      <td>card</td>\n",
       "      <td>92970 - 6916860058096</td>\n",
       "      <td>Основное блюдо</td>\n",
       "      <td>Колбаски разные</td>\n",
       "      <td>Зима</td>\n",
       "      <td>Вторник</td>\n",
       "      <td>8</td>\n",
       "      <td>2024-01-09</td>\n",
       "      <td>54.17</td>\n",
       "      <td>Январь</td>\n",
       "      <td>1 Квартал</td>\n",
       "    </tr>\n",
       "    <tr>\n",
       "      <th>2</th>\n",
       "      <td>6916860058096</td>\n",
       "      <td>92970</td>\n",
       "      <td>2024-01-09 08:06:00</td>\n",
       "      <td>Ранний завтрак</td>\n",
       "      <td>240</td>\n",
       "      <td>Каша овсяная на молоке</td>\n",
       "      <td>181.00</td>\n",
       "      <td>65.00</td>\n",
       "      <td>54.17</td>\n",
       "      <td>13.75</td>\n",
       "      <td>40.42</td>\n",
       "      <td>1.00</td>\n",
       "      <td>3</td>\n",
       "      <td>181.00</td>\n",
       "      <td>card</td>\n",
       "      <td>92970 - 6916860058096</td>\n",
       "      <td>Завтрак</td>\n",
       "      <td>Каши</td>\n",
       "      <td>Зима</td>\n",
       "      <td>Вторник</td>\n",
       "      <td>8</td>\n",
       "      <td>2024-01-09</td>\n",
       "      <td>54.17</td>\n",
       "      <td>Январь</td>\n",
       "      <td>1 Квартал</td>\n",
       "    </tr>\n",
       "    <tr>\n",
       "      <th>3</th>\n",
       "      <td>6916860058096</td>\n",
       "      <td>92970</td>\n",
       "      <td>2024-01-09 08:06:00</td>\n",
       "      <td>Ранний завтрак</td>\n",
       "      <td>240</td>\n",
       "      <td>Хлеб ржано-пшеничный</td>\n",
       "      <td>181.00</td>\n",
       "      <td>6.00</td>\n",
       "      <td>5.00</td>\n",
       "      <td>1.84</td>\n",
       "      <td>3.16</td>\n",
       "      <td>1.00</td>\n",
       "      <td>4</td>\n",
       "      <td>181.00</td>\n",
       "      <td>card</td>\n",
       "      <td>92970 - 6916860058096</td>\n",
       "      <td>Хлеб</td>\n",
       "      <td>Хлеб</td>\n",
       "      <td>Зима</td>\n",
       "      <td>Вторник</td>\n",
       "      <td>8</td>\n",
       "      <td>2024-01-09</td>\n",
       "      <td>5.00</td>\n",
       "      <td>Январь</td>\n",
       "      <td>1 Квартал</td>\n",
       "    </tr>\n",
       "    <tr>\n",
       "      <th>4</th>\n",
       "      <td>6916860058096</td>\n",
       "      <td>92971</td>\n",
       "      <td>2024-01-09 08:07:00</td>\n",
       "      <td>Ранний завтрак</td>\n",
       "      <td>240</td>\n",
       "      <td>Каша рисовая на молоке</td>\n",
       "      <td>145.00</td>\n",
       "      <td>65.00</td>\n",
       "      <td>54.17</td>\n",
       "      <td>17.42</td>\n",
       "      <td>36.75</td>\n",
       "      <td>1.00</td>\n",
       "      <td>1</td>\n",
       "      <td>145.00</td>\n",
       "      <td>card</td>\n",
       "      <td>92971 - 6916860058096</td>\n",
       "      <td>Завтрак</td>\n",
       "      <td>Каши</td>\n",
       "      <td>Зима</td>\n",
       "      <td>Вторник</td>\n",
       "      <td>8</td>\n",
       "      <td>2024-01-09</td>\n",
       "      <td>54.17</td>\n",
       "      <td>Январь</td>\n",
       "      <td>1 Квартал</td>\n",
       "    </tr>\n",
       "  </tbody>\n",
       "</table>\n",
       "</div>"
      ],
      "text/plain": [
       "             rnm  num_check            datetime        time_eat  smena  \\\n",
       "0  6916860058096      92970 2024-01-09 08:06:00  Ранний завтрак    240   \n",
       "1  6916860058096      92970 2024-01-09 08:06:00  Ранний завтрак    240   \n",
       "2  6916860058096      92970 2024-01-09 08:06:00  Ранний завтрак    240   \n",
       "3  6916860058096      92970 2024-01-09 08:06:00  Ранний завтрак    240   \n",
       "4  6916860058096      92971 2024-01-09 08:07:00  Ранний завтрак    240   \n",
       "\n",
       "                     good  total_chek  price  pr_bez_nds  avg_price  profit  \\\n",
       "0       Яичница с беконом      181.00  45.00       37.50      22.95   14.55   \n",
       "1        Сосиски отварные      181.00  65.00       54.17      23.78   30.39   \n",
       "2  Каша овсяная на молоке      181.00  65.00       54.17      13.75   40.42   \n",
       "3    Хлеб ржано-пшеничный      181.00   6.00        5.00       1.84    3.16   \n",
       "4  Каша рисовая на молоке      145.00  65.00       54.17      17.42   36.75   \n",
       "\n",
       "   amount  position_good  summa payment           check_unique  \\\n",
       "0    1.00              1 181.00    card  92970 - 6916860058096   \n",
       "1    1.00              2 181.00    card  92970 - 6916860058096   \n",
       "2    1.00              3 181.00    card  92970 - 6916860058096   \n",
       "3    1.00              4 181.00    card  92970 - 6916860058096   \n",
       "4    1.00              1 145.00    card  92971 - 6916860058096   \n",
       "\n",
       "            group         on-group seasons      day  hour       date  revenue  \\\n",
       "0         Завтрак          Яичница    Зима  Вторник     8 2024-01-09    37.50   \n",
       "1  Основное блюдо  Колбаски разные    Зима  Вторник     8 2024-01-09    54.17   \n",
       "2         Завтрак             Каши    Зима  Вторник     8 2024-01-09    54.17   \n",
       "3            Хлеб             Хлеб    Зима  Вторник     8 2024-01-09     5.00   \n",
       "4         Завтрак             Каши    Зима  Вторник     8 2024-01-09    54.17   \n",
       "\n",
       "     mnth      quart  \n",
       "0  Январь  1 Квартал  \n",
       "1  Январь  1 Квартал  \n",
       "2  Январь  1 Квартал  \n",
       "3  Январь  1 Квартал  \n",
       "4  Январь  1 Квартал  "
      ]
     },
     "execution_count": 4,
     "metadata": {},
     "output_type": "execute_result"
    }
   ],
   "source": [
    "df.head()"
   ]
  },
  {
   "cell_type": "code",
   "execution_count": 5,
   "metadata": {},
   "outputs": [
    {
     "name": "stdout",
     "output_type": "stream",
     "text": [
      "<class 'pandas.core.frame.DataFrame'>\n",
      "RangeIndex: 483044 entries, 0 to 483043\n",
      "Data columns (total 25 columns):\n",
      " #   Column         Non-Null Count   Dtype         \n",
      "---  ------         --------------   -----         \n",
      " 0   rnm            483044 non-null  int64         \n",
      " 1   num_check      483044 non-null  int64         \n",
      " 2   datetime       483044 non-null  datetime64[ns]\n",
      " 3   time_eat       483044 non-null  object        \n",
      " 4   smena          483044 non-null  int64         \n",
      " 5   good           483044 non-null  object        \n",
      " 6   total_chek     483044 non-null  float64       \n",
      " 7   price          483044 non-null  float64       \n",
      " 8   pr_bez_nds     483044 non-null  float64       \n",
      " 9   avg_price      483044 non-null  float64       \n",
      " 10  profit         483044 non-null  float64       \n",
      " 11  amount         483044 non-null  float64       \n",
      " 12  position_good  483044 non-null  int64         \n",
      " 13  summa          483044 non-null  float64       \n",
      " 14  payment        483044 non-null  object        \n",
      " 15  check_unique   483044 non-null  object        \n",
      " 16  group          483044 non-null  object        \n",
      " 17  on-group       483044 non-null  object        \n",
      " 18  seasons        483044 non-null  category      \n",
      " 19  day            483044 non-null  category      \n",
      " 20  hour           483044 non-null  int32         \n",
      " 21  date           483044 non-null  datetime64[ns]\n",
      " 22  revenue        483044 non-null  float64       \n",
      " 23  mnth           483044 non-null  category      \n",
      " 24  quart          483044 non-null  object        \n",
      "dtypes: category(3), datetime64[ns](2), float64(8), int32(1), int64(4), object(7)\n",
      "memory usage: 80.6+ MB\n"
     ]
    }
   ],
   "source": [
    "df.info()"
   ]
  },
  {
   "cell_type": "markdown",
   "metadata": {},
   "source": [
    "**Общие продажи**"
   ]
  },
  {
   "cell_type": "code",
   "execution_count": 6,
   "metadata": {},
   "outputs": [
    {
     "name": "stderr",
     "output_type": "stream",
     "text": [
      "C:\\Users\\Lenovo\\AppData\\Local\\Temp\\ipykernel_11144\\1463252941.py:1: FutureWarning: The default of observed=False is deprecated and will be changed to True in a future version of pandas. Pass observed=False to retain current behavior or observed=True to adopt the future default and silence this warning.\n",
      "  revenue_by_seasons = df.groupby('seasons')['revenue'].sum().reset_index()\n"
     ]
    }
   ],
   "source": [
    "revenue_by_seasons = df.groupby('seasons')['revenue'].sum().reset_index()\n"
   ]
  },
  {
   "cell_type": "code",
   "execution_count": 7,
   "metadata": {},
   "outputs": [
    {
     "data": {
      "text/html": [
       "<div>\n",
       "<style scoped>\n",
       "    .dataframe tbody tr th:only-of-type {\n",
       "        vertical-align: middle;\n",
       "    }\n",
       "\n",
       "    .dataframe tbody tr th {\n",
       "        vertical-align: top;\n",
       "    }\n",
       "\n",
       "    .dataframe thead th {\n",
       "        text-align: right;\n",
       "    }\n",
       "</style>\n",
       "<table border=\"1\" class=\"dataframe\">\n",
       "  <thead>\n",
       "    <tr style=\"text-align: right;\">\n",
       "      <th></th>\n",
       "      <th>seasons</th>\n",
       "      <th>revenue</th>\n",
       "    </tr>\n",
       "  </thead>\n",
       "  <tbody>\n",
       "    <tr>\n",
       "      <th>0</th>\n",
       "      <td>Весна</td>\n",
       "      <td>10,856,403.81</td>\n",
       "    </tr>\n",
       "    <tr>\n",
       "      <th>1</th>\n",
       "      <td>Зима</td>\n",
       "      <td>6,261,071.99</td>\n",
       "    </tr>\n",
       "    <tr>\n",
       "      <th>2</th>\n",
       "      <td>Лето</td>\n",
       "      <td>9,891,405.76</td>\n",
       "    </tr>\n",
       "    <tr>\n",
       "      <th>3</th>\n",
       "      <td>Осень</td>\n",
       "      <td>8,002,904.17</td>\n",
       "    </tr>\n",
       "  </tbody>\n",
       "</table>\n",
       "</div>"
      ],
      "text/plain": [
       "  seasons       revenue\n",
       "0   Весна 10,856,403.81\n",
       "1    Зима  6,261,071.99\n",
       "2    Лето  9,891,405.76\n",
       "3   Осень  8,002,904.17"
      ]
     },
     "execution_count": 7,
     "metadata": {},
     "output_type": "execute_result"
    }
   ],
   "source": [
    "revenue_by_seasons"
   ]
  },
  {
   "cell_type": "code",
   "execution_count": 8,
   "metadata": {},
   "outputs": [
    {
     "name": "stderr",
     "output_type": "stream",
     "text": [
      "C:\\Users\\Lenovo\\AppData\\Local\\Temp\\ipykernel_11144\\1410262580.py:3: UserWarning: No artists with labels found to put in legend.  Note that artists whose label start with an underscore are ignored when legend() is called with no argument.\n",
      "  plt.legend()\n"
     ]
    },
    {
     "data": {
      "text/plain": [
       "<matplotlib.legend.Legend at 0x29105c22510>"
      ]
     },
     "execution_count": 8,
     "metadata": {},
     "output_type": "execute_result"
    },
    {
     "data": {
      "image/png": "[encoded data removed]",
      "text/plain": [
       "<Figure size 640x480 with 1 Axes>"
      ]
     },
     "metadata": {},
     "output_type": "display_data"
    }
   ],
   "source": [
    "plt.bar(revenue_by_seasons['seasons'], revenue_by_seasons['revenue'])\n",
    "plt.title('Rev per season')\n",
    "plt.legend()"
   ]
  },
  {
   "cell_type": "code",
   "execution_count": 9,
   "metadata": {},
   "outputs": [
    {
     "data": {
      "text/plain": [
       "Text(0.5, 1.0, 'Rev per season')"
      ]
     },
     "execution_count": 9,
     "metadata": {},
     "output_type": "execute_result"
    },
    {
     "data": {
      "image/png": "[encoded data removed]",
      "text/plain": [
       "<Figure size 640x480 with 1 Axes>"
      ]
     },
     "metadata": {},
     "output_type": "display_data"
    }
   ],
   "source": [
    "plt.plot(revenue_by_seasons['seasons'], revenue_by_seasons['revenue'], '--')\n",
    "plt.title('Rev per season')"
   ]
  },
  {
   "cell_type": "code",
   "execution_count": 10,
   "metadata": {},
   "outputs": [
    {
     "data": {
      "text/plain": [
       "Text(0.5, 1.0, 'Rev per season')"
      ]
     },
     "execution_count": 10,
     "metadata": {},
     "output_type": "execute_result"
    },
    {
     "data": {
      "image/png": "[encoded data removed]",
      "text/plain": [
       "<Figure size 640x480 with 1 Axes>"
      ]
     },
     "metadata": {},
     "output_type": "display_data"
    }
   ],
   "source": [
    "plt.plot(revenue_by_seasons['seasons'], revenue_by_seasons['revenue'], 'ro')\n",
    "plt.title('Rev per season')"
   ]
  },
  {
   "cell_type": "code",
   "execution_count": 11,
   "metadata": {},
   "outputs": [],
   "source": [
    "revenue_by_day = df.groupby('date')['revenue'].sum().reset_index()\n"
   ]
  },
  {
   "cell_type": "code",
   "execution_count": 12,
   "metadata": {},
   "outputs": [
    {
     "data": {
      "text/html": [
       "<div>\n",
       "<style scoped>\n",
       "    .dataframe tbody tr th:only-of-type {\n",
       "        vertical-align: middle;\n",
       "    }\n",
       "\n",
       "    .dataframe tbody tr th {\n",
       "        vertical-align: top;\n",
       "    }\n",
       "\n",
       "    .dataframe thead th {\n",
       "        text-align: right;\n",
       "    }\n",
       "</style>\n",
       "<table border=\"1\" class=\"dataframe\">\n",
       "  <thead>\n",
       "    <tr style=\"text-align: right;\">\n",
       "      <th></th>\n",
       "      <th>date</th>\n",
       "      <th>revenue</th>\n",
       "    </tr>\n",
       "  </thead>\n",
       "  <tbody>\n",
       "    <tr>\n",
       "      <th>0</th>\n",
       "      <td>2024-01-09</td>\n",
       "      <td>151,390.56</td>\n",
       "    </tr>\n",
       "    <tr>\n",
       "      <th>1</th>\n",
       "      <td>2024-01-10</td>\n",
       "      <td>152,921.11</td>\n",
       "    </tr>\n",
       "    <tr>\n",
       "      <th>2</th>\n",
       "      <td>2024-01-11</td>\n",
       "      <td>187,202.28</td>\n",
       "    </tr>\n",
       "    <tr>\n",
       "      <th>3</th>\n",
       "      <td>2024-01-12</td>\n",
       "      <td>159,033.73</td>\n",
       "    </tr>\n",
       "    <tr>\n",
       "      <th>4</th>\n",
       "      <td>2024-01-15</td>\n",
       "      <td>169,526.85</td>\n",
       "    </tr>\n",
       "    <tr>\n",
       "      <th>...</th>\n",
       "      <td>...</td>\n",
       "      <td>...</td>\n",
       "    </tr>\n",
       "    <tr>\n",
       "      <th>201</th>\n",
       "      <td>2024-10-25</td>\n",
       "      <td>176,409.45</td>\n",
       "    </tr>\n",
       "    <tr>\n",
       "      <th>202</th>\n",
       "      <td>2024-10-28</td>\n",
       "      <td>180,356.76</td>\n",
       "    </tr>\n",
       "    <tr>\n",
       "      <th>203</th>\n",
       "      <td>2024-10-29</td>\n",
       "      <td>175,909.67</td>\n",
       "    </tr>\n",
       "    <tr>\n",
       "      <th>204</th>\n",
       "      <td>2024-10-30</td>\n",
       "      <td>197,619.28</td>\n",
       "    </tr>\n",
       "    <tr>\n",
       "      <th>205</th>\n",
       "      <td>2024-10-31</td>\n",
       "      <td>194,098.86</td>\n",
       "    </tr>\n",
       "  </tbody>\n",
       "</table>\n",
       "<p>206 rows × 2 columns</p>\n",
       "</div>"
      ],
      "text/plain": [
       "          date    revenue\n",
       "0   2024-01-09 151,390.56\n",
       "1   2024-01-10 152,921.11\n",
       "2   2024-01-11 187,202.28\n",
       "3   2024-01-12 159,033.73\n",
       "4   2024-01-15 169,526.85\n",
       "..         ...        ...\n",
       "201 2024-10-25 176,409.45\n",
       "202 2024-10-28 180,356.76\n",
       "203 2024-10-29 175,909.67\n",
       "204 2024-10-30 197,619.28\n",
       "205 2024-10-31 194,098.86\n",
       "\n",
       "[206 rows x 2 columns]"
      ]
     },
     "execution_count": 12,
     "metadata": {},
     "output_type": "execute_result"
    }
   ],
   "source": [
    "revenue_by_day"
   ]
  },
  {
   "cell_type": "code",
   "execution_count": 20,
   "metadata": {},
   "outputs": [],
   "source": [
    "revenue_by_group = df.groupby('group')['revenue'].sum().reset_index()"
   ]
  },
  {
   "cell_type": "code",
   "execution_count": 21,
   "metadata": {},
   "outputs": [
    {
     "data": {
      "text/html": [
       "<div>\n",
       "<style scoped>\n",
       "    .dataframe tbody tr th:only-of-type {\n",
       "        vertical-align: middle;\n",
       "    }\n",
       "\n",
       "    .dataframe tbody tr th {\n",
       "        vertical-align: top;\n",
       "    }\n",
       "\n",
       "    .dataframe thead th {\n",
       "        text-align: right;\n",
       "    }\n",
       "</style>\n",
       "<table border=\"1\" class=\"dataframe\">\n",
       "  <thead>\n",
       "    <tr style=\"text-align: right;\">\n",
       "      <th></th>\n",
       "      <th>group</th>\n",
       "      <th>revenue</th>\n",
       "    </tr>\n",
       "  </thead>\n",
       "  <tbody>\n",
       "    <tr>\n",
       "      <th>9</th>\n",
       "      <td>Основное блюдо</td>\n",
       "      <td>13,882,885.54</td>\n",
       "    </tr>\n",
       "    <tr>\n",
       "      <th>12</th>\n",
       "      <td>Салат</td>\n",
       "      <td>4,297,947.21</td>\n",
       "    </tr>\n",
       "    <tr>\n",
       "      <th>15</th>\n",
       "      <td>Супы Горячие</td>\n",
       "      <td>2,956,153.54</td>\n",
       "    </tr>\n",
       "    <tr>\n",
       "      <th>3</th>\n",
       "      <td>Гарнир</td>\n",
       "      <td>2,857,077.46</td>\n",
       "    </tr>\n",
       "    <tr>\n",
       "      <th>8</th>\n",
       "      <td>Напитки</td>\n",
       "      <td>2,584,406.21</td>\n",
       "    </tr>\n",
       "    <tr>\n",
       "      <th>5</th>\n",
       "      <td>Завтрак</td>\n",
       "      <td>1,586,977.91</td>\n",
       "    </tr>\n",
       "    <tr>\n",
       "      <th>2</th>\n",
       "      <td>Выпечка и десерт</td>\n",
       "      <td>1,480,207.64</td>\n",
       "    </tr>\n",
       "    <tr>\n",
       "      <th>20</th>\n",
       "      <td>Хрень</td>\n",
       "      <td>1,198,783.99</td>\n",
       "    </tr>\n",
       "    <tr>\n",
       "      <th>1</th>\n",
       "      <td>Выпечка</td>\n",
       "      <td>1,031,934.03</td>\n",
       "    </tr>\n",
       "    <tr>\n",
       "      <th>0</th>\n",
       "      <td>Бутерброд</td>\n",
       "      <td>878,893.98</td>\n",
       "    </tr>\n",
       "    <tr>\n",
       "      <th>4</th>\n",
       "      <td>Десерты</td>\n",
       "      <td>714,468.59</td>\n",
       "    </tr>\n",
       "    <tr>\n",
       "      <th>14</th>\n",
       "      <td>Соус</td>\n",
       "      <td>333,110.89</td>\n",
       "    </tr>\n",
       "    <tr>\n",
       "      <th>7</th>\n",
       "      <td>Контейнер</td>\n",
       "      <td>320,968.23</td>\n",
       "    </tr>\n",
       "    <tr>\n",
       "      <th>19</th>\n",
       "      <td>Хлеб</td>\n",
       "      <td>207,776.88</td>\n",
       "    </tr>\n",
       "    <tr>\n",
       "      <th>16</th>\n",
       "      <td>Супы холодные</td>\n",
       "      <td>196,427.71</td>\n",
       "    </tr>\n",
       "    <tr>\n",
       "      <th>18</th>\n",
       "      <td>Фрукты</td>\n",
       "      <td>167,602.52</td>\n",
       "    </tr>\n",
       "    <tr>\n",
       "      <th>6</th>\n",
       "      <td>Индивидуальный заказ</td>\n",
       "      <td>166,075.00</td>\n",
       "    </tr>\n",
       "    <tr>\n",
       "      <th>13</th>\n",
       "      <td>Снеки</td>\n",
       "      <td>125,747.17</td>\n",
       "    </tr>\n",
       "    <tr>\n",
       "      <th>10</th>\n",
       "      <td>Пирог цельный</td>\n",
       "      <td>13,489.57</td>\n",
       "    </tr>\n",
       "    <tr>\n",
       "      <th>11</th>\n",
       "      <td>Приборы</td>\n",
       "      <td>7,435.00</td>\n",
       "    </tr>\n",
       "    <tr>\n",
       "      <th>17</th>\n",
       "      <td>Торт цельный</td>\n",
       "      <td>3,416.66</td>\n",
       "    </tr>\n",
       "  </tbody>\n",
       "</table>\n",
       "</div>"
      ],
      "text/plain": [
       "                   group       revenue\n",
       "9         Основное блюдо 13,882,885.54\n",
       "12                 Салат  4,297,947.21\n",
       "15          Супы Горячие  2,956,153.54\n",
       "3                 Гарнир  2,857,077.46\n",
       "8                Напитки  2,584,406.21\n",
       "5                Завтрак  1,586,977.91\n",
       "2       Выпечка и десерт  1,480,207.64\n",
       "20                 Хрень  1,198,783.99\n",
       "1                Выпечка  1,031,934.03\n",
       "0              Бутерброд    878,893.98\n",
       "4                Десерты    714,468.59\n",
       "14                  Соус    333,110.89\n",
       "7              Контейнер    320,968.23\n",
       "19                  Хлеб    207,776.88\n",
       "16         Супы холодные    196,427.71\n",
       "18                Фрукты    167,602.52\n",
       "6   Индивидуальный заказ    166,075.00\n",
       "13                 Снеки    125,747.17\n",
       "10         Пирог цельный     13,489.57\n",
       "11               Приборы      7,435.00\n",
       "17          Торт цельный      3,416.66"
      ]
     },
     "execution_count": 21,
     "metadata": {},
     "output_type": "execute_result"
    }
   ],
   "source": [
    "revenue_by_group.sort_values(by='revenue', ascending=False)"
   ]
  },
  {
   "cell_type": "code",
   "execution_count": 25,
   "metadata": {},
   "outputs": [
    {
     "data": {
      "text/plain": [
       "array(['Завтрак', 'Основное блюдо', 'Хлеб', 'Напитки', 'Контейнер',\n",
       "       'Выпечка и десерт', 'Бутерброд', 'Выпечка', 'Соус', 'Салат',\n",
       "       'Снеки', 'Фрукты', 'Гарнир', 'Супы Горячие', 'Десерты', 'Приборы',\n",
       "       'Торт цельный', 'Индивидуальный заказ', 'Хрень', 'Пирог цельный',\n",
       "       'Супы холодные'], dtype=object)"
      ]
     },
     "execution_count": 25,
     "metadata": {},
     "output_type": "execute_result"
    }
   ],
   "source": [
    "df['group'].unique()"
   ]
  }
 ],
 "metadata": {
  "kernelspec": {
   "display_name": "Python 3",
   "language": "python",
   "name": "python3"
  },
  "language_info": {
   "codemirror_mode": {
    "name": "ipython",
    "version": 3
   },
   "file_extension": ".py",
   "mimetype": "text/x-python",
   "name": "python",
   "nbconvert_exporter": "python",
   "pygments_lexer": "ipython3",
   "version": "3.13.0"
  }
 },
 "nbformat": 4,
 "nbformat_minor": 2
}
