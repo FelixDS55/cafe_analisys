{
 "cells": [
  {
   "cell_type": "code",
   "execution_count": 39,
   "metadata": {},
   "outputs": [],
   "source": [
    "import pandas as pd\n",
    "import sqlite3\n",
    "import numpy as np\n",
    "import matplotlib.pyplot as plt"
   ]
  },
  {
   "cell_type": "code",
   "execution_count": 40,
   "metadata": {},
   "outputs": [],
   "source": [
    "pd.set_option('display.float_format', '{:.2f}'.format)\n",
    "pd.set_option('display.float_format', '{:,.2f}'.format)\n",
    "pd.set_option('display.max_columns', None)"
   ]
  },
  {
   "cell_type": "code",
   "execution_count": 41,
   "metadata": {},
   "outputs": [
    {
     "name": "stderr",
     "output_type": "stream",
     "text": [
      "<>:1: SyntaxWarning: invalid escape sequence '\\P'\n",
      "<>:1: SyntaxWarning: invalid escape sequence '\\P'\n",
      "C:\\Users\\Lenovo\\AppData\\Local\\Temp\\ipykernel_4696\\2140274798.py:1: SyntaxWarning: invalid escape sequence '\\P'\n",
      "  df = pd.read_pickle('D:\\Projects\\Cafe db\\data')\n"
     ]
    }
   ],
   "source": [
    "df = pd.read_pickle('D:\\Projects\\Cafe db\\data')"
   ]
  },
  {
   "cell_type": "code",
   "execution_count": 42,
   "metadata": {},
   "outputs": [
    {
     "data": {
      "text/html": [
       "<div>\n",
       "<style scoped>\n",
       "    .dataframe tbody tr th:only-of-type {\n",
       "        vertical-align: middle;\n",
       "    }\n",
       "\n",
       "    .dataframe tbody tr th {\n",
       "        vertical-align: top;\n",
       "    }\n",
       "\n",
       "    .dataframe thead th {\n",
       "        text-align: right;\n",
       "    }\n",
       "</style>\n",
       "<table border=\"1\" class=\"dataframe\">\n",
       "  <thead>\n",
       "    <tr style=\"text-align: right;\">\n",
       "      <th></th>\n",
       "      <th>rnm</th>\n",
       "      <th>num_check</th>\n",
       "      <th>datetime</th>\n",
       "      <th>time_eat</th>\n",
       "      <th>smena</th>\n",
       "      <th>good</th>\n",
       "      <th>total_chek</th>\n",
       "      <th>price</th>\n",
       "      <th>pr_bez_nds</th>\n",
       "      <th>avg_price</th>\n",
       "      <th>profit</th>\n",
       "      <th>amount</th>\n",
       "      <th>position_good</th>\n",
       "      <th>summa</th>\n",
       "      <th>payment</th>\n",
       "      <th>check_unique</th>\n",
       "      <th>group</th>\n",
       "      <th>on-group</th>\n",
       "      <th>seasons</th>\n",
       "      <th>day</th>\n",
       "      <th>hour</th>\n",
       "      <th>date</th>\n",
       "      <th>revenue</th>\n",
       "      <th>mnth</th>\n",
       "      <th>quart</th>\n",
       "    </tr>\n",
       "  </thead>\n",
       "  <tbody>\n",
       "    <tr>\n",
       "      <th>0</th>\n",
       "      <td>6916860058096</td>\n",
       "      <td>92970</td>\n",
       "      <td>2024-01-09 08:06:00</td>\n",
       "      <td>Ранний завтрак</td>\n",
       "      <td>240</td>\n",
       "      <td>Яичница с беконом</td>\n",
       "      <td>181.00</td>\n",
       "      <td>45.00</td>\n",
       "      <td>37.50</td>\n",
       "      <td>22.95</td>\n",
       "      <td>14.55</td>\n",
       "      <td>1.00</td>\n",
       "      <td>1</td>\n",
       "      <td>181.00</td>\n",
       "      <td>card</td>\n",
       "      <td>92970 - 6916860058096</td>\n",
       "      <td>Завтрак</td>\n",
       "      <td>Яичница</td>\n",
       "      <td>Зима</td>\n",
       "      <td>Вторник</td>\n",
       "      <td>8</td>\n",
       "      <td>2024-01-09</td>\n",
       "      <td>37.50</td>\n",
       "      <td>Январь</td>\n",
       "      <td>1 Квартал</td>\n",
       "    </tr>\n",
       "    <tr>\n",
       "      <th>1</th>\n",
       "      <td>6916860058096</td>\n",
       "      <td>92970</td>\n",
       "      <td>2024-01-09 08:06:00</td>\n",
       "      <td>Ранний завтрак</td>\n",
       "      <td>240</td>\n",
       "      <td>Сосиски отварные</td>\n",
       "      <td>181.00</td>\n",
       "      <td>65.00</td>\n",
       "      <td>54.17</td>\n",
       "      <td>23.78</td>\n",
       "      <td>30.39</td>\n",
       "      <td>1.00</td>\n",
       "      <td>2</td>\n",
       "      <td>181.00</td>\n",
       "      <td>card</td>\n",
       "      <td>92970 - 6916860058096</td>\n",
       "      <td>Основное блюдо</td>\n",
       "      <td>Колбаски разные</td>\n",
       "      <td>Зима</td>\n",
       "      <td>Вторник</td>\n",
       "      <td>8</td>\n",
       "      <td>2024-01-09</td>\n",
       "      <td>54.17</td>\n",
       "      <td>Январь</td>\n",
       "      <td>1 Квартал</td>\n",
       "    </tr>\n",
       "    <tr>\n",
       "      <th>2</th>\n",
       "      <td>6916860058096</td>\n",
       "      <td>92970</td>\n",
       "      <td>2024-01-09 08:06:00</td>\n",
       "      <td>Ранний завтрак</td>\n",
       "      <td>240</td>\n",
       "      <td>Каша овсяная на молоке</td>\n",
       "      <td>181.00</td>\n",
       "      <td>65.00</td>\n",
       "      <td>54.17</td>\n",
       "      <td>13.75</td>\n",
       "      <td>40.42</td>\n",
       "      <td>1.00</td>\n",
       "      <td>3</td>\n",
       "      <td>181.00</td>\n",
       "      <td>card</td>\n",
       "      <td>92970 - 6916860058096</td>\n",
       "      <td>Завтрак</td>\n",
       "      <td>Каши</td>\n",
       "      <td>Зима</td>\n",
       "      <td>Вторник</td>\n",
       "      <td>8</td>\n",
       "      <td>2024-01-09</td>\n",
       "      <td>54.17</td>\n",
       "      <td>Январь</td>\n",
       "      <td>1 Квартал</td>\n",
       "    </tr>\n",
       "    <tr>\n",
       "      <th>3</th>\n",
       "      <td>6916860058096</td>\n",
       "      <td>92970</td>\n",
       "      <td>2024-01-09 08:06:00</td>\n",
       "      <td>Ранний завтрак</td>\n",
       "      <td>240</td>\n",
       "      <td>Хлеб ржано-пшеничный</td>\n",
       "      <td>181.00</td>\n",
       "      <td>6.00</td>\n",
       "      <td>5.00</td>\n",
       "      <td>1.84</td>\n",
       "      <td>3.16</td>\n",
       "      <td>1.00</td>\n",
       "      <td>4</td>\n",
       "      <td>181.00</td>\n",
       "      <td>card</td>\n",
       "      <td>92970 - 6916860058096</td>\n",
       "      <td>Хлеб</td>\n",
       "      <td>Хлеб</td>\n",
       "      <td>Зима</td>\n",
       "      <td>Вторник</td>\n",
       "      <td>8</td>\n",
       "      <td>2024-01-09</td>\n",
       "      <td>5.00</td>\n",
       "      <td>Январь</td>\n",
       "      <td>1 Квартал</td>\n",
       "    </tr>\n",
       "    <tr>\n",
       "      <th>4</th>\n",
       "      <td>6916860058096</td>\n",
       "      <td>92971</td>\n",
       "      <td>2024-01-09 08:07:00</td>\n",
       "      <td>Ранний завтрак</td>\n",
       "      <td>240</td>\n",
       "      <td>Каша рисовая на молоке</td>\n",
       "      <td>145.00</td>\n",
       "      <td>65.00</td>\n",
       "      <td>54.17</td>\n",
       "      <td>17.42</td>\n",
       "      <td>36.75</td>\n",
       "      <td>1.00</td>\n",
       "      <td>1</td>\n",
       "      <td>145.00</td>\n",
       "      <td>card</td>\n",
       "      <td>92971 - 6916860058096</td>\n",
       "      <td>Завтрак</td>\n",
       "      <td>Каши</td>\n",
       "      <td>Зима</td>\n",
       "      <td>Вторник</td>\n",
       "      <td>8</td>\n",
       "      <td>2024-01-09</td>\n",
       "      <td>54.17</td>\n",
       "      <td>Январь</td>\n",
       "      <td>1 Квартал</td>\n",
       "    </tr>\n",
       "  </tbody>\n",
       "</table>\n",
       "</div>"
      ],
      "text/plain": [
       "             rnm  num_check            datetime        time_eat  smena  \\\n",
       "0  6916860058096      92970 2024-01-09 08:06:00  Ранний завтрак    240   \n",
       "1  6916860058096      92970 2024-01-09 08:06:00  Ранний завтрак    240   \n",
       "2  6916860058096      92970 2024-01-09 08:06:00  Ранний завтрак    240   \n",
       "3  6916860058096      92970 2024-01-09 08:06:00  Ранний завтрак    240   \n",
       "4  6916860058096      92971 2024-01-09 08:07:00  Ранний завтрак    240   \n",
       "\n",
       "                     good  total_chek  price  pr_bez_nds  avg_price  profit  \\\n",
       "0       Яичница с беконом      181.00  45.00       37.50      22.95   14.55   \n",
       "1        Сосиски отварные      181.00  65.00       54.17      23.78   30.39   \n",
       "2  Каша овсяная на молоке      181.00  65.00       54.17      13.75   40.42   \n",
       "3    Хлеб ржано-пшеничный      181.00   6.00        5.00       1.84    3.16   \n",
       "4  Каша рисовая на молоке      145.00  65.00       54.17      17.42   36.75   \n",
       "\n",
       "   amount  position_good  summa payment           check_unique  \\\n",
       "0    1.00              1 181.00    card  92970 - 6916860058096   \n",
       "1    1.00              2 181.00    card  92970 - 6916860058096   \n",
       "2    1.00              3 181.00    card  92970 - 6916860058096   \n",
       "3    1.00              4 181.00    card  92970 - 6916860058096   \n",
       "4    1.00              1 145.00    card  92971 - 6916860058096   \n",
       "\n",
       "            group         on-group seasons      day  hour       date  revenue  \\\n",
       "0         Завтрак          Яичница    Зима  Вторник     8 2024-01-09    37.50   \n",
       "1  Основное блюдо  Колбаски разные    Зима  Вторник     8 2024-01-09    54.17   \n",
       "2         Завтрак             Каши    Зима  Вторник     8 2024-01-09    54.17   \n",
       "3            Хлеб             Хлеб    Зима  Вторник     8 2024-01-09     5.00   \n",
       "4         Завтрак             Каши    Зима  Вторник     8 2024-01-09    54.17   \n",
       "\n",
       "     mnth      quart  \n",
       "0  Январь  1 Квартал  \n",
       "1  Январь  1 Квартал  \n",
       "2  Январь  1 Квартал  \n",
       "3  Январь  1 Квартал  \n",
       "4  Январь  1 Квартал  "
      ]
     },
     "execution_count": 42,
     "metadata": {},
     "output_type": "execute_result"
    }
   ],
   "source": [
    "df.head()"
   ]
  },
  {
   "cell_type": "code",
   "execution_count": 43,
   "metadata": {},
   "outputs": [
    {
     "name": "stdout",
     "output_type": "stream",
     "text": [
      "<class 'pandas.core.frame.DataFrame'>\n",
      "RangeIndex: 483044 entries, 0 to 483043\n",
      "Data columns (total 25 columns):\n",
      " #   Column         Non-Null Count   Dtype         \n",
      "---  ------         --------------   -----         \n",
      " 0   rnm            483044 non-null  int64         \n",
      " 1   num_check      483044 non-null  int64         \n",
      " 2   datetime       483044 non-null  datetime64[ns]\n",
      " 3   time_eat       483044 non-null  object        \n",
      " 4   smena          483044 non-null  int64         \n",
      " 5   good           483044 non-null  object        \n",
      " 6   total_chek     483044 non-null  float64       \n",
      " 7   price          483044 non-null  float64       \n",
      " 8   pr_bez_nds     483044 non-null  float64       \n",
      " 9   avg_price      483044 non-null  float64       \n",
      " 10  profit         483044 non-null  float64       \n",
      " 11  amount         483044 non-null  float64       \n",
      " 12  position_good  483044 non-null  int64         \n",
      " 13  summa          483044 non-null  float64       \n",
      " 14  payment        483044 non-null  object        \n",
      " 15  check_unique   483044 non-null  object        \n",
      " 16  group          483044 non-null  object        \n",
      " 17  on-group       483044 non-null  object        \n",
      " 18  seasons        483044 non-null  category      \n",
      " 19  day            483044 non-null  category      \n",
      " 20  hour           483044 non-null  int32         \n",
      " 21  date           483044 non-null  datetime64[ns]\n",
      " 22  revenue        483044 non-null  float64       \n",
      " 23  mnth           483044 non-null  category      \n",
      " 24  quart          483044 non-null  object        \n",
      "dtypes: category(3), datetime64[ns](2), float64(8), int32(1), int64(4), object(7)\n",
      "memory usage: 80.6+ MB\n"
     ]
    }
   ],
   "source": [
    "df.info()"
   ]
  },
  {
   "cell_type": "markdown",
   "metadata": {},
   "source": [
    "**Анализ цен и поиск выбросов**"
   ]
  },
  {
   "cell_type": "code",
   "execution_count": 44,
   "metadata": {},
   "outputs": [
    {
     "data": {
      "text/plain": [
       "np.float64(65.0)"
      ]
     },
     "execution_count": 44,
     "metadata": {},
     "output_type": "execute_result"
    }
   ],
   "source": [
    "df['price'].median()"
   ]
  },
  {
   "cell_type": "code",
   "execution_count": 45,
   "metadata": {},
   "outputs": [
    {
     "data": {
      "text/plain": [
       "np.float64(82.3224479136476)"
      ]
     },
     "execution_count": 45,
     "metadata": {},
     "output_type": "execute_result"
    }
   ],
   "source": [
    "df['price'].mean()"
   ]
  },
  {
   "cell_type": "code",
   "execution_count": 46,
   "metadata": {},
   "outputs": [],
   "source": [
    "data = np.array(df['price'])"
   ]
  },
  {
   "cell_type": "code",
   "execution_count": 47,
   "metadata": {},
   "outputs": [
    {
     "data": {
      "text/plain": [
       "{'whiskers': [<matplotlib.lines.Line2D at 0x2082d85f4d0>,\n",
       "  <matplotlib.lines.Line2D at 0x2082d85f610>],\n",
       " 'caps': [<matplotlib.lines.Line2D at 0x2082d85f750>,\n",
       "  <matplotlib.lines.Line2D at 0x2082d85f890>],\n",
       " 'boxes': [<matplotlib.lines.Line2D at 0x2082d85f390>],\n",
       " 'medians': [<matplotlib.lines.Line2D at 0x2082d85f9d0>],\n",
       " 'fliers': [<matplotlib.lines.Line2D at 0x2082d85fb10>],\n",
       " 'means': []}"
      ]
     },
     "execution_count": 47,
     "metadata": {},
     "output_type": "execute_result"
    },
    {
     "data": {
      "image/png": "[encoded data removed]",
      "text/plain": [
       "<Figure size 640x480 with 1 Axes>"
      ]
     },
     "metadata": {},
     "output_type": "display_data"
    }
   ],
   "source": [
    "plt.boxplot(data)"
   ]
  },
  {
   "cell_type": "code",
   "execution_count": 48,
   "metadata": {},
   "outputs": [
    {
     "data": {
      "text/plain": [
       "count   483,044.00\n",
       "mean         82.32\n",
       "std         812.09\n",
       "min           2.00\n",
       "25%          40.00\n",
       "50%          65.00\n",
       "75%         100.00\n",
       "max     400,000.00\n",
       "Name: price, dtype: float64"
      ]
     },
     "execution_count": 48,
     "metadata": {},
     "output_type": "execute_result"
    }
   ],
   "source": [
    "df['price'].describe()"
   ]
  },
  {
   "cell_type": "code",
   "execution_count": 49,
   "metadata": {},
   "outputs": [],
   "source": [
    "prc_75 = np.percentile(df['price'], 75)"
   ]
  },
  {
   "cell_type": "code",
   "execution_count": 50,
   "metadata": {},
   "outputs": [
    {
     "data": {
      "text/plain": [
       "np.float64(100.0)"
      ]
     },
     "execution_count": 50,
     "metadata": {},
     "output_type": "execute_result"
    }
   ],
   "source": [
    "prc_75"
   ]
  },
  {
   "cell_type": "code",
   "execution_count": 51,
   "metadata": {},
   "outputs": [],
   "source": [
    "prc_25 = np.percentile(df['price'], 25)"
   ]
  },
  {
   "cell_type": "code",
   "execution_count": 52,
   "metadata": {},
   "outputs": [
    {
     "data": {
      "text/plain": [
       "np.float64(40.0)"
      ]
     },
     "execution_count": 52,
     "metadata": {},
     "output_type": "execute_result"
    }
   ],
   "source": [
    "prc_25"
   ]
  },
  {
   "cell_type": "code",
   "execution_count": 53,
   "metadata": {},
   "outputs": [
    {
     "data": {
      "text/plain": [
       "np.float64(60.0)"
      ]
     },
     "execution_count": 53,
     "metadata": {},
     "output_type": "execute_result"
    }
   ],
   "source": [
    "iqr = prc_75 - prc_25\n",
    "iqr"
   ]
  },
  {
   "cell_type": "code",
   "execution_count": 54,
   "metadata": {},
   "outputs": [],
   "source": [
    "lower_bound = prc_25 - 2.5 * iqr\n",
    "upper_bound = prc_75 + 24.5 * iqr"
   ]
  },
  {
   "cell_type": "code",
   "execution_count": 55,
   "metadata": {},
   "outputs": [
    {
     "name": "stdout",
     "output_type": "stream",
     "text": [
      "Нижняя граница: -110.0, Верхняя граница: 1570.0\n"
     ]
    }
   ],
   "source": [
    "print(f\"Нижняя граница: {lower_bound}, Верхняя граница: {upper_bound}\")"
   ]
  },
  {
   "cell_type": "code",
   "execution_count": 56,
   "metadata": {},
   "outputs": [],
   "source": [
    "price_counts = df.groupby('price').size()"
   ]
  },
  {
   "cell_type": "code",
   "execution_count": 57,
   "metadata": {},
   "outputs": [
    {
     "data": {
      "text/plain": [
       "price\n",
       "2.00             1\n",
       "2.01             1\n",
       "3.00          2752\n",
       "3.01            41\n",
       "3.02             6\n",
       "              ... \n",
       "58,000.00        1\n",
       "108,820.80       1\n",
       "114,840.00       1\n",
       "351,000.00       1\n",
       "400,000.00       1\n",
       "Length: 1171, dtype: int64"
      ]
     },
     "execution_count": 57,
     "metadata": {},
     "output_type": "execute_result"
    }
   ],
   "source": [
    "price_counts"
   ]
  },
  {
   "cell_type": "code",
   "execution_count": 58,
   "metadata": {},
   "outputs": [],
   "source": [
    "#unique_prices = price_counts[price_counts == 1].index"
   ]
  },
  {
   "cell_type": "code",
   "execution_count": 59,
   "metadata": {},
   "outputs": [],
   "source": [
    "#df_unique = df[df['price'].isin(unique_prices)]"
   ]
  },
  {
   "cell_type": "code",
   "execution_count": 60,
   "metadata": {},
   "outputs": [],
   "source": [
    "outliers = df[(df['price'] < lower_bound) | (df['price'] > upper_bound)]"
   ]
  },
  {
   "cell_type": "code",
   "execution_count": 61,
   "metadata": {},
   "outputs": [
    {
     "data": {
      "text/html": [
       "<div>\n",
       "<style scoped>\n",
       "    .dataframe tbody tr th:only-of-type {\n",
       "        vertical-align: middle;\n",
       "    }\n",
       "\n",
       "    .dataframe tbody tr th {\n",
       "        vertical-align: top;\n",
       "    }\n",
       "\n",
       "    .dataframe thead th {\n",
       "        text-align: right;\n",
       "    }\n",
       "</style>\n",
       "<table border=\"1\" class=\"dataframe\">\n",
       "  <thead>\n",
       "    <tr style=\"text-align: right;\">\n",
       "      <th></th>\n",
       "      <th>rnm</th>\n",
       "      <th>num_check</th>\n",
       "      <th>datetime</th>\n",
       "      <th>time_eat</th>\n",
       "      <th>smena</th>\n",
       "      <th>good</th>\n",
       "      <th>total_chek</th>\n",
       "      <th>price</th>\n",
       "      <th>pr_bez_nds</th>\n",
       "      <th>avg_price</th>\n",
       "      <th>profit</th>\n",
       "      <th>amount</th>\n",
       "      <th>position_good</th>\n",
       "      <th>summa</th>\n",
       "      <th>payment</th>\n",
       "      <th>check_unique</th>\n",
       "      <th>group</th>\n",
       "      <th>on-group</th>\n",
       "      <th>seasons</th>\n",
       "      <th>day</th>\n",
       "      <th>hour</th>\n",
       "      <th>date</th>\n",
       "      <th>revenue</th>\n",
       "      <th>mnth</th>\n",
       "      <th>quart</th>\n",
       "    </tr>\n",
       "  </thead>\n",
       "  <tbody>\n",
       "    <tr>\n",
       "      <th>7403</th>\n",
       "      <td>6916860058096</td>\n",
       "      <td>94721</td>\n",
       "      <td>2024-01-12 11:32:00</td>\n",
       "      <td>Завтрак</td>\n",
       "      <td>243</td>\n",
       "      <td>Пирожки 12.01.24</td>\n",
       "      <td>6,000.00</td>\n",
       "      <td>6,000.00</td>\n",
       "      <td>5,000.00</td>\n",
       "      <td>13.53</td>\n",
       "      <td>4,986.47</td>\n",
       "      <td>1.00</td>\n",
       "      <td>1</td>\n",
       "      <td>6,000.00</td>\n",
       "      <td>cash</td>\n",
       "      <td>94721 - 6916860058096</td>\n",
       "      <td>Индивидуальный заказ</td>\n",
       "      <td>Индивидуальный заказ</td>\n",
       "      <td>Зима</td>\n",
       "      <td>Пятница</td>\n",
       "      <td>11</td>\n",
       "      <td>2024-01-12</td>\n",
       "      <td>5,000.00</td>\n",
       "      <td>Январь</td>\n",
       "      <td>1 Квартал</td>\n",
       "    </tr>\n",
       "    <tr>\n",
       "      <th>9576</th>\n",
       "      <td>6916860058096</td>\n",
       "      <td>95227</td>\n",
       "      <td>2024-01-15 11:02:00</td>\n",
       "      <td>Завтрак</td>\n",
       "      <td>244</td>\n",
       "      <td>Фуршет 15.01</td>\n",
       "      <td>13,935.00</td>\n",
       "      <td>13,935.00</td>\n",
       "      <td>11,612.50</td>\n",
       "      <td>13,935.00</td>\n",
       "      <td>-2,322.50</td>\n",
       "      <td>1.00</td>\n",
       "      <td>1</td>\n",
       "      <td>13,935.00</td>\n",
       "      <td>card</td>\n",
       "      <td>95227 - 6916860058096</td>\n",
       "      <td>Индивидуальный заказ</td>\n",
       "      <td>Индивидуальный заказ</td>\n",
       "      <td>Зима</td>\n",
       "      <td>Понедельник</td>\n",
       "      <td>11</td>\n",
       "      <td>2024-01-15</td>\n",
       "      <td>11,612.50</td>\n",
       "      <td>Январь</td>\n",
       "      <td>1 Квартал</td>\n",
       "    </tr>\n",
       "    <tr>\n",
       "      <th>66311</th>\n",
       "      <td>6916860058096</td>\n",
       "      <td>7118</td>\n",
       "      <td>2024-02-15 12:12:00</td>\n",
       "      <td>Обед</td>\n",
       "      <td>14</td>\n",
       "      <td>Фуршет Классен 12.02</td>\n",
       "      <td>17,940.00</td>\n",
       "      <td>17,940.00</td>\n",
       "      <td>14,950.00</td>\n",
       "      <td>4,233.91</td>\n",
       "      <td>10,716.09</td>\n",
       "      <td>1.00</td>\n",
       "      <td>1</td>\n",
       "      <td>17,940.00</td>\n",
       "      <td>card</td>\n",
       "      <td>7118 - 6916860058096</td>\n",
       "      <td>Индивидуальный заказ</td>\n",
       "      <td>Индивидуальный заказ</td>\n",
       "      <td>Зима</td>\n",
       "      <td>Четверг</td>\n",
       "      <td>12</td>\n",
       "      <td>2024-02-15</td>\n",
       "      <td>14,950.00</td>\n",
       "      <td>Февраль</td>\n",
       "      <td>1 Квартал</td>\n",
       "    </tr>\n",
       "    <tr>\n",
       "      <th>81332</th>\n",
       "      <td>6916901047427</td>\n",
       "      <td>1479</td>\n",
       "      <td>2024-02-26 14:14:00</td>\n",
       "      <td>Послеобеденный</td>\n",
       "      <td>20</td>\n",
       "      <td>Мероприятие Виноградова А.В.</td>\n",
       "      <td>10,300.00</td>\n",
       "      <td>10,300.00</td>\n",
       "      <td>8,583.33</td>\n",
       "      <td>2,915.88</td>\n",
       "      <td>5,667.45</td>\n",
       "      <td>1.00</td>\n",
       "      <td>1</td>\n",
       "      <td>10,300.00</td>\n",
       "      <td>card</td>\n",
       "      <td>1479 - 6916901047427</td>\n",
       "      <td>Индивидуальный заказ</td>\n",
       "      <td>Индивидуальный заказ</td>\n",
       "      <td>Зима</td>\n",
       "      <td>Понедельник</td>\n",
       "      <td>14</td>\n",
       "      <td>2024-02-26</td>\n",
       "      <td>8,583.33</td>\n",
       "      <td>Февраль</td>\n",
       "      <td>1 Квартал</td>\n",
       "    </tr>\n",
       "    <tr>\n",
       "      <th>114528</th>\n",
       "      <td>6916962051742</td>\n",
       "      <td>3481</td>\n",
       "      <td>2024-03-18 13:13:00</td>\n",
       "      <td>Обед</td>\n",
       "      <td>35</td>\n",
       "      <td>Кр.-манипул.устан. Bonfiglioli P10200L/2</td>\n",
       "      <td>702,000.00</td>\n",
       "      <td>351,000.00</td>\n",
       "      <td>292,500.00</td>\n",
       "      <td>351,000.00</td>\n",
       "      <td>-58,500.00</td>\n",
       "      <td>2.00</td>\n",
       "      <td>1</td>\n",
       "      <td>702,000.00</td>\n",
       "      <td>card</td>\n",
       "      <td>3481 - 6916962051742</td>\n",
       "      <td>Хрень</td>\n",
       "      <td>Хрень</td>\n",
       "      <td>Весна</td>\n",
       "      <td>Понедельник</td>\n",
       "      <td>13</td>\n",
       "      <td>2024-03-18</td>\n",
       "      <td>585,000.00</td>\n",
       "      <td>Март</td>\n",
       "      <td>1 Квартал</td>\n",
       "    </tr>\n",
       "  </tbody>\n",
       "</table>\n",
       "</div>"
      ],
      "text/plain": [
       "                  rnm  num_check            datetime        time_eat  smena  \\\n",
       "7403    6916860058096      94721 2024-01-12 11:32:00         Завтрак    243   \n",
       "9576    6916860058096      95227 2024-01-15 11:02:00         Завтрак    244   \n",
       "66311   6916860058096       7118 2024-02-15 12:12:00            Обед     14   \n",
       "81332   6916901047427       1479 2024-02-26 14:14:00  Послеобеденный     20   \n",
       "114528  6916962051742       3481 2024-03-18 13:13:00            Обед     35   \n",
       "\n",
       "                                            good  total_chek      price  \\\n",
       "7403                            Пирожки 12.01.24    6,000.00   6,000.00   \n",
       "9576                                Фуршет 15.01   13,935.00  13,935.00   \n",
       "66311                       Фуршет Классен 12.02   17,940.00  17,940.00   \n",
       "81332               Мероприятие Виноградова А.В.   10,300.00  10,300.00   \n",
       "114528  Кр.-манипул.устан. Bonfiglioli P10200L/2  702,000.00 351,000.00   \n",
       "\n",
       "        pr_bez_nds  avg_price     profit  amount  position_good      summa  \\\n",
       "7403      5,000.00      13.53   4,986.47    1.00              1   6,000.00   \n",
       "9576     11,612.50  13,935.00  -2,322.50    1.00              1  13,935.00   \n",
       "66311    14,950.00   4,233.91  10,716.09    1.00              1  17,940.00   \n",
       "81332     8,583.33   2,915.88   5,667.45    1.00              1  10,300.00   \n",
       "114528  292,500.00 351,000.00 -58,500.00    2.00              1 702,000.00   \n",
       "\n",
       "       payment           check_unique                 group  \\\n",
       "7403      cash  94721 - 6916860058096  Индивидуальный заказ   \n",
       "9576      card  95227 - 6916860058096  Индивидуальный заказ   \n",
       "66311     card   7118 - 6916860058096  Индивидуальный заказ   \n",
       "81332     card   1479 - 6916901047427  Индивидуальный заказ   \n",
       "114528    card   3481 - 6916962051742                 Хрень   \n",
       "\n",
       "                    on-group seasons          day  hour       date    revenue  \\\n",
       "7403    Индивидуальный заказ    Зима      Пятница    11 2024-01-12   5,000.00   \n",
       "9576    Индивидуальный заказ    Зима  Понедельник    11 2024-01-15  11,612.50   \n",
       "66311   Индивидуальный заказ    Зима      Четверг    12 2024-02-15  14,950.00   \n",
       "81332   Индивидуальный заказ    Зима  Понедельник    14 2024-02-26   8,583.33   \n",
       "114528                 Хрень   Весна  Понедельник    13 2024-03-18 585,000.00   \n",
       "\n",
       "           mnth      quart  \n",
       "7403     Январь  1 Квартал  \n",
       "9576     Январь  1 Квартал  \n",
       "66311   Февраль  1 Квартал  \n",
       "81332   Февраль  1 Квартал  \n",
       "114528     Март  1 Квартал  "
      ]
     },
     "execution_count": 61,
     "metadata": {},
     "output_type": "execute_result"
    }
   ],
   "source": [
    "outliers.head()"
   ]
  },
  {
   "cell_type": "code",
   "execution_count": 62,
   "metadata": {},
   "outputs": [
    {
     "data": {
      "text/plain": [
       "good                                                                                                  price     \n",
       "Медовик  1.7 кг                                                                                       1,700.00      3\n",
       "мероприятие 15.07.2024                                                                                3,000.00      2\n",
       "01.10.2024 Ипатов Н.А.                                                                                35,900.00     1\n",
       "13.08.2024                                                                                            14,935.00     1\n",
       "29.03.24 Павел Титоренко                                                                              2,350.00      1\n",
       "30.10.2024                                                                                            24,040.00     1\n",
       "14.10.2024                                                                                            16,245.00     1\n",
       "21.10.2024                                                                                            1,600.00      1\n",
       "Вагончик складской на полозьях                                                                        32,440.00     1\n",
       "Вагон-дом без шасси бытовка                                                                           22,440.00     1\n",
       "Мероприятие 01.08.2024                                                                                7,175.00      1\n",
       "Кр.-манипул.устан. Bonfiglioli P10200L/2                                                              351,000.00    1\n",
       "Мероприятие 16.09.2024                                                                                7,910.00      1\n",
       "Мероприятие Виноградова А.В.                                                                          10,300.00     1\n",
       "Пирожки 12.01.24                                                                                      6,000.00      1\n",
       "Мероприятие 09.09.2024                                                                                2,000.00      1\n",
       "Прицеп-вагон дом  передвижной типа  Сибирь  А8х2,8 на базе тракт.прицепа VIN:1385 (QCS-1-1.2010.054)  114,840.00    1\n",
       "УАЗ-390995 Автомобиль грузовой фургон (XTT390995B0417964)                                             108,820.80    1\n",
       "Фуршет 02.04.24                                                                                       23,720.00     1\n",
       "УРАЛ-325512-0010-41 Средство транспортное специальное пассажирское № X1P325512B1369640                400,000.00    1\n",
       "Фуршет 15.01                                                                                          13,935.00     1\n",
       "Фуршет Барсукова                                                                                      9,240.00      1\n",
       "Фуршет Классен 12.02                                                                                  17,940.00     1\n",
       "Электростанция дизельная с электростартером и коннектором автоматики DS 7000 DA ES                    58,000.00     1\n",
       "Name: price, dtype: int64"
      ]
     },
     "execution_count": 62,
     "metadata": {},
     "output_type": "execute_result"
    }
   ],
   "source": [
    "outliers.groupby(['good', 'price'])['price'].count().sort_values(ascending=False)"
   ]
  },
  {
   "cell_type": "code",
   "execution_count": 63,
   "metadata": {},
   "outputs": [
    {
     "data": {
      "text/plain": [
       "count        27.00\n",
       "mean     47,849.29\n",
       "std      99,062.09\n",
       "min       1,600.00\n",
       "25%       3,000.00\n",
       "50%      13,935.00\n",
       "75%      28,240.00\n",
       "max     400,000.00\n",
       "Name: price, dtype: float64"
      ]
     },
     "execution_count": 63,
     "metadata": {},
     "output_type": "execute_result"
    }
   ],
   "source": [
    "outliers['price'].describe()"
   ]
  },
  {
   "cell_type": "code",
   "execution_count": 64,
   "metadata": {},
   "outputs": [],
   "source": [
    "get_out = outliers['good'].to_list()"
   ]
  },
  {
   "cell_type": "code",
   "execution_count": 65,
   "metadata": {},
   "outputs": [
    {
     "data": {
      "text/plain": [
       "['Пирожки 12.01.24',\n",
       " 'Фуршет 15.01',\n",
       " 'Фуршет Классен 12.02',\n",
       " 'Мероприятие Виноградова А.В.',\n",
       " 'Кр.-манипул.устан. Bonfiglioli P10200L/2',\n",
       " '29.03.24 Павел Титоренко',\n",
       " 'Фуршет 02.04.24',\n",
       " 'Фуршет Барсукова',\n",
       " 'мероприятие 15.07.2024',\n",
       " 'мероприятие 15.07.2024',\n",
       " 'УРАЛ-325512-0010-41 Средство транспортное специальное пассажирское № X1P325512B1369640',\n",
       " 'Медовик  1.7 кг',\n",
       " 'Мероприятие 01.08.2024',\n",
       " '13.08.2024',\n",
       " 'Медовик  1.7 кг',\n",
       " 'Электростанция дизельная с электростартером и коннектором автоматики DS 7000 DA ES',\n",
       " 'УАЗ-390995 Автомобиль грузовой фургон (XTT390995B0417964)',\n",
       " 'Медовик  1.7 кг',\n",
       " 'Мероприятие 09.09.2024',\n",
       " 'Мероприятие 16.09.2024',\n",
       " '01.10.2024 Ипатов Н.А.',\n",
       " 'Прицеп-вагон дом  передвижной типа  Сибирь  А8х2,8 на базе тракт.прицепа VIN:1385 (QCS-1-1.2010.054)',\n",
       " 'Вагончик складской на полозьях',\n",
       " 'Вагон-дом без шасси бытовка',\n",
       " '14.10.2024',\n",
       " '21.10.2024',\n",
       " '30.10.2024']"
      ]
     },
     "execution_count": 65,
     "metadata": {},
     "output_type": "execute_result"
    }
   ],
   "source": [
    "get_out"
   ]
  },
  {
   "cell_type": "code",
   "execution_count": 66,
   "metadata": {},
   "outputs": [],
   "source": [
    "get_out.remove('Медовик  1.7 кг')\n",
    "get_out.remove('Медовик  1.7 кг')\n",
    "get_out.remove('Медовик  1.7 кг')"
   ]
  },
  {
   "cell_type": "code",
   "execution_count": 67,
   "metadata": {},
   "outputs": [
    {
     "data": {
      "text/plain": [
       "['Пирожки 12.01.24',\n",
       " 'Фуршет 15.01',\n",
       " 'Фуршет Классен 12.02',\n",
       " 'Мероприятие Виноградова А.В.',\n",
       " 'Кр.-манипул.устан. Bonfiglioli P10200L/2',\n",
       " '29.03.24 Павел Титоренко',\n",
       " 'Фуршет 02.04.24',\n",
       " 'Фуршет Барсукова',\n",
       " 'мероприятие 15.07.2024',\n",
       " 'мероприятие 15.07.2024',\n",
       " 'УРАЛ-325512-0010-41 Средство транспортное специальное пассажирское № X1P325512B1369640',\n",
       " 'Мероприятие 01.08.2024',\n",
       " '13.08.2024',\n",
       " 'Электростанция дизельная с электростартером и коннектором автоматики DS 7000 DA ES',\n",
       " 'УАЗ-390995 Автомобиль грузовой фургон (XTT390995B0417964)',\n",
       " 'Мероприятие 09.09.2024',\n",
       " 'Мероприятие 16.09.2024',\n",
       " '01.10.2024 Ипатов Н.А.',\n",
       " 'Прицеп-вагон дом  передвижной типа  Сибирь  А8х2,8 на базе тракт.прицепа VIN:1385 (QCS-1-1.2010.054)',\n",
       " 'Вагончик складской на полозьях',\n",
       " 'Вагон-дом без шасси бытовка',\n",
       " '14.10.2024',\n",
       " '21.10.2024',\n",
       " '30.10.2024']"
      ]
     },
     "execution_count": 67,
     "metadata": {},
     "output_type": "execute_result"
    }
   ],
   "source": [
    "get_out"
   ]
  },
  {
   "cell_type": "code",
   "execution_count": 68,
   "metadata": {},
   "outputs": [],
   "source": [
    "df_filtered = df[~df['good'].isin(get_out)]"
   ]
  },
  {
   "cell_type": "code",
   "execution_count": 69,
   "metadata": {},
   "outputs": [
    {
     "data": {
      "text/html": [
       "<div>\n",
       "<style scoped>\n",
       "    .dataframe tbody tr th:only-of-type {\n",
       "        vertical-align: middle;\n",
       "    }\n",
       "\n",
       "    .dataframe tbody tr th {\n",
       "        vertical-align: top;\n",
       "    }\n",
       "\n",
       "    .dataframe thead th {\n",
       "        text-align: right;\n",
       "    }\n",
       "</style>\n",
       "<table border=\"1\" class=\"dataframe\">\n",
       "  <thead>\n",
       "    <tr style=\"text-align: right;\">\n",
       "      <th></th>\n",
       "      <th>rnm</th>\n",
       "      <th>num_check</th>\n",
       "      <th>datetime</th>\n",
       "      <th>time_eat</th>\n",
       "      <th>smena</th>\n",
       "      <th>good</th>\n",
       "      <th>total_chek</th>\n",
       "      <th>price</th>\n",
       "      <th>pr_bez_nds</th>\n",
       "      <th>avg_price</th>\n",
       "      <th>profit</th>\n",
       "      <th>amount</th>\n",
       "      <th>position_good</th>\n",
       "      <th>summa</th>\n",
       "      <th>payment</th>\n",
       "      <th>check_unique</th>\n",
       "      <th>group</th>\n",
       "      <th>on-group</th>\n",
       "      <th>seasons</th>\n",
       "      <th>day</th>\n",
       "      <th>hour</th>\n",
       "      <th>date</th>\n",
       "      <th>revenue</th>\n",
       "      <th>mnth</th>\n",
       "      <th>quart</th>\n",
       "    </tr>\n",
       "  </thead>\n",
       "  <tbody>\n",
       "    <tr>\n",
       "      <th>0</th>\n",
       "      <td>6916860058096</td>\n",
       "      <td>92970</td>\n",
       "      <td>2024-01-09 08:06:00</td>\n",
       "      <td>Ранний завтрак</td>\n",
       "      <td>240</td>\n",
       "      <td>Яичница с беконом</td>\n",
       "      <td>181.00</td>\n",
       "      <td>45.00</td>\n",
       "      <td>37.50</td>\n",
       "      <td>22.95</td>\n",
       "      <td>14.55</td>\n",
       "      <td>1.00</td>\n",
       "      <td>1</td>\n",
       "      <td>181.00</td>\n",
       "      <td>card</td>\n",
       "      <td>92970 - 6916860058096</td>\n",
       "      <td>Завтрак</td>\n",
       "      <td>Яичница</td>\n",
       "      <td>Зима</td>\n",
       "      <td>Вторник</td>\n",
       "      <td>8</td>\n",
       "      <td>2024-01-09</td>\n",
       "      <td>37.50</td>\n",
       "      <td>Январь</td>\n",
       "      <td>1 Квартал</td>\n",
       "    </tr>\n",
       "    <tr>\n",
       "      <th>1</th>\n",
       "      <td>6916860058096</td>\n",
       "      <td>92970</td>\n",
       "      <td>2024-01-09 08:06:00</td>\n",
       "      <td>Ранний завтрак</td>\n",
       "      <td>240</td>\n",
       "      <td>Сосиски отварные</td>\n",
       "      <td>181.00</td>\n",
       "      <td>65.00</td>\n",
       "      <td>54.17</td>\n",
       "      <td>23.78</td>\n",
       "      <td>30.39</td>\n",
       "      <td>1.00</td>\n",
       "      <td>2</td>\n",
       "      <td>181.00</td>\n",
       "      <td>card</td>\n",
       "      <td>92970 - 6916860058096</td>\n",
       "      <td>Основное блюдо</td>\n",
       "      <td>Колбаски разные</td>\n",
       "      <td>Зима</td>\n",
       "      <td>Вторник</td>\n",
       "      <td>8</td>\n",
       "      <td>2024-01-09</td>\n",
       "      <td>54.17</td>\n",
       "      <td>Январь</td>\n",
       "      <td>1 Квартал</td>\n",
       "    </tr>\n",
       "    <tr>\n",
       "      <th>2</th>\n",
       "      <td>6916860058096</td>\n",
       "      <td>92970</td>\n",
       "      <td>2024-01-09 08:06:00</td>\n",
       "      <td>Ранний завтрак</td>\n",
       "      <td>240</td>\n",
       "      <td>Каша овсяная на молоке</td>\n",
       "      <td>181.00</td>\n",
       "      <td>65.00</td>\n",
       "      <td>54.17</td>\n",
       "      <td>13.75</td>\n",
       "      <td>40.42</td>\n",
       "      <td>1.00</td>\n",
       "      <td>3</td>\n",
       "      <td>181.00</td>\n",
       "      <td>card</td>\n",
       "      <td>92970 - 6916860058096</td>\n",
       "      <td>Завтрак</td>\n",
       "      <td>Каши</td>\n",
       "      <td>Зима</td>\n",
       "      <td>Вторник</td>\n",
       "      <td>8</td>\n",
       "      <td>2024-01-09</td>\n",
       "      <td>54.17</td>\n",
       "      <td>Январь</td>\n",
       "      <td>1 Квартал</td>\n",
       "    </tr>\n",
       "    <tr>\n",
       "      <th>3</th>\n",
       "      <td>6916860058096</td>\n",
       "      <td>92970</td>\n",
       "      <td>2024-01-09 08:06:00</td>\n",
       "      <td>Ранний завтрак</td>\n",
       "      <td>240</td>\n",
       "      <td>Хлеб ржано-пшеничный</td>\n",
       "      <td>181.00</td>\n",
       "      <td>6.00</td>\n",
       "      <td>5.00</td>\n",
       "      <td>1.84</td>\n",
       "      <td>3.16</td>\n",
       "      <td>1.00</td>\n",
       "      <td>4</td>\n",
       "      <td>181.00</td>\n",
       "      <td>card</td>\n",
       "      <td>92970 - 6916860058096</td>\n",
       "      <td>Хлеб</td>\n",
       "      <td>Хлеб</td>\n",
       "      <td>Зима</td>\n",
       "      <td>Вторник</td>\n",
       "      <td>8</td>\n",
       "      <td>2024-01-09</td>\n",
       "      <td>5.00</td>\n",
       "      <td>Январь</td>\n",
       "      <td>1 Квартал</td>\n",
       "    </tr>\n",
       "    <tr>\n",
       "      <th>4</th>\n",
       "      <td>6916860058096</td>\n",
       "      <td>92971</td>\n",
       "      <td>2024-01-09 08:07:00</td>\n",
       "      <td>Ранний завтрак</td>\n",
       "      <td>240</td>\n",
       "      <td>Каша рисовая на молоке</td>\n",
       "      <td>145.00</td>\n",
       "      <td>65.00</td>\n",
       "      <td>54.17</td>\n",
       "      <td>17.42</td>\n",
       "      <td>36.75</td>\n",
       "      <td>1.00</td>\n",
       "      <td>1</td>\n",
       "      <td>145.00</td>\n",
       "      <td>card</td>\n",
       "      <td>92971 - 6916860058096</td>\n",
       "      <td>Завтрак</td>\n",
       "      <td>Каши</td>\n",
       "      <td>Зима</td>\n",
       "      <td>Вторник</td>\n",
       "      <td>8</td>\n",
       "      <td>2024-01-09</td>\n",
       "      <td>54.17</td>\n",
       "      <td>Январь</td>\n",
       "      <td>1 Квартал</td>\n",
       "    </tr>\n",
       "    <tr>\n",
       "      <th>...</th>\n",
       "      <td>...</td>\n",
       "      <td>...</td>\n",
       "      <td>...</td>\n",
       "      <td>...</td>\n",
       "      <td>...</td>\n",
       "      <td>...</td>\n",
       "      <td>...</td>\n",
       "      <td>...</td>\n",
       "      <td>...</td>\n",
       "      <td>...</td>\n",
       "      <td>...</td>\n",
       "      <td>...</td>\n",
       "      <td>...</td>\n",
       "      <td>...</td>\n",
       "      <td>...</td>\n",
       "      <td>...</td>\n",
       "      <td>...</td>\n",
       "      <td>...</td>\n",
       "      <td>...</td>\n",
       "      <td>...</td>\n",
       "      <td>...</td>\n",
       "      <td>...</td>\n",
       "      <td>...</td>\n",
       "      <td>...</td>\n",
       "      <td>...</td>\n",
       "    </tr>\n",
       "    <tr>\n",
       "      <th>483039</th>\n",
       "      <td>6916962051742</td>\n",
       "      <td>19202</td>\n",
       "      <td>2024-10-31 18:00:00</td>\n",
       "      <td>Скидки</td>\n",
       "      <td>194</td>\n",
       "      <td>Греча с грибами и луком</td>\n",
       "      <td>294.00</td>\n",
       "      <td>48.00</td>\n",
       "      <td>40.00</td>\n",
       "      <td>16.75</td>\n",
       "      <td>23.25</td>\n",
       "      <td>1.00</td>\n",
       "      <td>4</td>\n",
       "      <td>294.00</td>\n",
       "      <td>card</td>\n",
       "      <td>19202 - 6916962051742</td>\n",
       "      <td>Гарнир</td>\n",
       "      <td>Греча</td>\n",
       "      <td>Осень</td>\n",
       "      <td>Четверг</td>\n",
       "      <td>18</td>\n",
       "      <td>2024-10-31</td>\n",
       "      <td>40.00</td>\n",
       "      <td>Октябрь</td>\n",
       "      <td>4 Квартал</td>\n",
       "    </tr>\n",
       "    <tr>\n",
       "      <th>483040</th>\n",
       "      <td>6916962051742</td>\n",
       "      <td>19203</td>\n",
       "      <td>2024-10-31 18:04:00</td>\n",
       "      <td>Скидки</td>\n",
       "      <td>194</td>\n",
       "      <td>Стейк из свиной шеи</td>\n",
       "      <td>338.00</td>\n",
       "      <td>122.70</td>\n",
       "      <td>102.25</td>\n",
       "      <td>91.09</td>\n",
       "      <td>11.16</td>\n",
       "      <td>1.00</td>\n",
       "      <td>1</td>\n",
       "      <td>338.00</td>\n",
       "      <td>card</td>\n",
       "      <td>19203 - 6916962051742</td>\n",
       "      <td>Основное блюдо</td>\n",
       "      <td>Блюда из свинины</td>\n",
       "      <td>Осень</td>\n",
       "      <td>Четверг</td>\n",
       "      <td>18</td>\n",
       "      <td>2024-10-31</td>\n",
       "      <td>102.25</td>\n",
       "      <td>Октябрь</td>\n",
       "      <td>4 Квартал</td>\n",
       "    </tr>\n",
       "    <tr>\n",
       "      <th>483041</th>\n",
       "      <td>6916962051742</td>\n",
       "      <td>19203</td>\n",
       "      <td>2024-10-31 18:04:00</td>\n",
       "      <td>Скидки</td>\n",
       "      <td>194</td>\n",
       "      <td>Филе куриное запеченное с грибами</td>\n",
       "      <td>338.00</td>\n",
       "      <td>92.65</td>\n",
       "      <td>77.21</td>\n",
       "      <td>42.93</td>\n",
       "      <td>34.28</td>\n",
       "      <td>2.00</td>\n",
       "      <td>2</td>\n",
       "      <td>338.00</td>\n",
       "      <td>card</td>\n",
       "      <td>19203 - 6916962051742</td>\n",
       "      <td>Основное блюдо</td>\n",
       "      <td>Блюда из курицы</td>\n",
       "      <td>Осень</td>\n",
       "      <td>Четверг</td>\n",
       "      <td>18</td>\n",
       "      <td>2024-10-31</td>\n",
       "      <td>154.42</td>\n",
       "      <td>Октябрь</td>\n",
       "      <td>4 Квартал</td>\n",
       "    </tr>\n",
       "    <tr>\n",
       "      <th>483042</th>\n",
       "      <td>6916962051742</td>\n",
       "      <td>19203</td>\n",
       "      <td>2024-10-31 18:04:00</td>\n",
       "      <td>Скидки</td>\n",
       "      <td>194</td>\n",
       "      <td>Крафт для горячего 500 мл</td>\n",
       "      <td>338.00</td>\n",
       "      <td>15.00</td>\n",
       "      <td>12.50</td>\n",
       "      <td>7.92</td>\n",
       "      <td>4.58</td>\n",
       "      <td>2.00</td>\n",
       "      <td>3</td>\n",
       "      <td>338.00</td>\n",
       "      <td>card</td>\n",
       "      <td>19203 - 6916962051742</td>\n",
       "      <td>Контейнер</td>\n",
       "      <td>Контейнер</td>\n",
       "      <td>Осень</td>\n",
       "      <td>Четверг</td>\n",
       "      <td>18</td>\n",
       "      <td>2024-10-31</td>\n",
       "      <td>25.00</td>\n",
       "      <td>Октябрь</td>\n",
       "      <td>4 Квартал</td>\n",
       "    </tr>\n",
       "    <tr>\n",
       "      <th>483043</th>\n",
       "      <td>6916962051742</td>\n",
       "      <td>19204</td>\n",
       "      <td>2024-10-31 18:08:00</td>\n",
       "      <td>Скидки</td>\n",
       "      <td>194</td>\n",
       "      <td>Кекс яблочный</td>\n",
       "      <td>48.00</td>\n",
       "      <td>48.00</td>\n",
       "      <td>40.00</td>\n",
       "      <td>23.67</td>\n",
       "      <td>16.33</td>\n",
       "      <td>1.00</td>\n",
       "      <td>1</td>\n",
       "      <td>48.00</td>\n",
       "      <td>card</td>\n",
       "      <td>19204 - 6916962051742</td>\n",
       "      <td>Десерты</td>\n",
       "      <td>Кекс</td>\n",
       "      <td>Осень</td>\n",
       "      <td>Четверг</td>\n",
       "      <td>18</td>\n",
       "      <td>2024-10-31</td>\n",
       "      <td>40.00</td>\n",
       "      <td>Октябрь</td>\n",
       "      <td>4 Квартал</td>\n",
       "    </tr>\n",
       "  </tbody>\n",
       "</table>\n",
       "<p>483020 rows × 25 columns</p>\n",
       "</div>"
      ],
      "text/plain": [
       "                  rnm  num_check            datetime        time_eat  smena  \\\n",
       "0       6916860058096      92970 2024-01-09 08:06:00  Ранний завтрак    240   \n",
       "1       6916860058096      92970 2024-01-09 08:06:00  Ранний завтрак    240   \n",
       "2       6916860058096      92970 2024-01-09 08:06:00  Ранний завтрак    240   \n",
       "3       6916860058096      92970 2024-01-09 08:06:00  Ранний завтрак    240   \n",
       "4       6916860058096      92971 2024-01-09 08:07:00  Ранний завтрак    240   \n",
       "...               ...        ...                 ...             ...    ...   \n",
       "483039  6916962051742      19202 2024-10-31 18:00:00          Скидки    194   \n",
       "483040  6916962051742      19203 2024-10-31 18:04:00          Скидки    194   \n",
       "483041  6916962051742      19203 2024-10-31 18:04:00          Скидки    194   \n",
       "483042  6916962051742      19203 2024-10-31 18:04:00          Скидки    194   \n",
       "483043  6916962051742      19204 2024-10-31 18:08:00          Скидки    194   \n",
       "\n",
       "                                     good  total_chek  price  pr_bez_nds  \\\n",
       "0                       Яичница с беконом      181.00  45.00       37.50   \n",
       "1                        Сосиски отварные      181.00  65.00       54.17   \n",
       "2                  Каша овсяная на молоке      181.00  65.00       54.17   \n",
       "3                    Хлеб ржано-пшеничный      181.00   6.00        5.00   \n",
       "4                  Каша рисовая на молоке      145.00  65.00       54.17   \n",
       "...                                   ...         ...    ...         ...   \n",
       "483039            Греча с грибами и луком      294.00  48.00       40.00   \n",
       "483040                Стейк из свиной шеи      338.00 122.70      102.25   \n",
       "483041  Филе куриное запеченное с грибами      338.00  92.65       77.21   \n",
       "483042          Крафт для горячего 500 мл      338.00  15.00       12.50   \n",
       "483043                      Кекс яблочный       48.00  48.00       40.00   \n",
       "\n",
       "        avg_price  profit  amount  position_good  summa payment  \\\n",
       "0           22.95   14.55    1.00              1 181.00    card   \n",
       "1           23.78   30.39    1.00              2 181.00    card   \n",
       "2           13.75   40.42    1.00              3 181.00    card   \n",
       "3            1.84    3.16    1.00              4 181.00    card   \n",
       "4           17.42   36.75    1.00              1 145.00    card   \n",
       "...           ...     ...     ...            ...    ...     ...   \n",
       "483039      16.75   23.25    1.00              4 294.00    card   \n",
       "483040      91.09   11.16    1.00              1 338.00    card   \n",
       "483041      42.93   34.28    2.00              2 338.00    card   \n",
       "483042       7.92    4.58    2.00              3 338.00    card   \n",
       "483043      23.67   16.33    1.00              1  48.00    card   \n",
       "\n",
       "                 check_unique           group          on-group seasons  \\\n",
       "0       92970 - 6916860058096         Завтрак           Яичница    Зима   \n",
       "1       92970 - 6916860058096  Основное блюдо   Колбаски разные    Зима   \n",
       "2       92970 - 6916860058096         Завтрак              Каши    Зима   \n",
       "3       92970 - 6916860058096            Хлеб              Хлеб    Зима   \n",
       "4       92971 - 6916860058096         Завтрак              Каши    Зима   \n",
       "...                       ...             ...               ...     ...   \n",
       "483039  19202 - 6916962051742          Гарнир             Греча   Осень   \n",
       "483040  19203 - 6916962051742  Основное блюдо  Блюда из свинины   Осень   \n",
       "483041  19203 - 6916962051742  Основное блюдо   Блюда из курицы   Осень   \n",
       "483042  19203 - 6916962051742       Контейнер         Контейнер   Осень   \n",
       "483043  19204 - 6916962051742         Десерты              Кекс   Осень   \n",
       "\n",
       "            day  hour       date  revenue     mnth      quart  \n",
       "0       Вторник     8 2024-01-09    37.50   Январь  1 Квартал  \n",
       "1       Вторник     8 2024-01-09    54.17   Январь  1 Квартал  \n",
       "2       Вторник     8 2024-01-09    54.17   Январь  1 Квартал  \n",
       "3       Вторник     8 2024-01-09     5.00   Январь  1 Квартал  \n",
       "4       Вторник     8 2024-01-09    54.17   Январь  1 Квартал  \n",
       "...         ...   ...        ...      ...      ...        ...  \n",
       "483039  Четверг    18 2024-10-31    40.00  Октябрь  4 Квартал  \n",
       "483040  Четверг    18 2024-10-31   102.25  Октябрь  4 Квартал  \n",
       "483041  Четверг    18 2024-10-31   154.42  Октябрь  4 Квартал  \n",
       "483042  Четверг    18 2024-10-31    25.00  Октябрь  4 Квартал  \n",
       "483043  Четверг    18 2024-10-31    40.00  Октябрь  4 Квартал  \n",
       "\n",
       "[483020 rows x 25 columns]"
      ]
     },
     "execution_count": 69,
     "metadata": {},
     "output_type": "execute_result"
    }
   ],
   "source": [
    "df_filtered"
   ]
  },
  {
   "cell_type": "code",
   "execution_count": 70,
   "metadata": {},
   "outputs": [
    {
     "data": {
      "text/plain": [
       "{'whiskers': [<matplotlib.lines.Line2D at 0x20829efbed0>,\n",
       "  <matplotlib.lines.Line2D at 0x20829f58050>],\n",
       " 'caps': [<matplotlib.lines.Line2D at 0x20829f58190>,\n",
       "  <matplotlib.lines.Line2D at 0x20829f582d0>],\n",
       " 'boxes': [<matplotlib.lines.Line2D at 0x20829efbd90>],\n",
       " 'medians': [<matplotlib.lines.Line2D at 0x20829f58410>],\n",
       " 'fliers': [<matplotlib.lines.Line2D at 0x20829f58550>],\n",
       " 'means': []}"
      ]
     },
     "execution_count": 70,
     "metadata": {},
     "output_type": "execute_result"
    },
    {
     "data": {
      "image/png": "[encoded data removed]",
      "text/plain": [
       "<Figure size 640x480 with 1 Axes>"
      ]
     },
     "metadata": {},
     "output_type": "display_data"
    }
   ],
   "source": [
    "plt.boxplot(df_filtered['price'])"
   ]
  },
  {
   "cell_type": "code",
   "execution_count": 71,
   "metadata": {},
   "outputs": [],
   "source": [
    "#df_filtered.to_csv(r'D:\\Projects\\Cafe BI\\fact_table_corr.csv', index=False)"
   ]
  },
  {
   "cell_type": "code",
   "execution_count": 72,
   "metadata": {},
   "outputs": [
    {
     "data": {
      "text/plain": [
       "count   483,020.00\n",
       "mean         79.66\n",
       "std          61.28\n",
       "min           2.00\n",
       "25%          40.00\n",
       "50%          65.00\n",
       "75%         100.00\n",
       "max       1,700.00\n",
       "Name: price, dtype: float64"
      ]
     },
     "execution_count": 72,
     "metadata": {},
     "output_type": "execute_result"
    }
   ],
   "source": [
    "df_filtered['price'].describe()"
   ]
  },
  {
   "cell_type": "code",
   "execution_count": 73,
   "metadata": {},
   "outputs": [],
   "source": [
    "df_anomaly = df[df['good'].isin(get_out)]"
   ]
  },
  {
   "cell_type": "code",
   "execution_count": 74,
   "metadata": {},
   "outputs": [],
   "source": [
    "#df_anomaly.to_csv('anomaly_table.csv', index=False)"
   ]
  },
  {
   "cell_type": "code",
   "execution_count": null,
   "metadata": {},
   "outputs": [],
   "source": [
    "#df_filtered.to_pickle(r'D:\\Projects\\Cafe db\\filtered_data')"
   ]
  },
  {
   "cell_type": "code",
   "execution_count": null,
   "metadata": {},
   "outputs": [
    {
     "name": "stderr",
     "output_type": "stream",
     "text": [
      "C:\\Users\\Lenovo\\AppData\\Local\\Temp\\ipykernel_4696\\3030223079.py:1: FutureWarning: The default of observed=False is deprecated and will be changed to True in a future version of pandas. Pass observed=False to retain current behavior or observed=True to adopt the future default and silence this warning.\n",
      "  df_filtered.groupby('mnth')['check_unique'].count()\n"
     ]
    },
    {
     "data": {
      "text/plain": [
       "mnth\n",
       "Январь      41383\n",
       "Февраль     48588\n",
       "Март        48640\n",
       "Апрель      51297\n",
       "Май         47252\n",
       "Июнь        40467\n",
       "Июль        47892\n",
       "Август      46838\n",
       "Сентябрь    51243\n",
       "Октябрь     59420\n",
       "Ноябрь          0\n",
       "Декабрь         0\n",
       "Name: check_unique, dtype: int64"
      ]
     },
     "execution_count": 37,
     "metadata": {},
     "output_type": "execute_result"
    }
   ],
   "source": [
    "df_filtered.groupby('mnth')['check_unique'].count()"
   ]
  },
  {
   "cell_type": "code",
   "execution_count": 38,
   "metadata": {},
   "outputs": [
    {
     "data": {
      "text/plain": [
       "Index(['rnm', 'num_check', 'datetime', 'time_eat', 'smena', 'good',\n",
       "       'total_chek', 'price', 'pr_bez_nds', 'avg_price', 'profit', 'amount',\n",
       "       'position_good', 'summa', 'payment', 'check_unique', 'group',\n",
       "       'on-group', 'seasons', 'day', 'hour', 'date', 'revenue', 'mnth',\n",
       "       'quart'],\n",
       "      dtype='object')"
      ]
     },
     "execution_count": 38,
     "metadata": {},
     "output_type": "execute_result"
    }
   ],
   "source": [
    "df_filtered.columns"
   ]
  }
 ],
 "metadata": {
  "kernelspec": {
   "display_name": "Python 3",
   "language": "python",
   "name": "python3"
  },
  "language_info": {
   "codemirror_mode": {
    "name": "ipython",
    "version": 3
   },
   "file_extension": ".py",
   "mimetype": "text/x-python",
   "name": "python",
   "nbconvert_exporter": "python",
   "pygments_lexer": "ipython3",
   "version": "3.13.0"
  }
 },
 "nbformat": 4,
 "nbformat_minor": 2
}
