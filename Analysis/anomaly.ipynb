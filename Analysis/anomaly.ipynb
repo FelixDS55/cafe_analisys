{
 "cells": [
  {
   "cell_type": "code",
   "execution_count": 1,
   "metadata": {},
   "outputs": [],
   "source": [
    "import pandas as pd\n",
    "import sqlite3\n",
    "import numpy as np\n",
    "import matplotlib.pyplot as plt"
   ]
  },
  {
   "cell_type": "code",
   "execution_count": 2,
   "metadata": {},
   "outputs": [],
   "source": [
    "pd.set_option('display.float_format', '{:.2f}'.format)\n",
    "pd.set_option('display.float_format', '{:,.2f}'.format)\n",
    "pd.set_option('display.max_columns', None)"
   ]
  },
  {
   "cell_type": "code",
   "execution_count": 3,
   "metadata": {},
   "outputs": [
    {
     "name": "stderr",
     "output_type": "stream",
     "text": [
      "<>:1: SyntaxWarning: invalid escape sequence '\\P'\n",
      "<>:1: SyntaxWarning: invalid escape sequence '\\P'\n",
      "C:\\Users\\Lenovo\\AppData\\Local\\Temp\\ipykernel_10476\\2140274798.py:1: SyntaxWarning: invalid escape sequence '\\P'\n",
      "  df = pd.read_pickle('D:\\Projects\\Cafe db\\data')\n"
     ]
    }
   ],
   "source": [
    "df = pd.read_pickle('D:\\Projects\\Cafe db\\data')"
   ]
  },
  {
   "cell_type": "code",
   "execution_count": 4,
   "metadata": {},
   "outputs": [
    {
     "data": {
      "text/html": [
       "<div>\n",
       "<style scoped>\n",
       "    .dataframe tbody tr th:only-of-type {\n",
       "        vertical-align: middle;\n",
       "    }\n",
       "\n",
       "    .dataframe tbody tr th {\n",
       "        vertical-align: top;\n",
       "    }\n",
       "\n",
       "    .dataframe thead th {\n",
       "        text-align: right;\n",
       "    }\n",
       "</style>\n",
       "<table border=\"1\" class=\"dataframe\">\n",
       "  <thead>\n",
       "    <tr style=\"text-align: right;\">\n",
       "      <th></th>\n",
       "      <th>rnm</th>\n",
       "      <th>num_check</th>\n",
       "      <th>datetime</th>\n",
       "      <th>time_eat</th>\n",
       "      <th>smena</th>\n",
       "      <th>good</th>\n",
       "      <th>total_chek</th>\n",
       "      <th>price</th>\n",
       "      <th>pr_bez_nds</th>\n",
       "      <th>avg_price</th>\n",
       "      <th>profit</th>\n",
       "      <th>amount</th>\n",
       "      <th>position_good</th>\n",
       "      <th>summa</th>\n",
       "      <th>payment</th>\n",
       "      <th>check_unique</th>\n",
       "      <th>group</th>\n",
       "      <th>on-group</th>\n",
       "      <th>seasons</th>\n",
       "      <th>day</th>\n",
       "      <th>hour</th>\n",
       "      <th>date</th>\n",
       "      <th>revenue</th>\n",
       "      <th>mnth</th>\n",
       "      <th>quart</th>\n",
       "    </tr>\n",
       "  </thead>\n",
       "  <tbody>\n",
       "    <tr>\n",
       "      <th>0</th>\n",
       "      <td>6916860058096</td>\n",
       "      <td>92970</td>\n",
       "      <td>2024-01-09 08:06:00</td>\n",
       "      <td>Ранний завтрак</td>\n",
       "      <td>240</td>\n",
       "      <td>Яичница с беконом</td>\n",
       "      <td>181.00</td>\n",
       "      <td>45.00</td>\n",
       "      <td>37.50</td>\n",
       "      <td>22.95</td>\n",
       "      <td>14.55</td>\n",
       "      <td>1.00</td>\n",
       "      <td>1</td>\n",
       "      <td>181.00</td>\n",
       "      <td>card</td>\n",
       "      <td>92970 - 6916860058096</td>\n",
       "      <td>Завтрак</td>\n",
       "      <td>Яичница</td>\n",
       "      <td>Зима</td>\n",
       "      <td>Вторник</td>\n",
       "      <td>8</td>\n",
       "      <td>2024-01-09</td>\n",
       "      <td>37.50</td>\n",
       "      <td>Январь</td>\n",
       "      <td>1 Квартал</td>\n",
       "    </tr>\n",
       "    <tr>\n",
       "      <th>1</th>\n",
       "      <td>6916860058096</td>\n",
       "      <td>92970</td>\n",
       "      <td>2024-01-09 08:06:00</td>\n",
       "      <td>Ранний завтрак</td>\n",
       "      <td>240</td>\n",
       "      <td>Сосиски отварные</td>\n",
       "      <td>181.00</td>\n",
       "      <td>65.00</td>\n",
       "      <td>54.17</td>\n",
       "      <td>23.78</td>\n",
       "      <td>30.39</td>\n",
       "      <td>1.00</td>\n",
       "      <td>2</td>\n",
       "      <td>181.00</td>\n",
       "      <td>card</td>\n",
       "      <td>92970 - 6916860058096</td>\n",
       "      <td>Основное блюдо</td>\n",
       "      <td>Колбаски разные</td>\n",
       "      <td>Зима</td>\n",
       "      <td>Вторник</td>\n",
       "      <td>8</td>\n",
       "      <td>2024-01-09</td>\n",
       "      <td>54.17</td>\n",
       "      <td>Январь</td>\n",
       "      <td>1 Квартал</td>\n",
       "    </tr>\n",
       "    <tr>\n",
       "      <th>2</th>\n",
       "      <td>6916860058096</td>\n",
       "      <td>92970</td>\n",
       "      <td>2024-01-09 08:06:00</td>\n",
       "      <td>Ранний завтрак</td>\n",
       "      <td>240</td>\n",
       "      <td>Каша овсяная на молоке</td>\n",
       "      <td>181.00</td>\n",
       "      <td>65.00</td>\n",
       "      <td>54.17</td>\n",
       "      <td>13.75</td>\n",
       "      <td>40.42</td>\n",
       "      <td>1.00</td>\n",
       "      <td>3</td>\n",
       "      <td>181.00</td>\n",
       "      <td>card</td>\n",
       "      <td>92970 - 6916860058096</td>\n",
       "      <td>Завтрак</td>\n",
       "      <td>Каши</td>\n",
       "      <td>Зима</td>\n",
       "      <td>Вторник</td>\n",
       "      <td>8</td>\n",
       "      <td>2024-01-09</td>\n",
       "      <td>54.17</td>\n",
       "      <td>Январь</td>\n",
       "      <td>1 Квартал</td>\n",
       "    </tr>\n",
       "    <tr>\n",
       "      <th>3</th>\n",
       "      <td>6916860058096</td>\n",
       "      <td>92970</td>\n",
       "      <td>2024-01-09 08:06:00</td>\n",
       "      <td>Ранний завтрак</td>\n",
       "      <td>240</td>\n",
       "      <td>Хлеб ржано-пшеничный</td>\n",
       "      <td>181.00</td>\n",
       "      <td>6.00</td>\n",
       "      <td>5.00</td>\n",
       "      <td>1.84</td>\n",
       "      <td>3.16</td>\n",
       "      <td>1.00</td>\n",
       "      <td>4</td>\n",
       "      <td>181.00</td>\n",
       "      <td>card</td>\n",
       "      <td>92970 - 6916860058096</td>\n",
       "      <td>Хлеб</td>\n",
       "      <td>Хлеб</td>\n",
       "      <td>Зима</td>\n",
       "      <td>Вторник</td>\n",
       "      <td>8</td>\n",
       "      <td>2024-01-09</td>\n",
       "      <td>5.00</td>\n",
       "      <td>Январь</td>\n",
       "      <td>1 Квартал</td>\n",
       "    </tr>\n",
       "    <tr>\n",
       "      <th>4</th>\n",
       "      <td>6916860058096</td>\n",
       "      <td>92971</td>\n",
       "      <td>2024-01-09 08:07:00</td>\n",
       "      <td>Ранний завтрак</td>\n",
       "      <td>240</td>\n",
       "      <td>Каша рисовая на молоке</td>\n",
       "      <td>145.00</td>\n",
       "      <td>65.00</td>\n",
       "      <td>54.17</td>\n",
       "      <td>17.42</td>\n",
       "      <td>36.75</td>\n",
       "      <td>1.00</td>\n",
       "      <td>1</td>\n",
       "      <td>145.00</td>\n",
       "      <td>card</td>\n",
       "      <td>92971 - 6916860058096</td>\n",
       "      <td>Завтрак</td>\n",
       "      <td>Каши</td>\n",
       "      <td>Зима</td>\n",
       "      <td>Вторник</td>\n",
       "      <td>8</td>\n",
       "      <td>2024-01-09</td>\n",
       "      <td>54.17</td>\n",
       "      <td>Январь</td>\n",
       "      <td>1 Квартал</td>\n",
       "    </tr>\n",
       "  </tbody>\n",
       "</table>\n",
       "</div>"
      ],
      "text/plain": [
       "             rnm  num_check            datetime        time_eat  smena  \\\n",
       "0  6916860058096      92970 2024-01-09 08:06:00  Ранний завтрак    240   \n",
       "1  6916860058096      92970 2024-01-09 08:06:00  Ранний завтрак    240   \n",
       "2  6916860058096      92970 2024-01-09 08:06:00  Ранний завтрак    240   \n",
       "3  6916860058096      92970 2024-01-09 08:06:00  Ранний завтрак    240   \n",
       "4  6916860058096      92971 2024-01-09 08:07:00  Ранний завтрак    240   \n",
       "\n",
       "                     good  total_chek  price  pr_bez_nds  avg_price  profit  \\\n",
       "0       Яичница с беконом      181.00  45.00       37.50      22.95   14.55   \n",
       "1        Сосиски отварные      181.00  65.00       54.17      23.78   30.39   \n",
       "2  Каша овсяная на молоке      181.00  65.00       54.17      13.75   40.42   \n",
       "3    Хлеб ржано-пшеничный      181.00   6.00        5.00       1.84    3.16   \n",
       "4  Каша рисовая на молоке      145.00  65.00       54.17      17.42   36.75   \n",
       "\n",
       "   amount  position_good  summa payment           check_unique  \\\n",
       "0    1.00              1 181.00    card  92970 - 6916860058096   \n",
       "1    1.00              2 181.00    card  92970 - 6916860058096   \n",
       "2    1.00              3 181.00    card  92970 - 6916860058096   \n",
       "3    1.00              4 181.00    card  92970 - 6916860058096   \n",
       "4    1.00              1 145.00    card  92971 - 6916860058096   \n",
       "\n",
       "            group         on-group seasons      day  hour       date  revenue  \\\n",
       "0         Завтрак          Яичница    Зима  Вторник     8 2024-01-09    37.50   \n",
       "1  Основное блюдо  Колбаски разные    Зима  Вторник     8 2024-01-09    54.17   \n",
       "2         Завтрак             Каши    Зима  Вторник     8 2024-01-09    54.17   \n",
       "3            Хлеб             Хлеб    Зима  Вторник     8 2024-01-09     5.00   \n",
       "4         Завтрак             Каши    Зима  Вторник     8 2024-01-09    54.17   \n",
       "\n",
       "     mnth      quart  \n",
       "0  Январь  1 Квартал  \n",
       "1  Январь  1 Квартал  \n",
       "2  Январь  1 Квартал  \n",
       "3  Январь  1 Квартал  \n",
       "4  Январь  1 Квартал  "
      ]
     },
     "execution_count": 4,
     "metadata": {},
     "output_type": "execute_result"
    }
   ],
   "source": [
    "df.head()"
   ]
  },
  {
   "cell_type": "code",
   "execution_count": 5,
   "metadata": {},
   "outputs": [
    {
     "name": "stdout",
     "output_type": "stream",
     "text": [
      "<class 'pandas.core.frame.DataFrame'>\n",
      "RangeIndex: 483044 entries, 0 to 483043\n",
      "Data columns (total 25 columns):\n",
      " #   Column         Non-Null Count   Dtype         \n",
      "---  ------         --------------   -----         \n",
      " 0   rnm            483044 non-null  int64         \n",
      " 1   num_check      483044 non-null  int64         \n",
      " 2   datetime       483044 non-null  datetime64[ns]\n",
      " 3   time_eat       483044 non-null  object        \n",
      " 4   smena          483044 non-null  int64         \n",
      " 5   good           483044 non-null  object        \n",
      " 6   total_chek     483044 non-null  float64       \n",
      " 7   price          483044 non-null  float64       \n",
      " 8   pr_bez_nds     483044 non-null  float64       \n",
      " 9   avg_price      483044 non-null  float64       \n",
      " 10  profit         483044 non-null  float64       \n",
      " 11  amount         483044 non-null  float64       \n",
      " 12  position_good  483044 non-null  int64         \n",
      " 13  summa          483044 non-null  float64       \n",
      " 14  payment        483044 non-null  object        \n",
      " 15  check_unique   483044 non-null  object        \n",
      " 16  group          483044 non-null  object        \n",
      " 17  on-group       483044 non-null  object        \n",
      " 18  seasons        483044 non-null  category      \n",
      " 19  day            483044 non-null  category      \n",
      " 20  hour           483044 non-null  int32         \n",
      " 21  date           483044 non-null  datetime64[ns]\n",
      " 22  revenue        483044 non-null  float64       \n",
      " 23  mnth           483044 non-null  category      \n",
      " 24  quart          483044 non-null  object        \n",
      "dtypes: category(3), datetime64[ns](2), float64(8), int32(1), int64(4), object(7)\n",
      "memory usage: 80.6+ MB\n"
     ]
    }
   ],
   "source": [
    "df.info()"
   ]
  },
  {
   "cell_type": "markdown",
   "metadata": {},
   "source": [
    "**Анализ цен и поиск выбросов**"
   ]
  },
  {
   "cell_type": "code",
   "execution_count": 6,
   "metadata": {},
   "outputs": [
    {
     "data": {
      "text/plain": [
       "np.float64(65.0)"
      ]
     },
     "execution_count": 6,
     "metadata": {},
     "output_type": "execute_result"
    }
   ],
   "source": [
    "df['price'].median()"
   ]
  },
  {
   "cell_type": "code",
   "execution_count": 7,
   "metadata": {},
   "outputs": [
    {
     "data": {
      "text/plain": [
       "np.float64(82.3224479136476)"
      ]
     },
     "execution_count": 7,
     "metadata": {},
     "output_type": "execute_result"
    }
   ],
   "source": [
    "df['price'].mean()"
   ]
  },
  {
   "cell_type": "code",
   "execution_count": 8,
   "metadata": {},
   "outputs": [],
   "source": [
    "data = np.array(df['price'])"
   ]
  },
  {
   "cell_type": "code",
   "execution_count": 9,
   "metadata": {},
   "outputs": [
    {
     "data": {
      "text/plain": [
       "{'whiskers': [<matplotlib.lines.Line2D at 0x2233d59fed0>,\n",
       "  <matplotlib.lines.Line2D at 0x22339b44050>],\n",
       " 'caps': [<matplotlib.lines.Line2D at 0x22339b44190>,\n",
       "  <matplotlib.lines.Line2D at 0x22339b442d0>],\n",
       " 'boxes': [<matplotlib.lines.Line2D at 0x2232b8e7d90>],\n",
       " 'medians': [<matplotlib.lines.Line2D at 0x22339b44410>],\n",
       " 'fliers': [<matplotlib.lines.Line2D at 0x22339b44550>],\n",
       " 'means': []}"
      ]
     },
     "execution_count": 9,
     "metadata": {},
     "output_type": "execute_result"
    },
    {
     "data": {
      "image/png": "[encoded data removed]",
      "text/plain": [
       "<Figure size 640x480 with 1 Axes>"
      ]
     },
     "metadata": {},
     "output_type": "display_data"
    }
   ],
   "source": [
    "plt.boxplot(data)"
   ]
  },
  {
   "cell_type": "code",
   "execution_count": 10,
   "metadata": {},
   "outputs": [
    {
     "data": {
      "text/plain": [
       "count   483,044.00\n",
       "mean         82.32\n",
       "std         812.09\n",
       "min           2.00\n",
       "25%          40.00\n",
       "50%          65.00\n",
       "75%         100.00\n",
       "max     400,000.00\n",
       "Name: price, dtype: float64"
      ]
     },
     "execution_count": 10,
     "metadata": {},
     "output_type": "execute_result"
    }
   ],
   "source": [
    "df['price'].describe()"
   ]
  },
  {
   "cell_type": "code",
   "execution_count": 11,
   "metadata": {},
   "outputs": [],
   "source": [
    "prc_75 = np.percentile(df['price'], 75)"
   ]
  },
  {
   "cell_type": "code",
   "execution_count": 12,
   "metadata": {},
   "outputs": [
    {
     "data": {
      "text/plain": [
       "np.float64(100.0)"
      ]
     },
     "execution_count": 12,
     "metadata": {},
     "output_type": "execute_result"
    }
   ],
   "source": [
    "prc_75"
   ]
  },
  {
   "cell_type": "code",
   "execution_count": 13,
   "metadata": {},
   "outputs": [],
   "source": [
    "prc_25 = np.percentile(df['price'], 25)"
   ]
  },
  {
   "cell_type": "code",
   "execution_count": 14,
   "metadata": {},
   "outputs": [
    {
     "data": {
      "text/plain": [
       "np.float64(40.0)"
      ]
     },
     "execution_count": 14,
     "metadata": {},
     "output_type": "execute_result"
    }
   ],
   "source": [
    "prc_25"
   ]
  },
  {
   "cell_type": "code",
   "execution_count": 15,
   "metadata": {},
   "outputs": [
    {
     "data": {
      "text/plain": [
       "np.float64(60.0)"
      ]
     },
     "execution_count": 15,
     "metadata": {},
     "output_type": "execute_result"
    }
   ],
   "source": [
    "iqr = prc_75 - prc_25\n",
    "iqr"
   ]
  },
  {
   "cell_type": "code",
   "execution_count": 155,
   "metadata": {},
   "outputs": [],
   "source": [
    "lower_bound = prc_25 - 2.5 * iqr\n",
    "upper_bound = prc_75 + 5 * iqr"
   ]
  },
  {
   "cell_type": "code",
   "execution_count": 156,
   "metadata": {},
   "outputs": [
    {
     "name": "stdout",
     "output_type": "stream",
     "text": [
      "Нижняя граница: -110.0, Верхняя граница: 400.0\n"
     ]
    }
   ],
   "source": [
    "print(f\"Нижняя граница: {lower_bound}, Верхняя граница: {upper_bound}\")"
   ]
  },
  {
   "cell_type": "code",
   "execution_count": 193,
   "metadata": {},
   "outputs": [],
   "source": [
    "result_weight_good = df[df['good'].str.contains(r'\\s*кг\\s*|цела', case=False, na=False)]\n",
    "my_lst_tmp = result_weight_good['good'].to_list()"
   ]
  },
  {
   "cell_type": "code",
   "execution_count": 194,
   "metadata": {},
   "outputs": [
    {
     "data": {
      "text/plain": [
       "['Студень из говяжьих ножек 1,0 кг',\n",
       " 'Салат Оливье 1,0 кг',\n",
       " 'Салат Сельдь под шубой 1,0 кг',\n",
       " 'Буженина из свиной шеи 1,0 кг',\n",
       " 'Медовик классический 1,0 кг',\n",
       " 'Пицца Римская острая  целая',\n",
       " 'Медовик шоколадный 1 кг',\n",
       " 'Медовик  1 кг',\n",
       " 'Салат Сельдь под шубой 1,0 кг',\n",
       " 'Пирог с капустой и яйцом 1 кг',\n",
       " 'Пирог с вишней 1 кг',\n",
       " 'Салат Сельдь под шубой 1,0 кг',\n",
       " 'Салат Оливье 1,0 кг',\n",
       " 'Пирог с яблоком и брусникой 1 кг',\n",
       " 'Салат Сельдь под шубой 1,0 кг',\n",
       " 'Пирог с капустой и яйцом 1 кг',\n",
       " 'Пирог с вишней 1 кг',\n",
       " 'Салат Мимоза 1,0 кг',\n",
       " 'Салат Сельдь под шубой 1,0 кг',\n",
       " 'Салат Сельдь под шубой 1,0 кг',\n",
       " 'Салат Мимоза 1,0 кг',\n",
       " 'Пирог с яблоком и брусникой 1 кг',\n",
       " 'Салат Сельдь под шубой 1,0 кг',\n",
       " 'Пирог с капустой и яйцом 1 кг',\n",
       " 'Пирог с вишней 1 кг',\n",
       " 'Салат Сельдь под шубой 1,0 кг',\n",
       " 'Салат Оливье 1,0 кг',\n",
       " 'Салат Оливье 1,0 кг',\n",
       " 'Салат Оливье 1,0 кг',\n",
       " 'Пирог с яблоком и брусникой 1 кг',\n",
       " 'Пирог с капустой и яйцом 1 кг',\n",
       " 'Пирог с капустой и яйцом 1 кг',\n",
       " 'Пирог с вишней 1 кг',\n",
       " 'Пирог с вишней 1 кг',\n",
       " 'Пирог с капустой и яйцом 1 кг',\n",
       " 'Пирог с вишней 1 кг',\n",
       " 'Пирог с капустой и яйцом 1 кг',\n",
       " 'Пирог с вишней 1 кг',\n",
       " 'Пирог с яблоком и брусникой 1 кг',\n",
       " 'Пирог с капустой и яйцом 1 кг',\n",
       " 'Пирог с капустой и яйцом 1 кг',\n",
       " 'Пирог с вишней 1 кг',\n",
       " 'Пирог с вишней 1 кг',\n",
       " 'Пирог с капустой и яйцом 1 кг',\n",
       " 'Пирог с вишней 1 кг',\n",
       " 'Пирог с вишней 1 кг',\n",
       " 'Пирог с капустой и яйцом 1 кг',\n",
       " 'Пирог с яблоком и брусникой 1 кг',\n",
       " 'Пирог с яблоком и брусникой 1 кг',\n",
       " 'Пирог с вишней 1 кг',\n",
       " 'Пирог с капустой и яйцом 1 кг',\n",
       " 'Пирог с капустой и яйцом 1 кг',\n",
       " 'Пирог с капустой и яйцом 1 кг',\n",
       " 'Пирог с вишней 1 кг',\n",
       " 'Пирог с вишней 1 кг',\n",
       " 'Пирог с вишней 1 кг',\n",
       " 'Пирог с капустой и яйцом 1 кг',\n",
       " 'Пирог с капустой и яйцом 1 кг',\n",
       " 'Пирог с капустой и яйцом 1 кг',\n",
       " 'Пирог с вишней 1 кг',\n",
       " 'Пирог с вишней 1 кг',\n",
       " 'Салат Оливье 1,0 кг',\n",
       " 'Салат Столичный с курицей 1,0 кг',\n",
       " 'Пирог с вишней 1 кг',\n",
       " 'Пирог с вишней 1 кг',\n",
       " 'Пирог с капустой и яйцом 1 кг',\n",
       " 'Пирог с капустой и яйцом 1 кг',\n",
       " 'Пирог с капустой и яйцом 1 кг',\n",
       " 'Пирог с капустой и яйцом 1 кг',\n",
       " 'Медовик  1.7 кг',\n",
       " 'Медовик  1.7 кг',\n",
       " 'Пирог с мясом 1 кг',\n",
       " 'Медовик  1.7 кг',\n",
       " 'Пирог с капустой и яйцом 1 кг',\n",
       " 'Пирог с мясом 1 кг',\n",
       " 'Пирог с яблоком и брусникой 1 кг',\n",
       " 'Пирог с мясом 1 кг',\n",
       " 'Пирог с яблоком и брусникой 1 кг',\n",
       " 'Салат Сельдь под шубой 1,0 кг',\n",
       " 'Салат Сельдь под шубой 1,0 кг',\n",
       " 'Пирог с капустой и яйцом 1 кг',\n",
       " 'Пирог с вишней 1 кг',\n",
       " 'Салат Сельдь под шубой 1,0 кг',\n",
       " 'Пирог с капустой и яйцом 1 кг',\n",
       " 'Пирог с яблоком и брусникой 1 кг']"
      ]
     },
     "execution_count": 194,
     "metadata": {},
     "output_type": "execute_result"
    }
   ],
   "source": [
    "my_lst_tmp"
   ]
  },
  {
   "cell_type": "code",
   "execution_count": 195,
   "metadata": {},
   "outputs": [],
   "source": [
    "my_lst_tmp = set(my_lst_tmp)\n",
    "my_lst_tmp = list(my_lst_tmp)"
   ]
  },
  {
   "cell_type": "code",
   "execution_count": 196,
   "metadata": {},
   "outputs": [
    {
     "data": {
      "text/plain": [
       "['Пирог с яблоком и брусникой 1 кг',\n",
       " 'Салат Оливье 1,0 кг',\n",
       " 'Буженина из свиной шеи 1,0 кг',\n",
       " 'Пицца Римская острая  целая',\n",
       " 'Салат Сельдь под шубой 1,0 кг',\n",
       " 'Салат Мимоза 1,0 кг',\n",
       " 'Медовик классический 1,0 кг',\n",
       " 'Медовик  1 кг',\n",
       " 'Пирог с капустой и яйцом 1 кг',\n",
       " 'Медовик шоколадный 1 кг',\n",
       " 'Пирог с вишней 1 кг',\n",
       " 'Медовик  1.7 кг',\n",
       " 'Салат Столичный с курицей 1,0 кг',\n",
       " 'Студень из говяжьих ножек 1,0 кг',\n",
       " 'Пирог с мясом 1 кг']"
      ]
     },
     "execution_count": 196,
     "metadata": {},
     "output_type": "execute_result"
    }
   ],
   "source": [
    "my_lst_tmp"
   ]
  },
  {
   "cell_type": "code",
   "execution_count": 197,
   "metadata": {},
   "outputs": [],
   "source": [
    "outliers = df[(df['price'] < lower_bound) | (df['price'] > upper_bound) | df['good'].isin(my_lst_tmp)]"
   ]
  },
  {
   "cell_type": "code",
   "execution_count": 198,
   "metadata": {},
   "outputs": [
    {
     "data": {
      "text/html": [
       "<div>\n",
       "<style scoped>\n",
       "    .dataframe tbody tr th:only-of-type {\n",
       "        vertical-align: middle;\n",
       "    }\n",
       "\n",
       "    .dataframe tbody tr th {\n",
       "        vertical-align: top;\n",
       "    }\n",
       "\n",
       "    .dataframe thead th {\n",
       "        text-align: right;\n",
       "    }\n",
       "</style>\n",
       "<table border=\"1\" class=\"dataframe\">\n",
       "  <thead>\n",
       "    <tr style=\"text-align: right;\">\n",
       "      <th></th>\n",
       "      <th></th>\n",
       "      <th>good</th>\n",
       "    </tr>\n",
       "    <tr>\n",
       "      <th>good</th>\n",
       "      <th>price</th>\n",
       "      <th></th>\n",
       "    </tr>\n",
       "  </thead>\n",
       "  <tbody>\n",
       "    <tr>\n",
       "      <th>Медовик классический 1,0 кг</th>\n",
       "      <th>250.00</th>\n",
       "      <td>1</td>\n",
       "    </tr>\n",
       "    <tr>\n",
       "      <th>Салат Сельдь под шубой 1,0 кг</th>\n",
       "      <th>300.00</th>\n",
       "      <td>1</td>\n",
       "    </tr>\n",
       "    <tr>\n",
       "      <th>Салат Оливье 1,0 кг</th>\n",
       "      <th>300.00</th>\n",
       "      <td>1</td>\n",
       "    </tr>\n",
       "    <tr>\n",
       "      <th>Студень из говяжьих ножек 1,0 кг</th>\n",
       "      <th>350.00</th>\n",
       "      <td>1</td>\n",
       "    </tr>\n",
       "    <tr>\n",
       "      <th>Пицца Римская острая  целая</th>\n",
       "      <th>385.00</th>\n",
       "      <td>1</td>\n",
       "    </tr>\n",
       "    <tr>\n",
       "      <th>Пирог с капустой и яйцом 1 кг</th>\n",
       "      <th>400.00</th>\n",
       "      <td>24</td>\n",
       "    </tr>\n",
       "    <tr>\n",
       "      <th>Кулич Пасхальный 720 гр</th>\n",
       "      <th>500.00</th>\n",
       "      <td>3</td>\n",
       "    </tr>\n",
       "    <tr>\n",
       "      <th>Салат Сельдь под шубой 1,0 кг</th>\n",
       "      <th>600.00</th>\n",
       "      <td>10</td>\n",
       "    </tr>\n",
       "    <tr>\n",
       "      <th>Салат Оливье 1,0 кг</th>\n",
       "      <th>600.00</th>\n",
       "      <td>5</td>\n",
       "    </tr>\n",
       "    <tr>\n",
       "      <th>Салат Мимоза 1,0 кг</th>\n",
       "      <th>600.00</th>\n",
       "      <td>2</td>\n",
       "    </tr>\n",
       "    <tr>\n",
       "      <th>Салат Столичный с курицей 1,0 кг</th>\n",
       "      <th>700.00</th>\n",
       "      <td>1</td>\n",
       "    </tr>\n",
       "    <tr>\n",
       "      <th>Пирог с вишней 1 кг</th>\n",
       "      <th>725.00</th>\n",
       "      <td>20</td>\n",
       "    </tr>\n",
       "    <tr>\n",
       "      <th>Пирог с яблоком и брусникой 1 кг</th>\n",
       "      <th>750.00</th>\n",
       "      <td>9</td>\n",
       "    </tr>\n",
       "    <tr>\n",
       "      <th>Буженина из свиной шеи 1,0 кг</th>\n",
       "      <th>1,000.00</th>\n",
       "      <td>1</td>\n",
       "    </tr>\n",
       "    <tr>\n",
       "      <th>Медовик  1 кг</th>\n",
       "      <th>1,200.00</th>\n",
       "      <td>1</td>\n",
       "    </tr>\n",
       "    <tr>\n",
       "      <th>Пирог с мясом 1 кг</th>\n",
       "      <th>1,200.00</th>\n",
       "      <td>3</td>\n",
       "    </tr>\n",
       "    <tr>\n",
       "      <th>Медовик шоколадный 1 кг</th>\n",
       "      <th>1,200.00</th>\n",
       "      <td>1</td>\n",
       "    </tr>\n",
       "    <tr>\n",
       "      <th>21.10.2024</th>\n",
       "      <th>1,600.00</th>\n",
       "      <td>1</td>\n",
       "    </tr>\n",
       "    <tr>\n",
       "      <th>Медовик  1.7 кг</th>\n",
       "      <th>1,700.00</th>\n",
       "      <td>3</td>\n",
       "    </tr>\n",
       "    <tr>\n",
       "      <th>Мероприятие 09.09.2024</th>\n",
       "      <th>2,000.00</th>\n",
       "      <td>1</td>\n",
       "    </tr>\n",
       "    <tr>\n",
       "      <th>29.03.24 Павел Титоренко</th>\n",
       "      <th>2,350.00</th>\n",
       "      <td>1</td>\n",
       "    </tr>\n",
       "    <tr>\n",
       "      <th>мероприятие 15.07.2024</th>\n",
       "      <th>3,000.00</th>\n",
       "      <td>2</td>\n",
       "    </tr>\n",
       "    <tr>\n",
       "      <th>Пирожки 12.01.24</th>\n",
       "      <th>6,000.00</th>\n",
       "      <td>1</td>\n",
       "    </tr>\n",
       "    <tr>\n",
       "      <th>Мероприятие 01.08.2024</th>\n",
       "      <th>7,175.00</th>\n",
       "      <td>1</td>\n",
       "    </tr>\n",
       "    <tr>\n",
       "      <th>Мероприятие 16.09.2024</th>\n",
       "      <th>7,910.00</th>\n",
       "      <td>1</td>\n",
       "    </tr>\n",
       "    <tr>\n",
       "      <th>Фуршет Барсукова</th>\n",
       "      <th>9,240.00</th>\n",
       "      <td>1</td>\n",
       "    </tr>\n",
       "    <tr>\n",
       "      <th>Мероприятие Виноградова А.В.</th>\n",
       "      <th>10,300.00</th>\n",
       "      <td>1</td>\n",
       "    </tr>\n",
       "    <tr>\n",
       "      <th>Фуршет 15.01</th>\n",
       "      <th>13,935.00</th>\n",
       "      <td>1</td>\n",
       "    </tr>\n",
       "    <tr>\n",
       "      <th>13.08.2024</th>\n",
       "      <th>14,935.00</th>\n",
       "      <td>1</td>\n",
       "    </tr>\n",
       "    <tr>\n",
       "      <th>14.10.2024</th>\n",
       "      <th>16,245.00</th>\n",
       "      <td>1</td>\n",
       "    </tr>\n",
       "    <tr>\n",
       "      <th>Фуршет Классен 12.02</th>\n",
       "      <th>17,940.00</th>\n",
       "      <td>1</td>\n",
       "    </tr>\n",
       "    <tr>\n",
       "      <th>Вагон-дом без шасси бытовка</th>\n",
       "      <th>22,440.00</th>\n",
       "      <td>1</td>\n",
       "    </tr>\n",
       "    <tr>\n",
       "      <th>Фуршет 02.04.24</th>\n",
       "      <th>23,720.00</th>\n",
       "      <td>1</td>\n",
       "    </tr>\n",
       "    <tr>\n",
       "      <th>30.10.2024</th>\n",
       "      <th>24,040.00</th>\n",
       "      <td>1</td>\n",
       "    </tr>\n",
       "    <tr>\n",
       "      <th>Вагончик складской на полозьях</th>\n",
       "      <th>32,440.00</th>\n",
       "      <td>1</td>\n",
       "    </tr>\n",
       "    <tr>\n",
       "      <th>01.10.2024 Ипатов Н.А.</th>\n",
       "      <th>35,900.00</th>\n",
       "      <td>1</td>\n",
       "    </tr>\n",
       "    <tr>\n",
       "      <th>Электростанция дизельная с электростартером и коннектором автоматики DS 7000 DA ES</th>\n",
       "      <th>58,000.00</th>\n",
       "      <td>1</td>\n",
       "    </tr>\n",
       "    <tr>\n",
       "      <th>УАЗ-390995 Автомобиль грузовой фургон (XTT390995B0417964)</th>\n",
       "      <th>108,820.80</th>\n",
       "      <td>1</td>\n",
       "    </tr>\n",
       "    <tr>\n",
       "      <th>Прицеп-вагон дом  передвижной типа  Сибирь  А8х2,8 на базе тракт.прицепа VIN:1385 (QCS-1-1.2010.054)</th>\n",
       "      <th>114,840.00</th>\n",
       "      <td>1</td>\n",
       "    </tr>\n",
       "    <tr>\n",
       "      <th>Кр.-манипул.устан. Bonfiglioli P10200L/2</th>\n",
       "      <th>351,000.00</th>\n",
       "      <td>1</td>\n",
       "    </tr>\n",
       "    <tr>\n",
       "      <th>УРАЛ-325512-0010-41 Средство транспортное специальное пассажирское № X1P325512B1369640</th>\n",
       "      <th>400,000.00</th>\n",
       "      <td>1</td>\n",
       "    </tr>\n",
       "  </tbody>\n",
       "</table>\n",
       "</div>"
      ],
      "text/plain": [
       "                                                               good\n",
       "good                                               price           \n",
       "Медовик классический 1,0 кг                        250.00         1\n",
       "Салат Сельдь под шубой 1,0 кг                      300.00         1\n",
       "Салат Оливье 1,0 кг                                300.00         1\n",
       "Студень из говяжьих ножек 1,0 кг                   350.00         1\n",
       "Пицца Римская острая  целая                        385.00         1\n",
       "Пирог с капустой и яйцом 1 кг                      400.00        24\n",
       "Кулич Пасхальный 720 гр                            500.00         3\n",
       "Салат Сельдь под шубой 1,0 кг                      600.00        10\n",
       "Салат Оливье 1,0 кг                                600.00         5\n",
       "Салат Мимоза 1,0 кг                                600.00         2\n",
       "Салат Столичный с курицей 1,0 кг                   700.00         1\n",
       "Пирог с вишней 1 кг                                725.00        20\n",
       "Пирог с яблоком и брусникой 1 кг                   750.00         9\n",
       "Буженина из свиной шеи 1,0 кг                      1,000.00       1\n",
       "Медовик  1 кг                                      1,200.00       1\n",
       "Пирог с мясом 1 кг                                 1,200.00       3\n",
       "Медовик шоколадный 1 кг                            1,200.00       1\n",
       "21.10.2024                                         1,600.00       1\n",
       "Медовик  1.7 кг                                    1,700.00       3\n",
       "Мероприятие 09.09.2024                             2,000.00       1\n",
       "29.03.24 Павел Титоренко                           2,350.00       1\n",
       "мероприятие 15.07.2024                             3,000.00       2\n",
       "Пирожки 12.01.24                                   6,000.00       1\n",
       "Мероприятие 01.08.2024                             7,175.00       1\n",
       "Мероприятие 16.09.2024                             7,910.00       1\n",
       "Фуршет Барсукова                                   9,240.00       1\n",
       "Мероприятие Виноградова А.В.                       10,300.00      1\n",
       "Фуршет 15.01                                       13,935.00      1\n",
       "13.08.2024                                         14,935.00      1\n",
       "14.10.2024                                         16,245.00      1\n",
       "Фуршет Классен 12.02                               17,940.00      1\n",
       "Вагон-дом без шасси бытовка                        22,440.00      1\n",
       "Фуршет 02.04.24                                    23,720.00      1\n",
       "30.10.2024                                         24,040.00      1\n",
       "Вагончик складской на полозьях                     32,440.00      1\n",
       "01.10.2024 Ипатов Н.А.                             35,900.00      1\n",
       "Электростанция дизельная с электростартером и к... 58,000.00      1\n",
       "УАЗ-390995 Автомобиль грузовой фургон (XTT39099... 108,820.80     1\n",
       "Прицеп-вагон дом  передвижной типа  Сибирь  А8х... 114,840.00     1\n",
       "Кр.-манипул.устан. Bonfiglioli P10200L/2           351,000.00     1\n",
       "УРАЛ-325512-0010-41 Средство транспортное специ... 400,000.00     1"
      ]
     },
     "execution_count": 198,
     "metadata": {},
     "output_type": "execute_result"
    }
   ],
   "source": [
    "outliers.groupby(['good', 'price']).agg({'good': 'count'}).sort_values(by='price')"
   ]
  },
  {
   "cell_type": "code",
   "execution_count": 199,
   "metadata": {},
   "outputs": [
    {
     "data": {
      "text/plain": [
       "count       112.00\n",
       "mean     11,997.91\n",
       "std      52,063.44\n",
       "min         250.00\n",
       "25%         400.00\n",
       "50%         725.00\n",
       "75%       1,200.00\n",
       "max     400,000.00\n",
       "Name: price, dtype: float64"
      ]
     },
     "execution_count": 199,
     "metadata": {},
     "output_type": "execute_result"
    }
   ],
   "source": [
    "outliers['price'].describe()"
   ]
  },
  {
   "cell_type": "code",
   "execution_count": 200,
   "metadata": {},
   "outputs": [],
   "source": [
    "get_out = outliers['good'].to_list()"
   ]
  },
  {
   "cell_type": "code",
   "execution_count": 201,
   "metadata": {},
   "outputs": [],
   "source": [
    "get_out = set(get_out)"
   ]
  },
  {
   "cell_type": "code",
   "execution_count": 202,
   "metadata": {},
   "outputs": [
    {
     "data": {
      "text/plain": [
       "{'01.10.2024 Ипатов Н.А.',\n",
       " '13.08.2024',\n",
       " '14.10.2024',\n",
       " '21.10.2024',\n",
       " '29.03.24 Павел Титоренко',\n",
       " '30.10.2024',\n",
       " 'Буженина из свиной шеи 1,0 кг',\n",
       " 'Вагон-дом без шасси бытовка',\n",
       " 'Вагончик складской на полозьях',\n",
       " 'Кр.-манипул.устан. Bonfiglioli P10200L/2',\n",
       " 'Кулич Пасхальный 720 гр',\n",
       " 'Медовик  1 кг',\n",
       " 'Медовик  1.7 кг',\n",
       " 'Медовик классический 1,0 кг',\n",
       " 'Медовик шоколадный 1 кг',\n",
       " 'Мероприятие 01.08.2024',\n",
       " 'Мероприятие 09.09.2024',\n",
       " 'Мероприятие 16.09.2024',\n",
       " 'Мероприятие Виноградова А.В.',\n",
       " 'Пирог с вишней 1 кг',\n",
       " 'Пирог с капустой и яйцом 1 кг',\n",
       " 'Пирог с мясом 1 кг',\n",
       " 'Пирог с яблоком и брусникой 1 кг',\n",
       " 'Пирожки 12.01.24',\n",
       " 'Пицца Римская острая  целая',\n",
       " 'Прицеп-вагон дом  передвижной типа  Сибирь  А8х2,8 на базе тракт.прицепа VIN:1385 (QCS-1-1.2010.054)',\n",
       " 'Салат Мимоза 1,0 кг',\n",
       " 'Салат Оливье 1,0 кг',\n",
       " 'Салат Сельдь под шубой 1,0 кг',\n",
       " 'Салат Столичный с курицей 1,0 кг',\n",
       " 'Студень из говяжьих ножек 1,0 кг',\n",
       " 'УАЗ-390995 Автомобиль грузовой фургон (XTT390995B0417964)',\n",
       " 'УРАЛ-325512-0010-41 Средство транспортное специальное пассажирское № X1P325512B1369640',\n",
       " 'Фуршет 02.04.24',\n",
       " 'Фуршет 15.01',\n",
       " 'Фуршет Барсукова',\n",
       " 'Фуршет Классен 12.02',\n",
       " 'Электростанция дизельная с электростартером и коннектором автоматики DS 7000 DA ES',\n",
       " 'мероприятие 15.07.2024'}"
      ]
     },
     "execution_count": 202,
     "metadata": {},
     "output_type": "execute_result"
    }
   ],
   "source": [
    "get_out"
   ]
  },
  {
   "cell_type": "code",
   "execution_count": 203,
   "metadata": {},
   "outputs": [
    {
     "data": {
      "text/plain": [
       "['Салат Оливье 1,0 кг',\n",
       " '29.03.24 Павел Титоренко',\n",
       " 'УРАЛ-325512-0010-41 Средство транспортное специальное пассажирское № X1P325512B1369640',\n",
       " 'Вагон-дом без шасси бытовка',\n",
       " 'Медовик  1.7 кг',\n",
       " 'Прицеп-вагон дом  передвижной типа  Сибирь  А8х2,8 на базе тракт.прицепа VIN:1385 (QCS-1-1.2010.054)',\n",
       " 'Фуршет Барсукова',\n",
       " '13.08.2024',\n",
       " 'Мероприятие Виноградова А.В.',\n",
       " 'Электростанция дизельная с электростартером и коннектором автоматики DS 7000 DA ES',\n",
       " 'Фуршет 15.01',\n",
       " 'Пирог с яблоком и брусникой 1 кг',\n",
       " 'Буженина из свиной шеи 1,0 кг',\n",
       " 'Кр.-манипул.устан. Bonfiglioli P10200L/2',\n",
       " 'Салат Сельдь под шубой 1,0 кг',\n",
       " 'Медовик шоколадный 1 кг',\n",
       " 'Пирог с вишней 1 кг',\n",
       " 'Мероприятие 09.09.2024',\n",
       " 'Студень из говяжьих ножек 1,0 кг',\n",
       " 'Фуршет 02.04.24',\n",
       " '01.10.2024 Ипатов Н.А.',\n",
       " 'Пицца Римская острая  целая',\n",
       " 'мероприятие 15.07.2024',\n",
       " 'Медовик  1 кг',\n",
       " '14.10.2024',\n",
       " '21.10.2024',\n",
       " 'Мероприятие 16.09.2024',\n",
       " 'Салат Мимоза 1,0 кг',\n",
       " 'Медовик классический 1,0 кг',\n",
       " 'Пирог с капустой и яйцом 1 кг',\n",
       " 'УАЗ-390995 Автомобиль грузовой фургон (XTT390995B0417964)',\n",
       " 'Фуршет Классен 12.02',\n",
       " 'Кулич Пасхальный 720 гр',\n",
       " 'Мероприятие 01.08.2024',\n",
       " 'Салат Столичный с курицей 1,0 кг',\n",
       " 'Вагончик складской на полозьях',\n",
       " 'Пирог с мясом 1 кг',\n",
       " '30.10.2024',\n",
       " 'Пирожки 12.01.24']"
      ]
     },
     "execution_count": 203,
     "metadata": {},
     "output_type": "execute_result"
    }
   ],
   "source": [
    "get_out = list(get_out)\n",
    "get_out"
   ]
  },
  {
   "cell_type": "code",
   "execution_count": 204,
   "metadata": {},
   "outputs": [],
   "source": [
    "df_filtered = df[~df['good'].isin(get_out)]"
   ]
  },
  {
   "cell_type": "code",
   "execution_count": 205,
   "metadata": {},
   "outputs": [
    {
     "data": {
      "text/html": [
       "<div>\n",
       "<style scoped>\n",
       "    .dataframe tbody tr th:only-of-type {\n",
       "        vertical-align: middle;\n",
       "    }\n",
       "\n",
       "    .dataframe tbody tr th {\n",
       "        vertical-align: top;\n",
       "    }\n",
       "\n",
       "    .dataframe thead th {\n",
       "        text-align: right;\n",
       "    }\n",
       "</style>\n",
       "<table border=\"1\" class=\"dataframe\">\n",
       "  <thead>\n",
       "    <tr style=\"text-align: right;\">\n",
       "      <th></th>\n",
       "      <th>rnm</th>\n",
       "      <th>num_check</th>\n",
       "      <th>datetime</th>\n",
       "      <th>time_eat</th>\n",
       "      <th>smena</th>\n",
       "      <th>good</th>\n",
       "      <th>total_chek</th>\n",
       "      <th>price</th>\n",
       "      <th>pr_bez_nds</th>\n",
       "      <th>avg_price</th>\n",
       "      <th>profit</th>\n",
       "      <th>amount</th>\n",
       "      <th>position_good</th>\n",
       "      <th>summa</th>\n",
       "      <th>payment</th>\n",
       "      <th>check_unique</th>\n",
       "      <th>group</th>\n",
       "      <th>on-group</th>\n",
       "      <th>seasons</th>\n",
       "      <th>day</th>\n",
       "      <th>hour</th>\n",
       "      <th>date</th>\n",
       "      <th>revenue</th>\n",
       "      <th>mnth</th>\n",
       "      <th>quart</th>\n",
       "    </tr>\n",
       "  </thead>\n",
       "  <tbody>\n",
       "    <tr>\n",
       "      <th>0</th>\n",
       "      <td>6916860058096</td>\n",
       "      <td>92970</td>\n",
       "      <td>2024-01-09 08:06:00</td>\n",
       "      <td>Ранний завтрак</td>\n",
       "      <td>240</td>\n",
       "      <td>Яичница с беконом</td>\n",
       "      <td>181.00</td>\n",
       "      <td>45.00</td>\n",
       "      <td>37.50</td>\n",
       "      <td>22.95</td>\n",
       "      <td>14.55</td>\n",
       "      <td>1.00</td>\n",
       "      <td>1</td>\n",
       "      <td>181.00</td>\n",
       "      <td>card</td>\n",
       "      <td>92970 - 6916860058096</td>\n",
       "      <td>Завтрак</td>\n",
       "      <td>Яичница</td>\n",
       "      <td>Зима</td>\n",
       "      <td>Вторник</td>\n",
       "      <td>8</td>\n",
       "      <td>2024-01-09</td>\n",
       "      <td>37.50</td>\n",
       "      <td>Январь</td>\n",
       "      <td>1 Квартал</td>\n",
       "    </tr>\n",
       "    <tr>\n",
       "      <th>1</th>\n",
       "      <td>6916860058096</td>\n",
       "      <td>92970</td>\n",
       "      <td>2024-01-09 08:06:00</td>\n",
       "      <td>Ранний завтрак</td>\n",
       "      <td>240</td>\n",
       "      <td>Сосиски отварные</td>\n",
       "      <td>181.00</td>\n",
       "      <td>65.00</td>\n",
       "      <td>54.17</td>\n",
       "      <td>23.78</td>\n",
       "      <td>30.39</td>\n",
       "      <td>1.00</td>\n",
       "      <td>2</td>\n",
       "      <td>181.00</td>\n",
       "      <td>card</td>\n",
       "      <td>92970 - 6916860058096</td>\n",
       "      <td>Основное блюдо</td>\n",
       "      <td>Колбаски разные</td>\n",
       "      <td>Зима</td>\n",
       "      <td>Вторник</td>\n",
       "      <td>8</td>\n",
       "      <td>2024-01-09</td>\n",
       "      <td>54.17</td>\n",
       "      <td>Январь</td>\n",
       "      <td>1 Квартал</td>\n",
       "    </tr>\n",
       "    <tr>\n",
       "      <th>2</th>\n",
       "      <td>6916860058096</td>\n",
       "      <td>92970</td>\n",
       "      <td>2024-01-09 08:06:00</td>\n",
       "      <td>Ранний завтрак</td>\n",
       "      <td>240</td>\n",
       "      <td>Каша овсяная на молоке</td>\n",
       "      <td>181.00</td>\n",
       "      <td>65.00</td>\n",
       "      <td>54.17</td>\n",
       "      <td>13.75</td>\n",
       "      <td>40.42</td>\n",
       "      <td>1.00</td>\n",
       "      <td>3</td>\n",
       "      <td>181.00</td>\n",
       "      <td>card</td>\n",
       "      <td>92970 - 6916860058096</td>\n",
       "      <td>Завтрак</td>\n",
       "      <td>Каши</td>\n",
       "      <td>Зима</td>\n",
       "      <td>Вторник</td>\n",
       "      <td>8</td>\n",
       "      <td>2024-01-09</td>\n",
       "      <td>54.17</td>\n",
       "      <td>Январь</td>\n",
       "      <td>1 Квартал</td>\n",
       "    </tr>\n",
       "    <tr>\n",
       "      <th>3</th>\n",
       "      <td>6916860058096</td>\n",
       "      <td>92970</td>\n",
       "      <td>2024-01-09 08:06:00</td>\n",
       "      <td>Ранний завтрак</td>\n",
       "      <td>240</td>\n",
       "      <td>Хлеб ржано-пшеничный</td>\n",
       "      <td>181.00</td>\n",
       "      <td>6.00</td>\n",
       "      <td>5.00</td>\n",
       "      <td>1.84</td>\n",
       "      <td>3.16</td>\n",
       "      <td>1.00</td>\n",
       "      <td>4</td>\n",
       "      <td>181.00</td>\n",
       "      <td>card</td>\n",
       "      <td>92970 - 6916860058096</td>\n",
       "      <td>Хлеб</td>\n",
       "      <td>Хлеб</td>\n",
       "      <td>Зима</td>\n",
       "      <td>Вторник</td>\n",
       "      <td>8</td>\n",
       "      <td>2024-01-09</td>\n",
       "      <td>5.00</td>\n",
       "      <td>Январь</td>\n",
       "      <td>1 Квартал</td>\n",
       "    </tr>\n",
       "    <tr>\n",
       "      <th>4</th>\n",
       "      <td>6916860058096</td>\n",
       "      <td>92971</td>\n",
       "      <td>2024-01-09 08:07:00</td>\n",
       "      <td>Ранний завтрак</td>\n",
       "      <td>240</td>\n",
       "      <td>Каша рисовая на молоке</td>\n",
       "      <td>145.00</td>\n",
       "      <td>65.00</td>\n",
       "      <td>54.17</td>\n",
       "      <td>17.42</td>\n",
       "      <td>36.75</td>\n",
       "      <td>1.00</td>\n",
       "      <td>1</td>\n",
       "      <td>145.00</td>\n",
       "      <td>card</td>\n",
       "      <td>92971 - 6916860058096</td>\n",
       "      <td>Завтрак</td>\n",
       "      <td>Каши</td>\n",
       "      <td>Зима</td>\n",
       "      <td>Вторник</td>\n",
       "      <td>8</td>\n",
       "      <td>2024-01-09</td>\n",
       "      <td>54.17</td>\n",
       "      <td>Январь</td>\n",
       "      <td>1 Квартал</td>\n",
       "    </tr>\n",
       "  </tbody>\n",
       "</table>\n",
       "</div>"
      ],
      "text/plain": [
       "             rnm  num_check            datetime        time_eat  smena  \\\n",
       "0  6916860058096      92970 2024-01-09 08:06:00  Ранний завтрак    240   \n",
       "1  6916860058096      92970 2024-01-09 08:06:00  Ранний завтрак    240   \n",
       "2  6916860058096      92970 2024-01-09 08:06:00  Ранний завтрак    240   \n",
       "3  6916860058096      92970 2024-01-09 08:06:00  Ранний завтрак    240   \n",
       "4  6916860058096      92971 2024-01-09 08:07:00  Ранний завтрак    240   \n",
       "\n",
       "                     good  total_chek  price  pr_bez_nds  avg_price  profit  \\\n",
       "0       Яичница с беконом      181.00  45.00       37.50      22.95   14.55   \n",
       "1        Сосиски отварные      181.00  65.00       54.17      23.78   30.39   \n",
       "2  Каша овсяная на молоке      181.00  65.00       54.17      13.75   40.42   \n",
       "3    Хлеб ржано-пшеничный      181.00   6.00        5.00       1.84    3.16   \n",
       "4  Каша рисовая на молоке      145.00  65.00       54.17      17.42   36.75   \n",
       "\n",
       "   amount  position_good  summa payment           check_unique  \\\n",
       "0    1.00              1 181.00    card  92970 - 6916860058096   \n",
       "1    1.00              2 181.00    card  92970 - 6916860058096   \n",
       "2    1.00              3 181.00    card  92970 - 6916860058096   \n",
       "3    1.00              4 181.00    card  92970 - 6916860058096   \n",
       "4    1.00              1 145.00    card  92971 - 6916860058096   \n",
       "\n",
       "            group         on-group seasons      day  hour       date  revenue  \\\n",
       "0         Завтрак          Яичница    Зима  Вторник     8 2024-01-09    37.50   \n",
       "1  Основное блюдо  Колбаски разные    Зима  Вторник     8 2024-01-09    54.17   \n",
       "2         Завтрак             Каши    Зима  Вторник     8 2024-01-09    54.17   \n",
       "3            Хлеб             Хлеб    Зима  Вторник     8 2024-01-09     5.00   \n",
       "4         Завтрак             Каши    Зима  Вторник     8 2024-01-09    54.17   \n",
       "\n",
       "     mnth      quart  \n",
       "0  Январь  1 Квартал  \n",
       "1  Январь  1 Квартал  \n",
       "2  Январь  1 Квартал  \n",
       "3  Январь  1 Квартал  \n",
       "4  Январь  1 Квартал  "
      ]
     },
     "execution_count": 205,
     "metadata": {},
     "output_type": "execute_result"
    }
   ],
   "source": [
    "df_filtered.head()"
   ]
  },
  {
   "cell_type": "code",
   "execution_count": 206,
   "metadata": {},
   "outputs": [
    {
     "data": {
      "text/plain": [
       "{'whiskers': [<matplotlib.lines.Line2D at 0x22347255e50>,\n",
       "  <matplotlib.lines.Line2D at 0x22347255f90>],\n",
       " 'caps': [<matplotlib.lines.Line2D at 0x223472560d0>,\n",
       "  <matplotlib.lines.Line2D at 0x22347256210>],\n",
       " 'boxes': [<matplotlib.lines.Line2D at 0x22347255d10>],\n",
       " 'medians': [<matplotlib.lines.Line2D at 0x22347256350>],\n",
       " 'fliers': [<matplotlib.lines.Line2D at 0x22347256490>],\n",
       " 'means': []}"
      ]
     },
     "execution_count": 206,
     "metadata": {},
     "output_type": "execute_result"
    },
    {
     "data": {
      "image/png": "[encoded data removed]",
      "text/plain": [
       "<Figure size 640x480 with 1 Axes>"
      ]
     },
     "metadata": {},
     "output_type": "display_data"
    }
   ],
   "source": [
    "plt.boxplot(df_filtered['price'])"
   ]
  },
  {
   "cell_type": "code",
   "execution_count": 207,
   "metadata": {},
   "outputs": [],
   "source": [
    "df_filtered.to_csv(r'D:\\Projects\\Cafe BI\\fact_table_corr.csv', index=False)"
   ]
  },
  {
   "cell_type": "code",
   "execution_count": 208,
   "metadata": {},
   "outputs": [
    {
     "data": {
      "text/plain": [
       "count   482,930.00\n",
       "mean         79.56\n",
       "std          60.67\n",
       "min           2.00\n",
       "25%          40.00\n",
       "50%          65.00\n",
       "75%         100.00\n",
       "max         350.00\n",
       "Name: price, dtype: float64"
      ]
     },
     "execution_count": 208,
     "metadata": {},
     "output_type": "execute_result"
    }
   ],
   "source": [
    "df_filtered['price'].describe()"
   ]
  },
  {
   "cell_type": "code",
   "execution_count": 209,
   "metadata": {},
   "outputs": [],
   "source": [
    "df_anomaly = df[df['good'].isin(get_out)]"
   ]
  },
  {
   "cell_type": "code",
   "execution_count": null,
   "metadata": {},
   "outputs": [],
   "source": [
    "#df_anomaly.to_csv('anomaly_table.csv', index=False)"
   ]
  },
  {
   "cell_type": "code",
   "execution_count": null,
   "metadata": {},
   "outputs": [],
   "source": [
    "#df_filtered.to_pickle(r'D:\\Projects\\Cafe db\\filtered_data')"
   ]
  },
  {
   "cell_type": "code",
   "execution_count": 212,
   "metadata": {},
   "outputs": [
    {
     "name": "stderr",
     "output_type": "stream",
     "text": [
      "C:\\Users\\Lenovo\\AppData\\Local\\Temp\\ipykernel_10476\\3030223079.py:1: FutureWarning: The default of observed=False is deprecated and will be changed to True in a future version of pandas. Pass observed=False to retain current behavior or observed=True to adopt the future default and silence this warning.\n",
      "  df_filtered.groupby('mnth')['check_unique'].count()\n"
     ]
    },
    {
     "data": {
      "text/plain": [
       "mnth\n",
       "Январь      41376\n",
       "Февраль     48587\n",
       "Март        48640\n",
       "Апрель      51291\n",
       "Май         47208\n",
       "Июнь        40451\n",
       "Июль        47891\n",
       "Август      46837\n",
       "Сентябрь    51239\n",
       "Октябрь     59410\n",
       "Ноябрь          0\n",
       "Декабрь         0\n",
       "Name: check_unique, dtype: int64"
      ]
     },
     "execution_count": 212,
     "metadata": {},
     "output_type": "execute_result"
    }
   ],
   "source": [
    "df_filtered.groupby('mnth')['check_unique'].count()"
   ]
  },
  {
   "cell_type": "code",
   "execution_count": 213,
   "metadata": {},
   "outputs": [
    {
     "data": {
      "text/plain": [
       "Index(['rnm', 'num_check', 'datetime', 'time_eat', 'smena', 'good',\n",
       "       'total_chek', 'price', 'pr_bez_nds', 'avg_price', 'profit', 'amount',\n",
       "       'position_good', 'summa', 'payment', 'check_unique', 'group',\n",
       "       'on-group', 'seasons', 'day', 'hour', 'date', 'revenue', 'mnth',\n",
       "       'quart'],\n",
       "      dtype='object')"
      ]
     },
     "execution_count": 213,
     "metadata": {},
     "output_type": "execute_result"
    }
   ],
   "source": [
    "df_filtered.columns"
   ]
  }
 ],
 "metadata": {
  "kernelspec": {
   "display_name": "Python 3",
   "language": "python",
   "name": "python3"
  },
  "language_info": {
   "codemirror_mode": {
    "name": "ipython",
    "version": 3
   },
   "file_extension": ".py",
   "mimetype": "text/x-python",
   "name": "python",
   "nbconvert_exporter": "python",
   "pygments_lexer": "ipython3",
   "version": "3.13.0"
  }
 },
 "nbformat": 4,
 "nbformat_minor": 2
}
